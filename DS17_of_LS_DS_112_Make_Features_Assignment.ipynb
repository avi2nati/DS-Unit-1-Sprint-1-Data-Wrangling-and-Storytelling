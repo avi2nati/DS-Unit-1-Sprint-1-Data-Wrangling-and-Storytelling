{
  "nbformat": 4,
  "nbformat_minor": 0,
  "metadata": {
    "colab": {
      "name": "Copy of LS_DS_112_Make_Features_Assignment.ipynb",
      "provenance": [],
      "collapsed_sections": [],
      "include_colab_link": true
    },
    "kernelspec": {
      "display_name": "Python 3",
      "language": "python",
      "name": "python3"
    },
    "language_info": {
      "codemirror_mode": {
        "name": "ipython",
        "version": 3
      },
      "file_extension": ".py",
      "mimetype": "text/x-python",
      "name": "python",
      "nbconvert_exporter": "python",
      "pygments_lexer": "ipython3",
      "version": "3.7.1"
    }
  },
  "cells": [
    {
      "cell_type": "markdown",
      "metadata": {
        "id": "view-in-github",
        "colab_type": "text"
      },
      "source": [
        "<a href=\"https://colab.research.google.com/github/avi2nati/DS-Unit-1-Sprint-1-Data-Wrangling-and-Storytelling/blob/master/DS17_of_LS_DS_112_Make_Features_Assignment.ipynb\" target=\"_parent\"><img src=\"https://colab.research.google.com/assets/colab-badge.svg\" alt=\"Open In Colab\"/></a>"
      ]
    },
    {
      "cell_type": "markdown",
      "metadata": {
        "id": "SnDJqBLi0FYW",
        "colab_type": "text"
      },
      "source": [
        "<img align=\"left\" src=\"https://lever-client-logos.s3.amazonaws.com/864372b1-534c-480e-acd5-9711f850815c-1524247202159.png\" width=200> "
      ]
    },
    {
      "cell_type": "markdown",
      "metadata": {
        "id": "W5GjI1z5yNG4",
        "colab_type": "text"
      },
      "source": [
        "# Assignment:\n",
        "\n",
        "- Replicate the lesson code.\n",
        "\n",
        " - This means that if you haven't followed along already, type out the things that we did in class. Forcing your fingers to hit each key will help you internalize the syntax of what we're doing. Make sure you understand each line of code that you're writing, google things that you don't fully understand.\n",
        " - [Lambda Learning Method for DS - By Ryan Herr](https://docs.google.com/document/d/1ubOw9B3Hfip27hF2ZFnW3a3z9xAgrUDRReOEo-FHCVs/edit?usp=sharing)\n",
        "- Convert the `term` column from string to integer.\n",
        "- Make a column named `loan_status_is_great`. It should contain the integer 1 if `loan_status` is \"Current\" or \"Fully Paid.\" Else it should contain the integer 0.\n",
        "- Make `last_pymnt_d_month` and `last_pymnt_d_year` columns."
      ]
    },
    {
      "cell_type": "code",
      "metadata": {
        "id": "AazB4eFwym2p",
        "colab_type": "code",
        "colab": {}
      },
      "source": [
        "##### Begin Working Here #####\n",
        "import pandas as pd\n",
        "import numpy as np\n",
        "pd.set_option('display.max_rows', 150)\n",
        "pd.set_option('display.max_columns', 100)"
      ],
      "execution_count": 0,
      "outputs": []
    },
    {
      "cell_type": "code",
      "metadata": {
        "id": "urxSxq1fvuXW",
        "colab_type": "code",
        "outputId": "5c59b500-7b81-4728-ef0a-bca5ac8850eb",
        "colab": {
          "base_uri": "https://localhost:8080/",
          "height": 196
        }
      },
      "source": [
        "!wget https://resources.lendingclub.com/LoanStats_2018Q4.csv.zip "
      ],
      "execution_count": 0,
      "outputs": [
        {
          "output_type": "stream",
          "text": [
            "--2020-06-03 00:01:00--  https://resources.lendingclub.com/LoanStats_2018Q4.csv.zip\n",
            "Resolving resources.lendingclub.com (resources.lendingclub.com)... 52.89.160.109, 35.163.140.110, 44.228.179.66\n",
            "Connecting to resources.lendingclub.com (resources.lendingclub.com)|52.89.160.109|:443... connected.\n",
            "HTTP request sent, awaiting response... 200 OK\n",
            "Length: unspecified [application/zip]\n",
            "Saving to: ‘LoanStats_2018Q4.csv.zip.8’\n",
            "\n",
            "LoanStats_2018Q4.cs     [             <=>    ]  22.10M  1.98MB/s    in 11s     \n",
            "\n",
            "2020-06-03 00:01:12 (2.00 MB/s) - ‘LoanStats_2018Q4.csv.zip.8’ saved [23170772]\n",
            "\n"
          ],
          "name": "stdout"
        }
      ]
    },
    {
      "cell_type": "code",
      "metadata": {
        "id": "XGCykg7YnrkQ",
        "colab_type": "code",
        "outputId": "80f88b6c-7047-4547-8835-313bdb34acc4",
        "colab": {
          "base_uri": "https://localhost:8080/",
          "height": 228
        }
      },
      "source": [
        " !ls\n",
        " !unzip LoanStats_2018Q4.csv.zip"
      ],
      "execution_count": 0,
      "outputs": [
        {
          "output_type": "stream",
          "text": [
            "aisles.csv\t\t    LoanStats_2018Q4.csv.zip.5\n",
            "departments.csv\t\t    LoanStats_2018Q4.csv.zip.6\n",
            "LoanStats_2018Q4.csv\t    LoanStats_2018Q4.csv.zip.7\n",
            "LoanStats_2018Q4.csv.zip    order_products__prior.csv\n",
            "LoanStats_2018Q4.csv.zip.1  order_products__train.csv\n",
            "LoanStats_2018Q4.csv.zip.2  orders.csv\n",
            "LoanStats_2018Q4.csv.zip.3  products.csv\n",
            "LoanStats_2018Q4.csv.zip.4\n",
            "Archive:  LoanStats_2018Q4.csv.zip\n",
            "replace LoanStats_2018Q4.csv? [y]es, [n]o, [A]ll, [N]one, [r]ename: 1\n",
            "error:  invalid response [1]\n",
            "replace LoanStats_2018Q4.csv? [y]es, [n]o, [A]ll, [N]one, [r]ename: yes\n",
            "  inflating: LoanStats_2018Q4.csv    \n"
          ],
          "name": "stdout"
        }
      ]
    },
    {
      "cell_type": "code",
      "metadata": {
        "id": "8VtQT9YH7Fnp",
        "colab_type": "code",
        "outputId": "104cc736-41cb-4dd1-8f94-efaaccd44b8c",
        "colab": {
          "base_uri": "https://localhost:8080/",
          "height": 368
        }
      },
      "source": [
        "df = pd.read_csv('LoanStats_2018Q4.csv', header=1)\n",
        "df.head()\n"
      ],
      "execution_count": 0,
      "outputs": [
        {
          "output_type": "stream",
          "text": [
            "/usr/local/lib/python3.6/dist-packages/IPython/core/interactiveshell.py:2718: DtypeWarning: Columns (0) have mixed types.Specify dtype option on import or set low_memory=False.\n",
            "  interactivity=interactivity, compiler=compiler, result=result)\n"
          ],
          "name": "stderr"
        },
        {
          "output_type": "execute_result",
          "data": {
            "text/html": [
              "<div>\n",
              "<style scoped>\n",
              "    .dataframe tbody tr th:only-of-type {\n",
              "        vertical-align: middle;\n",
              "    }\n",
              "\n",
              "    .dataframe tbody tr th {\n",
              "        vertical-align: top;\n",
              "    }\n",
              "\n",
              "    .dataframe thead th {\n",
              "        text-align: right;\n",
              "    }\n",
              "</style>\n",
              "<table border=\"1\" class=\"dataframe\">\n",
              "  <thead>\n",
              "    <tr style=\"text-align: right;\">\n",
              "      <th></th>\n",
              "      <th>id</th>\n",
              "      <th>member_id</th>\n",
              "      <th>loan_amnt</th>\n",
              "      <th>funded_amnt</th>\n",
              "      <th>funded_amnt_inv</th>\n",
              "      <th>term</th>\n",
              "      <th>int_rate</th>\n",
              "      <th>installment</th>\n",
              "      <th>grade</th>\n",
              "      <th>sub_grade</th>\n",
              "      <th>emp_title</th>\n",
              "      <th>emp_length</th>\n",
              "      <th>home_ownership</th>\n",
              "      <th>annual_inc</th>\n",
              "      <th>verification_status</th>\n",
              "      <th>issue_d</th>\n",
              "      <th>loan_status</th>\n",
              "      <th>pymnt_plan</th>\n",
              "      <th>url</th>\n",
              "      <th>desc</th>\n",
              "      <th>purpose</th>\n",
              "      <th>title</th>\n",
              "      <th>zip_code</th>\n",
              "      <th>addr_state</th>\n",
              "      <th>dti</th>\n",
              "      <th>delinq_2yrs</th>\n",
              "      <th>earliest_cr_line</th>\n",
              "      <th>inq_last_6mths</th>\n",
              "      <th>mths_since_last_delinq</th>\n",
              "      <th>mths_since_last_record</th>\n",
              "      <th>open_acc</th>\n",
              "      <th>pub_rec</th>\n",
              "      <th>revol_bal</th>\n",
              "      <th>revol_util</th>\n",
              "      <th>total_acc</th>\n",
              "      <th>initial_list_status</th>\n",
              "      <th>out_prncp</th>\n",
              "      <th>out_prncp_inv</th>\n",
              "      <th>total_pymnt</th>\n",
              "      <th>total_pymnt_inv</th>\n",
              "      <th>total_rec_prncp</th>\n",
              "      <th>total_rec_int</th>\n",
              "      <th>total_rec_late_fee</th>\n",
              "      <th>recoveries</th>\n",
              "      <th>collection_recovery_fee</th>\n",
              "      <th>last_pymnt_d</th>\n",
              "      <th>last_pymnt_amnt</th>\n",
              "      <th>next_pymnt_d</th>\n",
              "      <th>last_credit_pull_d</th>\n",
              "      <th>collections_12_mths_ex_med</th>\n",
              "      <th>...</th>\n",
              "      <th>num_il_tl</th>\n",
              "      <th>num_op_rev_tl</th>\n",
              "      <th>num_rev_accts</th>\n",
              "      <th>num_rev_tl_bal_gt_0</th>\n",
              "      <th>num_sats</th>\n",
              "      <th>num_tl_120dpd_2m</th>\n",
              "      <th>num_tl_30dpd</th>\n",
              "      <th>num_tl_90g_dpd_24m</th>\n",
              "      <th>num_tl_op_past_12m</th>\n",
              "      <th>pct_tl_nvr_dlq</th>\n",
              "      <th>percent_bc_gt_75</th>\n",
              "      <th>pub_rec_bankruptcies</th>\n",
              "      <th>tax_liens</th>\n",
              "      <th>tot_hi_cred_lim</th>\n",
              "      <th>total_bal_ex_mort</th>\n",
              "      <th>total_bc_limit</th>\n",
              "      <th>total_il_high_credit_limit</th>\n",
              "      <th>revol_bal_joint</th>\n",
              "      <th>sec_app_earliest_cr_line</th>\n",
              "      <th>sec_app_inq_last_6mths</th>\n",
              "      <th>sec_app_mort_acc</th>\n",
              "      <th>sec_app_open_acc</th>\n",
              "      <th>sec_app_revol_util</th>\n",
              "      <th>sec_app_open_act_il</th>\n",
              "      <th>sec_app_num_rev_accts</th>\n",
              "      <th>sec_app_chargeoff_within_12_mths</th>\n",
              "      <th>sec_app_collections_12_mths_ex_med</th>\n",
              "      <th>sec_app_mths_since_last_major_derog</th>\n",
              "      <th>hardship_flag</th>\n",
              "      <th>hardship_type</th>\n",
              "      <th>hardship_reason</th>\n",
              "      <th>hardship_status</th>\n",
              "      <th>deferral_term</th>\n",
              "      <th>hardship_amount</th>\n",
              "      <th>hardship_start_date</th>\n",
              "      <th>hardship_end_date</th>\n",
              "      <th>payment_plan_start_date</th>\n",
              "      <th>hardship_length</th>\n",
              "      <th>hardship_dpd</th>\n",
              "      <th>hardship_loan_status</th>\n",
              "      <th>orig_projected_additional_accrued_interest</th>\n",
              "      <th>hardship_payoff_balance_amount</th>\n",
              "      <th>hardship_last_payment_amount</th>\n",
              "      <th>debt_settlement_flag</th>\n",
              "      <th>debt_settlement_flag_date</th>\n",
              "      <th>settlement_status</th>\n",
              "      <th>settlement_date</th>\n",
              "      <th>settlement_amount</th>\n",
              "      <th>settlement_percentage</th>\n",
              "      <th>settlement_term</th>\n",
              "    </tr>\n",
              "  </thead>\n",
              "  <tbody>\n",
              "    <tr>\n",
              "      <th>0</th>\n",
              "      <td>NaN</td>\n",
              "      <td>NaN</td>\n",
              "      <td>20000.0</td>\n",
              "      <td>20000.0</td>\n",
              "      <td>20000.0</td>\n",
              "      <td>36 months</td>\n",
              "      <td>14.47%</td>\n",
              "      <td>688.13</td>\n",
              "      <td>C</td>\n",
              "      <td>C2</td>\n",
              "      <td>bus driver</td>\n",
              "      <td>4 years</td>\n",
              "      <td>OWN</td>\n",
              "      <td>52000.0</td>\n",
              "      <td>Source Verified</td>\n",
              "      <td>Dec-2018</td>\n",
              "      <td>Charged Off</td>\n",
              "      <td>n</td>\n",
              "      <td>NaN</td>\n",
              "      <td>NaN</td>\n",
              "      <td>debt_consolidation</td>\n",
              "      <td>Debt consolidation</td>\n",
              "      <td>681xx</td>\n",
              "      <td>NE</td>\n",
              "      <td>30.65</td>\n",
              "      <td>1.0</td>\n",
              "      <td>Jun-1979</td>\n",
              "      <td>2.0</td>\n",
              "      <td>15.0</td>\n",
              "      <td>NaN</td>\n",
              "      <td>6.0</td>\n",
              "      <td>0.0</td>\n",
              "      <td>15048.0</td>\n",
              "      <td>73%</td>\n",
              "      <td>22.0</td>\n",
              "      <td>w</td>\n",
              "      <td>0.00</td>\n",
              "      <td>0.00</td>\n",
              "      <td>8169.130000</td>\n",
              "      <td>8169.13</td>\n",
              "      <td>5731.54</td>\n",
              "      <td>2437.59</td>\n",
              "      <td>0.0</td>\n",
              "      <td>0.0</td>\n",
              "      <td>0.0</td>\n",
              "      <td>Feb-2020</td>\n",
              "      <td>0.00</td>\n",
              "      <td>NaN</td>\n",
              "      <td>Mar-2020</td>\n",
              "      <td>0.0</td>\n",
              "      <td>...</td>\n",
              "      <td>8.0</td>\n",
              "      <td>4.0</td>\n",
              "      <td>14.0</td>\n",
              "      <td>4.0</td>\n",
              "      <td>6.0</td>\n",
              "      <td>NaN</td>\n",
              "      <td>0.0</td>\n",
              "      <td>0.0</td>\n",
              "      <td>2.0</td>\n",
              "      <td>95.0</td>\n",
              "      <td>50.0</td>\n",
              "      <td>0.0</td>\n",
              "      <td>0.0</td>\n",
              "      <td>61699.0</td>\n",
              "      <td>33157.0</td>\n",
              "      <td>20700.0</td>\n",
              "      <td>40999.0</td>\n",
              "      <td>NaN</td>\n",
              "      <td>NaN</td>\n",
              "      <td>NaN</td>\n",
              "      <td>NaN</td>\n",
              "      <td>NaN</td>\n",
              "      <td>NaN</td>\n",
              "      <td>NaN</td>\n",
              "      <td>NaN</td>\n",
              "      <td>NaN</td>\n",
              "      <td>NaN</td>\n",
              "      <td>NaN</td>\n",
              "      <td>NaN</td>\n",
              "      <td>NaN</td>\n",
              "      <td>NaN</td>\n",
              "      <td>NaN</td>\n",
              "      <td>NaN</td>\n",
              "      <td>688.13</td>\n",
              "      <td>NaN</td>\n",
              "      <td>NaN</td>\n",
              "      <td>NaN</td>\n",
              "      <td>NaN</td>\n",
              "      <td>NaN</td>\n",
              "      <td>NaN</td>\n",
              "      <td>0.0</td>\n",
              "      <td>0.0</td>\n",
              "      <td>688.13</td>\n",
              "      <td>N</td>\n",
              "      <td>NaN</td>\n",
              "      <td>NaN</td>\n",
              "      <td>NaN</td>\n",
              "      <td>NaN</td>\n",
              "      <td>NaN</td>\n",
              "      <td>NaN</td>\n",
              "    </tr>\n",
              "    <tr>\n",
              "      <th>1</th>\n",
              "      <td>NaN</td>\n",
              "      <td>NaN</td>\n",
              "      <td>16000.0</td>\n",
              "      <td>16000.0</td>\n",
              "      <td>16000.0</td>\n",
              "      <td>36 months</td>\n",
              "      <td>14.47%</td>\n",
              "      <td>550.51</td>\n",
              "      <td>C</td>\n",
              "      <td>C2</td>\n",
              "      <td>Carpenter</td>\n",
              "      <td>10+ years</td>\n",
              "      <td>RENT</td>\n",
              "      <td>150000.0</td>\n",
              "      <td>Source Verified</td>\n",
              "      <td>Dec-2018</td>\n",
              "      <td>Current</td>\n",
              "      <td>n</td>\n",
              "      <td>NaN</td>\n",
              "      <td>NaN</td>\n",
              "      <td>other</td>\n",
              "      <td>Other</td>\n",
              "      <td>917xx</td>\n",
              "      <td>CA</td>\n",
              "      <td>17.94</td>\n",
              "      <td>0.0</td>\n",
              "      <td>Nov-2001</td>\n",
              "      <td>1.0</td>\n",
              "      <td>NaN</td>\n",
              "      <td>NaN</td>\n",
              "      <td>24.0</td>\n",
              "      <td>0.0</td>\n",
              "      <td>43721.0</td>\n",
              "      <td>59.2%</td>\n",
              "      <td>29.0</td>\n",
              "      <td>w</td>\n",
              "      <td>9726.53</td>\n",
              "      <td>9726.53</td>\n",
              "      <td>8788.870000</td>\n",
              "      <td>8788.87</td>\n",
              "      <td>6273.47</td>\n",
              "      <td>2515.40</td>\n",
              "      <td>0.0</td>\n",
              "      <td>0.0</td>\n",
              "      <td>0.0</td>\n",
              "      <td>May-2020</td>\n",
              "      <td>0.00</td>\n",
              "      <td>Jun-2020</td>\n",
              "      <td>May-2020</td>\n",
              "      <td>0.0</td>\n",
              "      <td>...</td>\n",
              "      <td>4.0</td>\n",
              "      <td>22.0</td>\n",
              "      <td>25.0</td>\n",
              "      <td>19.0</td>\n",
              "      <td>24.0</td>\n",
              "      <td>0.0</td>\n",
              "      <td>0.0</td>\n",
              "      <td>0.0</td>\n",
              "      <td>0.0</td>\n",
              "      <td>100.0</td>\n",
              "      <td>85.7</td>\n",
              "      <td>0.0</td>\n",
              "      <td>0.0</td>\n",
              "      <td>116647.0</td>\n",
              "      <td>57465.0</td>\n",
              "      <td>32100.0</td>\n",
              "      <td>42847.0</td>\n",
              "      <td>NaN</td>\n",
              "      <td>NaN</td>\n",
              "      <td>NaN</td>\n",
              "      <td>NaN</td>\n",
              "      <td>NaN</td>\n",
              "      <td>NaN</td>\n",
              "      <td>NaN</td>\n",
              "      <td>NaN</td>\n",
              "      <td>NaN</td>\n",
              "      <td>NaN</td>\n",
              "      <td>NaN</td>\n",
              "      <td>N</td>\n",
              "      <td>NaN</td>\n",
              "      <td>NaN</td>\n",
              "      <td>NaN</td>\n",
              "      <td>NaN</td>\n",
              "      <td>NaN</td>\n",
              "      <td>NaN</td>\n",
              "      <td>NaN</td>\n",
              "      <td>NaN</td>\n",
              "      <td>NaN</td>\n",
              "      <td>NaN</td>\n",
              "      <td>NaN</td>\n",
              "      <td>NaN</td>\n",
              "      <td>NaN</td>\n",
              "      <td>NaN</td>\n",
              "      <td>N</td>\n",
              "      <td>NaN</td>\n",
              "      <td>NaN</td>\n",
              "      <td>NaN</td>\n",
              "      <td>NaN</td>\n",
              "      <td>NaN</td>\n",
              "      <td>NaN</td>\n",
              "    </tr>\n",
              "    <tr>\n",
              "      <th>2</th>\n",
              "      <td>NaN</td>\n",
              "      <td>NaN</td>\n",
              "      <td>8425.0</td>\n",
              "      <td>8425.0</td>\n",
              "      <td>8425.0</td>\n",
              "      <td>36 months</td>\n",
              "      <td>27.27%</td>\n",
              "      <td>345.18</td>\n",
              "      <td>E</td>\n",
              "      <td>E5</td>\n",
              "      <td>Senior Director Risk Management</td>\n",
              "      <td>3 years</td>\n",
              "      <td>MORTGAGE</td>\n",
              "      <td>450000.0</td>\n",
              "      <td>Verified</td>\n",
              "      <td>Dec-2018</td>\n",
              "      <td>Fully Paid</td>\n",
              "      <td>n</td>\n",
              "      <td>NaN</td>\n",
              "      <td>NaN</td>\n",
              "      <td>credit_card</td>\n",
              "      <td>Credit card refinancing</td>\n",
              "      <td>020xx</td>\n",
              "      <td>MA</td>\n",
              "      <td>12.37</td>\n",
              "      <td>0.0</td>\n",
              "      <td>Oct-1997</td>\n",
              "      <td>0.0</td>\n",
              "      <td>NaN</td>\n",
              "      <td>NaN</td>\n",
              "      <td>21.0</td>\n",
              "      <td>0.0</td>\n",
              "      <td>36812.0</td>\n",
              "      <td>65.7%</td>\n",
              "      <td>37.0</td>\n",
              "      <td>w</td>\n",
              "      <td>0.00</td>\n",
              "      <td>0.00</td>\n",
              "      <td>8735.148975</td>\n",
              "      <td>8735.15</td>\n",
              "      <td>8425.00</td>\n",
              "      <td>310.15</td>\n",
              "      <td>0.0</td>\n",
              "      <td>0.0</td>\n",
              "      <td>0.0</td>\n",
              "      <td>Feb-2019</td>\n",
              "      <td>8754.30</td>\n",
              "      <td>NaN</td>\n",
              "      <td>Mar-2020</td>\n",
              "      <td>0.0</td>\n",
              "      <td>...</td>\n",
              "      <td>16.0</td>\n",
              "      <td>13.0</td>\n",
              "      <td>17.0</td>\n",
              "      <td>8.0</td>\n",
              "      <td>21.0</td>\n",
              "      <td>0.0</td>\n",
              "      <td>0.0</td>\n",
              "      <td>0.0</td>\n",
              "      <td>2.0</td>\n",
              "      <td>100.0</td>\n",
              "      <td>50.0</td>\n",
              "      <td>0.0</td>\n",
              "      <td>0.0</td>\n",
              "      <td>768304.0</td>\n",
              "      <td>189194.0</td>\n",
              "      <td>45800.0</td>\n",
              "      <td>189054.0</td>\n",
              "      <td>141905.0</td>\n",
              "      <td>Jun-2013</td>\n",
              "      <td>0.0</td>\n",
              "      <td>1.0</td>\n",
              "      <td>4.0</td>\n",
              "      <td>77.4</td>\n",
              "      <td>1.0</td>\n",
              "      <td>4.0</td>\n",
              "      <td>0.0</td>\n",
              "      <td>0.0</td>\n",
              "      <td>NaN</td>\n",
              "      <td>N</td>\n",
              "      <td>NaN</td>\n",
              "      <td>NaN</td>\n",
              "      <td>NaN</td>\n",
              "      <td>NaN</td>\n",
              "      <td>NaN</td>\n",
              "      <td>NaN</td>\n",
              "      <td>NaN</td>\n",
              "      <td>NaN</td>\n",
              "      <td>NaN</td>\n",
              "      <td>NaN</td>\n",
              "      <td>NaN</td>\n",
              "      <td>NaN</td>\n",
              "      <td>NaN</td>\n",
              "      <td>NaN</td>\n",
              "      <td>N</td>\n",
              "      <td>NaN</td>\n",
              "      <td>NaN</td>\n",
              "      <td>NaN</td>\n",
              "      <td>NaN</td>\n",
              "      <td>NaN</td>\n",
              "      <td>NaN</td>\n",
              "    </tr>\n",
              "    <tr>\n",
              "      <th>3</th>\n",
              "      <td>NaN</td>\n",
              "      <td>NaN</td>\n",
              "      <td>10000.0</td>\n",
              "      <td>10000.0</td>\n",
              "      <td>10000.0</td>\n",
              "      <td>60 months</td>\n",
              "      <td>12.98%</td>\n",
              "      <td>227.43</td>\n",
              "      <td>B</td>\n",
              "      <td>B5</td>\n",
              "      <td>Printer</td>\n",
              "      <td>9 years</td>\n",
              "      <td>RENT</td>\n",
              "      <td>60000.0</td>\n",
              "      <td>Not Verified</td>\n",
              "      <td>Dec-2018</td>\n",
              "      <td>Current</td>\n",
              "      <td>n</td>\n",
              "      <td>NaN</td>\n",
              "      <td>NaN</td>\n",
              "      <td>credit_card</td>\n",
              "      <td>Credit card refinancing</td>\n",
              "      <td>660xx</td>\n",
              "      <td>KS</td>\n",
              "      <td>14.90</td>\n",
              "      <td>0.0</td>\n",
              "      <td>May-2007</td>\n",
              "      <td>0.0</td>\n",
              "      <td>NaN</td>\n",
              "      <td>112.0</td>\n",
              "      <td>7.0</td>\n",
              "      <td>1.0</td>\n",
              "      <td>10677.0</td>\n",
              "      <td>54.2%</td>\n",
              "      <td>12.0</td>\n",
              "      <td>w</td>\n",
              "      <td>7787.21</td>\n",
              "      <td>7787.21</td>\n",
              "      <td>3805.020000</td>\n",
              "      <td>3805.02</td>\n",
              "      <td>2212.79</td>\n",
              "      <td>1592.23</td>\n",
              "      <td>0.0</td>\n",
              "      <td>0.0</td>\n",
              "      <td>0.0</td>\n",
              "      <td>May-2020</td>\n",
              "      <td>227.43</td>\n",
              "      <td>Jun-2020</td>\n",
              "      <td>May-2020</td>\n",
              "      <td>0.0</td>\n",
              "      <td>...</td>\n",
              "      <td>6.0</td>\n",
              "      <td>5.0</td>\n",
              "      <td>6.0</td>\n",
              "      <td>5.0</td>\n",
              "      <td>7.0</td>\n",
              "      <td>0.0</td>\n",
              "      <td>0.0</td>\n",
              "      <td>0.0</td>\n",
              "      <td>1.0</td>\n",
              "      <td>100.0</td>\n",
              "      <td>33.3</td>\n",
              "      <td>1.0</td>\n",
              "      <td>0.0</td>\n",
              "      <td>36200.0</td>\n",
              "      <td>27595.0</td>\n",
              "      <td>13000.0</td>\n",
              "      <td>16500.0</td>\n",
              "      <td>NaN</td>\n",
              "      <td>NaN</td>\n",
              "      <td>NaN</td>\n",
              "      <td>NaN</td>\n",
              "      <td>NaN</td>\n",
              "      <td>NaN</td>\n",
              "      <td>NaN</td>\n",
              "      <td>NaN</td>\n",
              "      <td>NaN</td>\n",
              "      <td>NaN</td>\n",
              "      <td>NaN</td>\n",
              "      <td>N</td>\n",
              "      <td>NaN</td>\n",
              "      <td>NaN</td>\n",
              "      <td>NaN</td>\n",
              "      <td>NaN</td>\n",
              "      <td>NaN</td>\n",
              "      <td>NaN</td>\n",
              "      <td>NaN</td>\n",
              "      <td>NaN</td>\n",
              "      <td>NaN</td>\n",
              "      <td>NaN</td>\n",
              "      <td>NaN</td>\n",
              "      <td>NaN</td>\n",
              "      <td>NaN</td>\n",
              "      <td>NaN</td>\n",
              "      <td>N</td>\n",
              "      <td>NaN</td>\n",
              "      <td>NaN</td>\n",
              "      <td>NaN</td>\n",
              "      <td>NaN</td>\n",
              "      <td>NaN</td>\n",
              "      <td>NaN</td>\n",
              "    </tr>\n",
              "    <tr>\n",
              "      <th>4</th>\n",
              "      <td>NaN</td>\n",
              "      <td>NaN</td>\n",
              "      <td>30000.0</td>\n",
              "      <td>30000.0</td>\n",
              "      <td>30000.0</td>\n",
              "      <td>60 months</td>\n",
              "      <td>26.31%</td>\n",
              "      <td>903.73</td>\n",
              "      <td>E</td>\n",
              "      <td>E4</td>\n",
              "      <td>Casino Host</td>\n",
              "      <td>10+ years</td>\n",
              "      <td>OWN</td>\n",
              "      <td>62000.0</td>\n",
              "      <td>Source Verified</td>\n",
              "      <td>Dec-2018</td>\n",
              "      <td>Charged Off</td>\n",
              "      <td>n</td>\n",
              "      <td>NaN</td>\n",
              "      <td>NaN</td>\n",
              "      <td>debt_consolidation</td>\n",
              "      <td>Debt consolidation</td>\n",
              "      <td>920xx</td>\n",
              "      <td>CA</td>\n",
              "      <td>37.24</td>\n",
              "      <td>0.0</td>\n",
              "      <td>Oct-2007</td>\n",
              "      <td>0.0</td>\n",
              "      <td>NaN</td>\n",
              "      <td>86.0</td>\n",
              "      <td>15.0</td>\n",
              "      <td>1.0</td>\n",
              "      <td>18890.0</td>\n",
              "      <td>39.8%</td>\n",
              "      <td>36.0</td>\n",
              "      <td>w</td>\n",
              "      <td>0.00</td>\n",
              "      <td>0.00</td>\n",
              "      <td>2645.410000</td>\n",
              "      <td>2645.41</td>\n",
              "      <td>754.24</td>\n",
              "      <td>1891.17</td>\n",
              "      <td>0.0</td>\n",
              "      <td>0.0</td>\n",
              "      <td>0.0</td>\n",
              "      <td>Apr-2019</td>\n",
              "      <td>903.73</td>\n",
              "      <td>NaN</td>\n",
              "      <td>May-2020</td>\n",
              "      <td>0.0</td>\n",
              "      <td>...</td>\n",
              "      <td>20.0</td>\n",
              "      <td>13.0</td>\n",
              "      <td>16.0</td>\n",
              "      <td>5.0</td>\n",
              "      <td>15.0</td>\n",
              "      <td>0.0</td>\n",
              "      <td>0.0</td>\n",
              "      <td>0.0</td>\n",
              "      <td>1.0</td>\n",
              "      <td>100.0</td>\n",
              "      <td>14.3</td>\n",
              "      <td>1.0</td>\n",
              "      <td>0.0</td>\n",
              "      <td>138354.0</td>\n",
              "      <td>104590.0</td>\n",
              "      <td>36400.0</td>\n",
              "      <td>90854.0</td>\n",
              "      <td>NaN</td>\n",
              "      <td>NaN</td>\n",
              "      <td>NaN</td>\n",
              "      <td>NaN</td>\n",
              "      <td>NaN</td>\n",
              "      <td>NaN</td>\n",
              "      <td>NaN</td>\n",
              "      <td>NaN</td>\n",
              "      <td>NaN</td>\n",
              "      <td>NaN</td>\n",
              "      <td>NaN</td>\n",
              "      <td>N</td>\n",
              "      <td>NaN</td>\n",
              "      <td>NaN</td>\n",
              "      <td>NaN</td>\n",
              "      <td>NaN</td>\n",
              "      <td>NaN</td>\n",
              "      <td>NaN</td>\n",
              "      <td>NaN</td>\n",
              "      <td>NaN</td>\n",
              "      <td>NaN</td>\n",
              "      <td>NaN</td>\n",
              "      <td>NaN</td>\n",
              "      <td>NaN</td>\n",
              "      <td>NaN</td>\n",
              "      <td>NaN</td>\n",
              "      <td>N</td>\n",
              "      <td>NaN</td>\n",
              "      <td>NaN</td>\n",
              "      <td>NaN</td>\n",
              "      <td>NaN</td>\n",
              "      <td>NaN</td>\n",
              "      <td>NaN</td>\n",
              "    </tr>\n",
              "  </tbody>\n",
              "</table>\n",
              "<p>5 rows × 144 columns</p>\n",
              "</div>"
            ],
            "text/plain": [
              "    id  member_id  loan_amnt  funded_amnt  funded_amnt_inv        term  \\\n",
              "0  NaN        NaN    20000.0      20000.0          20000.0   36 months   \n",
              "1  NaN        NaN    16000.0      16000.0          16000.0   36 months   \n",
              "2  NaN        NaN     8425.0       8425.0           8425.0   36 months   \n",
              "3  NaN        NaN    10000.0      10000.0          10000.0   60 months   \n",
              "4  NaN        NaN    30000.0      30000.0          30000.0   60 months   \n",
              "\n",
              "  int_rate  installment grade sub_grade                        emp_title  \\\n",
              "0   14.47%       688.13     C        C2                       bus driver   \n",
              "1   14.47%       550.51     C        C2                        Carpenter   \n",
              "2   27.27%       345.18     E        E5  Senior Director Risk Management   \n",
              "3   12.98%       227.43     B        B5                          Printer   \n",
              "4   26.31%       903.73     E        E4                      Casino Host   \n",
              "\n",
              "  emp_length home_ownership  annual_inc verification_status   issue_d  \\\n",
              "0    4 years            OWN     52000.0     Source Verified  Dec-2018   \n",
              "1  10+ years           RENT    150000.0     Source Verified  Dec-2018   \n",
              "2    3 years       MORTGAGE    450000.0            Verified  Dec-2018   \n",
              "3    9 years           RENT     60000.0        Not Verified  Dec-2018   \n",
              "4  10+ years            OWN     62000.0     Source Verified  Dec-2018   \n",
              "\n",
              "   loan_status pymnt_plan  url  desc             purpose  \\\n",
              "0  Charged Off          n  NaN   NaN  debt_consolidation   \n",
              "1      Current          n  NaN   NaN               other   \n",
              "2   Fully Paid          n  NaN   NaN         credit_card   \n",
              "3      Current          n  NaN   NaN         credit_card   \n",
              "4  Charged Off          n  NaN   NaN  debt_consolidation   \n",
              "\n",
              "                     title zip_code addr_state    dti  delinq_2yrs  \\\n",
              "0       Debt consolidation    681xx         NE  30.65          1.0   \n",
              "1                    Other    917xx         CA  17.94          0.0   \n",
              "2  Credit card refinancing    020xx         MA  12.37          0.0   \n",
              "3  Credit card refinancing    660xx         KS  14.90          0.0   \n",
              "4       Debt consolidation    920xx         CA  37.24          0.0   \n",
              "\n",
              "  earliest_cr_line  inq_last_6mths  mths_since_last_delinq  \\\n",
              "0         Jun-1979             2.0                    15.0   \n",
              "1         Nov-2001             1.0                     NaN   \n",
              "2         Oct-1997             0.0                     NaN   \n",
              "3         May-2007             0.0                     NaN   \n",
              "4         Oct-2007             0.0                     NaN   \n",
              "\n",
              "   mths_since_last_record  open_acc  pub_rec  revol_bal revol_util  total_acc  \\\n",
              "0                     NaN       6.0      0.0    15048.0        73%       22.0   \n",
              "1                     NaN      24.0      0.0    43721.0      59.2%       29.0   \n",
              "2                     NaN      21.0      0.0    36812.0      65.7%       37.0   \n",
              "3                   112.0       7.0      1.0    10677.0      54.2%       12.0   \n",
              "4                    86.0      15.0      1.0    18890.0      39.8%       36.0   \n",
              "\n",
              "  initial_list_status  out_prncp  out_prncp_inv  total_pymnt  total_pymnt_inv  \\\n",
              "0                   w       0.00           0.00  8169.130000          8169.13   \n",
              "1                   w    9726.53        9726.53  8788.870000          8788.87   \n",
              "2                   w       0.00           0.00  8735.148975          8735.15   \n",
              "3                   w    7787.21        7787.21  3805.020000          3805.02   \n",
              "4                   w       0.00           0.00  2645.410000          2645.41   \n",
              "\n",
              "   total_rec_prncp  total_rec_int  total_rec_late_fee  recoveries  \\\n",
              "0          5731.54        2437.59                 0.0         0.0   \n",
              "1          6273.47        2515.40                 0.0         0.0   \n",
              "2          8425.00         310.15                 0.0         0.0   \n",
              "3          2212.79        1592.23                 0.0         0.0   \n",
              "4           754.24        1891.17                 0.0         0.0   \n",
              "\n",
              "   collection_recovery_fee last_pymnt_d  last_pymnt_amnt next_pymnt_d  \\\n",
              "0                      0.0     Feb-2020             0.00          NaN   \n",
              "1                      0.0     May-2020             0.00     Jun-2020   \n",
              "2                      0.0     Feb-2019          8754.30          NaN   \n",
              "3                      0.0     May-2020           227.43     Jun-2020   \n",
              "4                      0.0     Apr-2019           903.73          NaN   \n",
              "\n",
              "  last_credit_pull_d  collections_12_mths_ex_med  ...  num_il_tl  \\\n",
              "0           Mar-2020                         0.0  ...        8.0   \n",
              "1           May-2020                         0.0  ...        4.0   \n",
              "2           Mar-2020                         0.0  ...       16.0   \n",
              "3           May-2020                         0.0  ...        6.0   \n",
              "4           May-2020                         0.0  ...       20.0   \n",
              "\n",
              "   num_op_rev_tl num_rev_accts  num_rev_tl_bal_gt_0  num_sats  \\\n",
              "0            4.0          14.0                  4.0       6.0   \n",
              "1           22.0          25.0                 19.0      24.0   \n",
              "2           13.0          17.0                  8.0      21.0   \n",
              "3            5.0           6.0                  5.0       7.0   \n",
              "4           13.0          16.0                  5.0      15.0   \n",
              "\n",
              "  num_tl_120dpd_2m  num_tl_30dpd  num_tl_90g_dpd_24m  num_tl_op_past_12m  \\\n",
              "0              NaN           0.0                 0.0                 2.0   \n",
              "1              0.0           0.0                 0.0                 0.0   \n",
              "2              0.0           0.0                 0.0                 2.0   \n",
              "3              0.0           0.0                 0.0                 1.0   \n",
              "4              0.0           0.0                 0.0                 1.0   \n",
              "\n",
              "   pct_tl_nvr_dlq  percent_bc_gt_75  pub_rec_bankruptcies  tax_liens  \\\n",
              "0            95.0              50.0                   0.0        0.0   \n",
              "1           100.0              85.7                   0.0        0.0   \n",
              "2           100.0              50.0                   0.0        0.0   \n",
              "3           100.0              33.3                   1.0        0.0   \n",
              "4           100.0              14.3                   1.0        0.0   \n",
              "\n",
              "   tot_hi_cred_lim  total_bal_ex_mort  total_bc_limit  \\\n",
              "0          61699.0            33157.0         20700.0   \n",
              "1         116647.0            57465.0         32100.0   \n",
              "2         768304.0           189194.0         45800.0   \n",
              "3          36200.0            27595.0         13000.0   \n",
              "4         138354.0           104590.0         36400.0   \n",
              "\n",
              "   total_il_high_credit_limit  revol_bal_joint  sec_app_earliest_cr_line  \\\n",
              "0                     40999.0              NaN                       NaN   \n",
              "1                     42847.0              NaN                       NaN   \n",
              "2                    189054.0         141905.0                  Jun-2013   \n",
              "3                     16500.0              NaN                       NaN   \n",
              "4                     90854.0              NaN                       NaN   \n",
              "\n",
              "   sec_app_inq_last_6mths  sec_app_mort_acc  sec_app_open_acc  \\\n",
              "0                     NaN               NaN               NaN   \n",
              "1                     NaN               NaN               NaN   \n",
              "2                     0.0               1.0               4.0   \n",
              "3                     NaN               NaN               NaN   \n",
              "4                     NaN               NaN               NaN   \n",
              "\n",
              "   sec_app_revol_util  sec_app_open_act_il  sec_app_num_rev_accts  \\\n",
              "0                 NaN                  NaN                    NaN   \n",
              "1                 NaN                  NaN                    NaN   \n",
              "2                77.4                  1.0                    4.0   \n",
              "3                 NaN                  NaN                    NaN   \n",
              "4                 NaN                  NaN                    NaN   \n",
              "\n",
              "   sec_app_chargeoff_within_12_mths  sec_app_collections_12_mths_ex_med  \\\n",
              "0                               NaN                                 NaN   \n",
              "1                               NaN                                 NaN   \n",
              "2                               0.0                                 0.0   \n",
              "3                               NaN                                 NaN   \n",
              "4                               NaN                                 NaN   \n",
              "\n",
              "   sec_app_mths_since_last_major_derog  hardship_flag  hardship_type  \\\n",
              "0                                  NaN            NaN            NaN   \n",
              "1                                  NaN              N            NaN   \n",
              "2                                  NaN              N            NaN   \n",
              "3                                  NaN              N            NaN   \n",
              "4                                  NaN              N            NaN   \n",
              "\n",
              "   hardship_reason  hardship_status  deferral_term  hardship_amount  \\\n",
              "0              NaN              NaN            NaN           688.13   \n",
              "1              NaN              NaN            NaN              NaN   \n",
              "2              NaN              NaN            NaN              NaN   \n",
              "3              NaN              NaN            NaN              NaN   \n",
              "4              NaN              NaN            NaN              NaN   \n",
              "\n",
              "   hardship_start_date  hardship_end_date  payment_plan_start_date  \\\n",
              "0                  NaN                NaN                      NaN   \n",
              "1                  NaN                NaN                      NaN   \n",
              "2                  NaN                NaN                      NaN   \n",
              "3                  NaN                NaN                      NaN   \n",
              "4                  NaN                NaN                      NaN   \n",
              "\n",
              "   hardship_length  hardship_dpd  hardship_loan_status  \\\n",
              "0              NaN           NaN                   NaN   \n",
              "1              NaN           NaN                   NaN   \n",
              "2              NaN           NaN                   NaN   \n",
              "3              NaN           NaN                   NaN   \n",
              "4              NaN           NaN                   NaN   \n",
              "\n",
              "   orig_projected_additional_accrued_interest  hardship_payoff_balance_amount  \\\n",
              "0                                         0.0                             0.0   \n",
              "1                                         NaN                             NaN   \n",
              "2                                         NaN                             NaN   \n",
              "3                                         NaN                             NaN   \n",
              "4                                         NaN                             NaN   \n",
              "\n",
              "   hardship_last_payment_amount  debt_settlement_flag  \\\n",
              "0                        688.13                     N   \n",
              "1                           NaN                     N   \n",
              "2                           NaN                     N   \n",
              "3                           NaN                     N   \n",
              "4                           NaN                     N   \n",
              "\n",
              "   debt_settlement_flag_date  settlement_status  settlement_date  \\\n",
              "0                        NaN                NaN              NaN   \n",
              "1                        NaN                NaN              NaN   \n",
              "2                        NaN                NaN              NaN   \n",
              "3                        NaN                NaN              NaN   \n",
              "4                        NaN                NaN              NaN   \n",
              "\n",
              "   settlement_amount  settlement_percentage  settlement_term  \n",
              "0                NaN                    NaN              NaN  \n",
              "1                NaN                    NaN              NaN  \n",
              "2                NaN                    NaN              NaN  \n",
              "3                NaN                    NaN              NaN  \n",
              "4                NaN                    NaN              NaN  \n",
              "\n",
              "[5 rows x 144 columns]"
            ]
          },
          "metadata": {
            "tags": []
          },
          "execution_count": 242
        }
      ]
    },
    {
      "cell_type": "code",
      "metadata": {
        "id": "I5XnRTT7-u1T",
        "colab_type": "code",
        "outputId": "f247d863-95a1-4f5b-8877-8839a307c795",
        "colab": {
          "base_uri": "https://localhost:8080/",
          "height": 163
        }
      },
      "source": [
        "print(df.columns)"
      ],
      "execution_count": 0,
      "outputs": [
        {
          "output_type": "stream",
          "text": [
            "Index(['id', 'member_id', 'loan_amnt', 'funded_amnt', 'funded_amnt_inv',\n",
            "       'term', 'int_rate', 'installment', 'grade', 'sub_grade',\n",
            "       ...\n",
            "       'orig_projected_additional_accrued_interest',\n",
            "       'hardship_payoff_balance_amount', 'hardship_last_payment_amount',\n",
            "       'debt_settlement_flag', 'debt_settlement_flag_date',\n",
            "       'settlement_status', 'settlement_date', 'settlement_amount',\n",
            "       'settlement_percentage', 'settlement_term'],\n",
            "      dtype='object', length=144)\n"
          ],
          "name": "stdout"
        }
      ]
    },
    {
      "cell_type": "code",
      "metadata": {
        "id": "Z_X8ZFMpEbVi",
        "colab_type": "code",
        "outputId": "33b24ec7-3d37-4c6d-a106-4bddaf299348",
        "colab": {
          "base_uri": "https://localhost:8080/",
          "height": 33
        }
      },
      "source": [
        "(df.shape)\n"
      ],
      "execution_count": 0,
      "outputs": [
        {
          "output_type": "execute_result",
          "data": {
            "text/plain": [
              "(128414, 144)"
            ]
          },
          "metadata": {
            "tags": []
          },
          "execution_count": 243
        }
      ]
    },
    {
      "cell_type": "code",
      "metadata": {
        "id": "rH8jcjs9E3bv",
        "colab_type": "code",
        "outputId": "cb95aa11-a5f2-4d39-8fdc-cc50fadcb7c6",
        "colab": {
          "base_uri": "https://localhost:8080/",
          "height": 33
        }
      },
      "source": [
        "df['term'].dtype"
      ],
      "execution_count": 0,
      "outputs": [
        {
          "output_type": "execute_result",
          "data": {
            "text/plain": [
              "dtype('O')"
            ]
          },
          "metadata": {
            "tags": []
          },
          "execution_count": 187
        }
      ]
    },
    {
      "cell_type": "code",
      "metadata": {
        "id": "vVaX1Mn-FTLe",
        "colab_type": "code",
        "outputId": "4d8c387e-cdc8-40ab-d9b6-15e701652c9a",
        "colab": {
          "base_uri": "https://localhost:8080/",
          "height": 115
        }
      },
      "source": [
        "df['term'].head()"
      ],
      "execution_count": 0,
      "outputs": [
        {
          "output_type": "execute_result",
          "data": {
            "text/plain": [
              "0     36 months\n",
              "1     36 months\n",
              "2     36 months\n",
              "3     60 months\n",
              "4     60 months\n",
              "Name: term, dtype: object"
            ]
          },
          "metadata": {
            "tags": []
          },
          "execution_count": 189
        }
      ]
    },
    {
      "cell_type": "code",
      "metadata": {
        "id": "bpk5fhdxFle2",
        "colab_type": "code",
        "outputId": "f8f26f63-a411-4fb0-e946-29f0d611958c",
        "colab": {
          "base_uri": "https://localhost:8080/",
          "height": 212
        }
      },
      "source": [
        "df['term']"
      ],
      "execution_count": 0,
      "outputs": [
        {
          "output_type": "execute_result",
          "data": {
            "text/plain": [
              "0          36 months\n",
              "1          36 months\n",
              "2          36 months\n",
              "3          60 months\n",
              "4          60 months\n",
              "             ...    \n",
              "128409     36 months\n",
              "128410     36 months\n",
              "128411     36 months\n",
              "128412           NaN\n",
              "128413           NaN\n",
              "Name: term, Length: 128414, dtype: object"
            ]
          },
          "metadata": {
            "tags": []
          },
          "execution_count": 251
        }
      ]
    },
    {
      "cell_type": "code",
      "metadata": {
        "id": "_EmcD5GsHpeF",
        "colab_type": "code",
        "outputId": "a3e09737-23d2-47da-895f-0c5387c38dc9",
        "colab": {
          "base_uri": "https://localhost:8080/",
          "height": 33
        }
      },
      "source": [
        "term_line = df.loc[0, 'term']\n",
        "term_line"
      ],
      "execution_count": 380,
      "outputs": [
        {
          "output_type": "execute_result",
          "data": {
            "text/plain": [
              "' 36 months'"
            ]
          },
          "metadata": {
            "tags": []
          },
          "execution_count": 380
        }
      ]
    },
    {
      "cell_type": "code",
      "metadata": {
        "id": "eg9rmuMzJHpx",
        "colab_type": "code",
        "outputId": "763b0f66-951c-467e-983c-01a09689c01d",
        "colab": {
          "base_uri": "https://localhost:8080/",
          "height": 33
        }
      },
      "source": [
        "term_line.strip"
      ],
      "execution_count": 379,
      "outputs": [
        {
          "output_type": "execute_result",
          "data": {
            "text/plain": [
              "<function str.strip>"
            ]
          },
          "metadata": {
            "tags": []
          },
          "execution_count": 379
        }
      ]
    },
    {
      "cell_type": "code",
      "metadata": {
        "id": "vGnzYC4WJbIX",
        "colab_type": "code",
        "outputId": "e83af8fa-59ea-472f-8494-eff567400f45",
        "colab": {
          "base_uri": "https://localhost:8080/",
          "height": 33
        }
      },
      "source": [
        "term_line.strip('months')"
      ],
      "execution_count": 378,
      "outputs": [
        {
          "output_type": "execute_result",
          "data": {
            "text/plain": [
              "' 36 '"
            ]
          },
          "metadata": {
            "tags": []
          },
          "execution_count": 378
        }
      ]
    },
    {
      "cell_type": "code",
      "metadata": {
        "id": "1d4sd7tNJ23I",
        "colab_type": "code",
        "outputId": "bcc88ea2-e3e2-4fa3-b2d5-86cfac6a31a4",
        "colab": {
          "base_uri": "https://localhost:8080/",
          "height": 33
        }
      },
      "source": [
        "(term_line.strip().strip('months'))"
      ],
      "execution_count": 377,
      "outputs": [
        {
          "output_type": "execute_result",
          "data": {
            "text/plain": [
              "'36 '"
            ]
          },
          "metadata": {
            "tags": []
          },
          "execution_count": 377
        }
      ]
    },
    {
      "cell_type": "code",
      "metadata": {
        "id": "QjrHcaEhKVqW",
        "colab_type": "code",
        "outputId": "559643a7-7848-4586-bbec-6ce9491f990d",
        "colab": {
          "base_uri": "https://localhost:8080/",
          "height": 33
        }
      },
      "source": [
        "(term_line.strip().strip('months'))"
      ],
      "execution_count": 385,
      "outputs": [
        {
          "output_type": "execute_result",
          "data": {
            "text/plain": [
              "'36 '"
            ]
          },
          "metadata": {
            "tags": []
          },
          "execution_count": 385
        }
      ]
    },
    {
      "cell_type": "code",
      "metadata": {
        "id": "Y3FPqVMaNvPL",
        "colab_type": "code",
        "outputId": "5036ead3-f2a9-490e-b44b-3f59f0290b5b",
        "colab": {
          "base_uri": "https://localhost:8080/",
          "height": 33
        }
      },
      "source": [
        "(int(term_line.strip().strip('months')))"
      ],
      "execution_count": 384,
      "outputs": [
        {
          "output_type": "execute_result",
          "data": {
            "text/plain": [
              "36"
            ]
          },
          "metadata": {
            "tags": []
          },
          "execution_count": 384
        }
      ]
    },
    {
      "cell_type": "code",
      "metadata": {
        "id": "3ncAOxV7OgbV",
        "colab_type": "code",
        "colab": {}
      },
      "source": [
        "def term_2_line(mystring):\n",
        "  return int((mystring.strip('months')))\n"
      ],
      "execution_count": 0,
      "outputs": []
    },
    {
      "cell_type": "code",
      "metadata": {
        "id": "mVc0OQJiQ4v2",
        "colab_type": "code",
        "outputId": "5bea661f-db34-469d-c770-5aff6c331ff4",
        "colab": {
          "base_uri": "https://localhost:8080/",
          "height": 33
        }
      },
      "source": [
        "term_2_line(term_line)"
      ],
      "execution_count": 382,
      "outputs": [
        {
          "output_type": "execute_result",
          "data": {
            "text/plain": [
              "36"
            ]
          },
          "metadata": {
            "tags": []
          },
          "execution_count": 382
        }
      ]
    },
    {
      "cell_type": "code",
      "metadata": {
        "id": "cXFe5XBYPkJ4",
        "colab_type": "code",
        "outputId": "281c4506-c3c3-4382-d42c-29e10fbe7797",
        "colab": {
          "base_uri": "https://localhost:8080/",
          "height": 147
        }
      },
      "source": [
        "df.columns"
      ],
      "execution_count": 383,
      "outputs": [
        {
          "output_type": "execute_result",
          "data": {
            "text/plain": [
              "Index(['id', 'member_id', 'loan_amnt', 'funded_amnt', 'funded_amnt_inv',\n",
              "       'term', 'int_rate', 'installment', 'grade', 'sub_grade',\n",
              "       ...\n",
              "       'hardship_last_payment_amount', 'debt_settlement_flag',\n",
              "       'debt_settlement_flag_date', 'settlement_status', 'settlement_date',\n",
              "       'settlement_amount', 'settlement_percentage', 'settlement_term',\n",
              "       'last_pymnt_d_year', 'year'],\n",
              "      dtype='object', length=146)"
            ]
          },
          "metadata": {
            "tags": []
          },
          "execution_count": 383
        }
      ]
    },
    {
      "cell_type": "code",
      "metadata": {
        "id": "ZnAQOvIPRn0y",
        "colab_type": "code",
        "outputId": "29d7715f-36a8-4a4c-be0d-5067feb7ad8f",
        "colab": {
          "base_uri": "https://localhost:8080/",
          "height": 98
        }
      },
      "source": [
        "df['term'].describe()"
      ],
      "execution_count": 386,
      "outputs": [
        {
          "output_type": "execute_result",
          "data": {
            "text/plain": [
              "count         128410\n",
              "unique             2\n",
              "top        36 months\n",
              "freq           88177\n",
              "Name: term, dtype: object"
            ]
          },
          "metadata": {
            "tags": []
          },
          "execution_count": 386
        }
      ]
    },
    {
      "cell_type": "code",
      "metadata": {
        "id": "AVytv457hlpJ",
        "colab_type": "code",
        "outputId": "3a6339d0-00b1-478b-9253-506843a5cc55",
        "colab": {
          "base_uri": "https://localhost:8080/",
          "height": 1000
        }
      },
      "source": [
        "df.dtypes"
      ],
      "execution_count": 387,
      "outputs": [
        {
          "output_type": "execute_result",
          "data": {
            "text/plain": [
              "id                                                    object\n",
              "member_id                                            float64\n",
              "loan_amnt                                            float64\n",
              "funded_amnt                                          float64\n",
              "funded_amnt_inv                                      float64\n",
              "term                                                  object\n",
              "int_rate                                              object\n",
              "installment                                          float64\n",
              "grade                                                 object\n",
              "sub_grade                                             object\n",
              "emp_title                                             object\n",
              "emp_length                                            object\n",
              "home_ownership                                        object\n",
              "annual_inc                                           float64\n",
              "verification_status                                   object\n",
              "issue_d                                               object\n",
              "loan_status                                           object\n",
              "pymnt_plan                                            object\n",
              "url                                                  float64\n",
              "desc                                                 float64\n",
              "purpose                                               object\n",
              "title                                                 object\n",
              "zip_code                                              object\n",
              "addr_state                                            object\n",
              "dti                                                  float64\n",
              "delinq_2yrs                                          float64\n",
              "earliest_cr_line                                      object\n",
              "inq_last_6mths                                       float64\n",
              "mths_since_last_delinq                               float64\n",
              "mths_since_last_record                               float64\n",
              "open_acc                                             float64\n",
              "pub_rec                                              float64\n",
              "revol_bal                                            float64\n",
              "revol_util                                            object\n",
              "total_acc                                            float64\n",
              "initial_list_status                                   object\n",
              "out_prncp                                            float64\n",
              "out_prncp_inv                                        float64\n",
              "total_pymnt                                          float64\n",
              "total_pymnt_inv                                      float64\n",
              "total_rec_prncp                                      float64\n",
              "total_rec_int                                        float64\n",
              "total_rec_late_fee                                   float64\n",
              "recoveries                                           float64\n",
              "collection_recovery_fee                              float64\n",
              "last_pymnt_d                                          object\n",
              "last_pymnt_amnt                                      float64\n",
              "next_pymnt_d                                          object\n",
              "last_credit_pull_d                                    object\n",
              "collections_12_mths_ex_med                           float64\n",
              "mths_since_last_major_derog                          float64\n",
              "policy_code                                          float64\n",
              "application_type                                      object\n",
              "annual_inc_joint                                     float64\n",
              "dti_joint                                            float64\n",
              "verification_status_joint                             object\n",
              "acc_now_delinq                                       float64\n",
              "tot_coll_amt                                         float64\n",
              "tot_cur_bal                                          float64\n",
              "open_acc_6m                                          float64\n",
              "open_act_il                                          float64\n",
              "open_il_12m                                          float64\n",
              "open_il_24m                                          float64\n",
              "mths_since_rcnt_il                                   float64\n",
              "total_bal_il                                         float64\n",
              "il_util                                              float64\n",
              "open_rv_12m                                          float64\n",
              "open_rv_24m                                          float64\n",
              "max_bal_bc                                           float64\n",
              "all_util                                             float64\n",
              "total_rev_hi_lim                                     float64\n",
              "inq_fi                                               float64\n",
              "total_cu_tl                                          float64\n",
              "inq_last_12m                                         float64\n",
              "acc_open_past_24mths                                 float64\n",
              "avg_cur_bal                                          float64\n",
              "bc_open_to_buy                                       float64\n",
              "bc_util                                              float64\n",
              "chargeoff_within_12_mths                             float64\n",
              "delinq_amnt                                          float64\n",
              "mo_sin_old_il_acct                                   float64\n",
              "mo_sin_old_rev_tl_op                                 float64\n",
              "mo_sin_rcnt_rev_tl_op                                float64\n",
              "mo_sin_rcnt_tl                                       float64\n",
              "mort_acc                                             float64\n",
              "mths_since_recent_bc                                 float64\n",
              "mths_since_recent_bc_dlq                             float64\n",
              "mths_since_recent_inq                                float64\n",
              "mths_since_recent_revol_delinq                       float64\n",
              "num_accts_ever_120_pd                                float64\n",
              "num_actv_bc_tl                                       float64\n",
              "num_actv_rev_tl                                      float64\n",
              "num_bc_sats                                          float64\n",
              "num_bc_tl                                            float64\n",
              "num_il_tl                                            float64\n",
              "num_op_rev_tl                                        float64\n",
              "num_rev_accts                                        float64\n",
              "num_rev_tl_bal_gt_0                                  float64\n",
              "num_sats                                             float64\n",
              "num_tl_120dpd_2m                                     float64\n",
              "num_tl_30dpd                                         float64\n",
              "num_tl_90g_dpd_24m                                   float64\n",
              "num_tl_op_past_12m                                   float64\n",
              "pct_tl_nvr_dlq                                       float64\n",
              "percent_bc_gt_75                                     float64\n",
              "pub_rec_bankruptcies                                 float64\n",
              "tax_liens                                            float64\n",
              "tot_hi_cred_lim                                      float64\n",
              "total_bal_ex_mort                                    float64\n",
              "total_bc_limit                                       float64\n",
              "total_il_high_credit_limit                           float64\n",
              "revol_bal_joint                                      float64\n",
              "sec_app_earliest_cr_line                              object\n",
              "sec_app_inq_last_6mths                               float64\n",
              "sec_app_mort_acc                                     float64\n",
              "sec_app_open_acc                                     float64\n",
              "sec_app_revol_util                                   float64\n",
              "sec_app_open_act_il                                  float64\n",
              "sec_app_num_rev_accts                                float64\n",
              "sec_app_chargeoff_within_12_mths                     float64\n",
              "sec_app_collections_12_mths_ex_med                   float64\n",
              "sec_app_mths_since_last_major_derog                  float64\n",
              "hardship_flag                                         object\n",
              "hardship_type                                         object\n",
              "hardship_reason                                       object\n",
              "hardship_status                                       object\n",
              "deferral_term                                        float64\n",
              "hardship_amount                                      float64\n",
              "hardship_start_date                                   object\n",
              "hardship_end_date                                     object\n",
              "payment_plan_start_date                               object\n",
              "hardship_length                                      float64\n",
              "hardship_dpd                                         float64\n",
              "hardship_loan_status                                  object\n",
              "orig_projected_additional_accrued_interest           float64\n",
              "hardship_payoff_balance_amount                       float64\n",
              "hardship_last_payment_amount                         float64\n",
              "debt_settlement_flag                                  object\n",
              "debt_settlement_flag_date                             object\n",
              "settlement_status                                     object\n",
              "settlement_date                                       object\n",
              "settlement_amount                                    float64\n",
              "settlement_percentage                                float64\n",
              "settlement_term                                      float64\n",
              "last_pymnt_d_year                             datetime64[ns]\n",
              "year                                                 float64\n",
              "dtype: object"
            ]
          },
          "metadata": {
            "tags": []
          },
          "execution_count": 387
        }
      ]
    },
    {
      "cell_type": "code",
      "metadata": {
        "id": "1o90ZWs5T3JC",
        "colab_type": "code",
        "outputId": "f86ca357-8b65-4a4f-c758-f92baa685902",
        "colab": {
          "base_uri": "https://localhost:8080/",
          "height": 212
        }
      },
      "source": [
        "df['term'] "
      ],
      "execution_count": 388,
      "outputs": [
        {
          "output_type": "execute_result",
          "data": {
            "text/plain": [
              "0          36 months\n",
              "1                NaN\n",
              "2                NaN\n",
              "3          60 months\n",
              "4          60 months\n",
              "             ...    \n",
              "128409     36 months\n",
              "128410     36 months\n",
              "128411     36 months\n",
              "128412           NaN\n",
              "128413           NaN\n",
              "Name: term, Length: 128414, dtype: object"
            ]
          },
          "metadata": {
            "tags": []
          },
          "execution_count": 388
        }
      ]
    },
    {
      "cell_type": "code",
      "metadata": {
        "id": "h6yGV59TIqVi",
        "colab_type": "code",
        "colab": {}
      },
      "source": [
        ""
      ],
      "execution_count": 0,
      "outputs": []
    },
    {
      "cell_type": "code",
      "metadata": {
        "id": "Ze3zrfEzoWS2",
        "colab_type": "code",
        "outputId": "f692dca3-4bd5-4767-990f-972641bc6520",
        "colab": {
          "base_uri": "https://localhost:8080/",
          "height": 115
        }
      },
      "source": [
        "df['term'].head()"
      ],
      "execution_count": 389,
      "outputs": [
        {
          "output_type": "execute_result",
          "data": {
            "text/plain": [
              "0     36 months\n",
              "1           NaN\n",
              "2           NaN\n",
              "3     60 months\n",
              "4     60 months\n",
              "Name: term, dtype: object"
            ]
          },
          "metadata": {
            "tags": []
          },
          "execution_count": 389
        }
      ]
    },
    {
      "cell_type": "code",
      "metadata": {
        "id": "o-JkukLLIrFs",
        "colab_type": "code",
        "colab": {}
      },
      "source": [
        ""
      ],
      "execution_count": 0,
      "outputs": []
    },
    {
      "cell_type": "code",
      "metadata": {
        "id": "-0weL6E2to_f",
        "colab_type": "code",
        "colab": {
          "base_uri": "https://localhost:8080/",
          "height": 33
        },
        "outputId": "5f8ee098-a8ec-4b34-8dc4-571eb9837208"
      },
      "source": [
        "[col for col in df if col.endswith(\"_d\")]\n",
        " \n"
      ],
      "execution_count": 390,
      "outputs": [
        {
          "output_type": "execute_result",
          "data": {
            "text/plain": [
              "['issue_d', 'last_pymnt_d', 'next_pymnt_d', 'last_credit_pull_d']"
            ]
          },
          "metadata": {
            "tags": []
          },
          "execution_count": 390
        }
      ]
    },
    {
      "cell_type": "code",
      "metadata": {
        "id": "7krhjuYWIrUk",
        "colab_type": "code",
        "colab": {}
      },
      "source": [
        ""
      ],
      "execution_count": 0,
      "outputs": []
    },
    {
      "cell_type": "code",
      "metadata": {
        "id": "DTSOgVGO47MM",
        "colab_type": "code",
        "colab": {
          "base_uri": "https://localhost:8080/",
          "height": 115
        },
        "outputId": "691e69a2-68d2-45ea-d23c-d5f4fdf9b9b9"
      },
      "source": [
        "df['issue_d'].head()"
      ],
      "execution_count": 391,
      "outputs": [
        {
          "output_type": "execute_result",
          "data": {
            "text/plain": [
              "0    Dec-2018\n",
              "1    Dec-2018\n",
              "2    Dec-2018\n",
              "3    Dec-2018\n",
              "4    Dec-2018\n",
              "Name: issue_d, dtype: object"
            ]
          },
          "metadata": {
            "tags": []
          },
          "execution_count": 391
        }
      ]
    },
    {
      "cell_type": "code",
      "metadata": {
        "id": "MwTD7jxjIrtV",
        "colab_type": "code",
        "colab": {}
      },
      "source": [
        ""
      ],
      "execution_count": 0,
      "outputs": []
    },
    {
      "cell_type": "code",
      "metadata": {
        "id": "cPuXb-iZ3mvd",
        "colab_type": "code",
        "colab": {
          "base_uri": "https://localhost:8080/",
          "height": 212
        },
        "outputId": "edc4843c-b2e6-4407-8dc0-e4bb72237e95"
      },
      "source": [
        "df['issue_d'].value_counts"
      ],
      "execution_count": 392,
      "outputs": [
        {
          "output_type": "execute_result",
          "data": {
            "text/plain": [
              "<bound method IndexOpsMixin.value_counts of 0         Dec-2018\n",
              "1         Dec-2018\n",
              "2         Dec-2018\n",
              "3         Dec-2018\n",
              "4         Dec-2018\n",
              "            ...   \n",
              "128409    Oct-2018\n",
              "128410    Oct-2018\n",
              "128411    Oct-2018\n",
              "128412         NaN\n",
              "128413         NaN\n",
              "Name: issue_d, Length: 128414, dtype: object>"
            ]
          },
          "metadata": {
            "tags": []
          },
          "execution_count": 392
        }
      ]
    },
    {
      "cell_type": "code",
      "metadata": {
        "id": "Rqkm49ZfIsG7",
        "colab_type": "code",
        "colab": {}
      },
      "source": [
        ""
      ],
      "execution_count": 0,
      "outputs": []
    },
    {
      "cell_type": "code",
      "metadata": {
        "id": "qJkyF8y59DrE",
        "colab_type": "code",
        "colab": {
          "base_uri": "https://localhost:8080/",
          "height": 33
        },
        "outputId": "fa62f083-2e81-4263-fe5a-f3908f9f67f3"
      },
      "source": [
        "df['issue_d'][0]"
      ],
      "execution_count": 393,
      "outputs": [
        {
          "output_type": "execute_result",
          "data": {
            "text/plain": [
              "'Dec-2018'"
            ]
          },
          "metadata": {
            "tags": []
          },
          "execution_count": 393
        }
      ]
    },
    {
      "cell_type": "code",
      "metadata": {
        "id": "JeEJVr6hIsc6",
        "colab_type": "code",
        "colab": {}
      },
      "source": [
        ""
      ],
      "execution_count": 0,
      "outputs": []
    },
    {
      "cell_type": "code",
      "metadata": {
        "id": "uYlDMNAT9bfS",
        "colab_type": "code",
        "colab": {
          "base_uri": "https://localhost:8080/",
          "height": 196
        },
        "outputId": "516b1956-8c0f-4c4b-f7e5-3c9a9817421d"
      },
      "source": [
        "df.dtypes[:10]"
      ],
      "execution_count": 394,
      "outputs": [
        {
          "output_type": "execute_result",
          "data": {
            "text/plain": [
              "id                  object\n",
              "member_id          float64\n",
              "loan_amnt          float64\n",
              "funded_amnt        float64\n",
              "funded_amnt_inv    float64\n",
              "term                object\n",
              "int_rate            object\n",
              "installment        float64\n",
              "grade               object\n",
              "sub_grade           object\n",
              "dtype: object"
            ]
          },
          "metadata": {
            "tags": []
          },
          "execution_count": 394
        }
      ]
    },
    {
      "cell_type": "code",
      "metadata": {
        "id": "UDUD04X2Isw1",
        "colab_type": "code",
        "colab": {}
      },
      "source": [
        ""
      ],
      "execution_count": 0,
      "outputs": []
    },
    {
      "cell_type": "code",
      "metadata": {
        "id": "KMXS87dm957J",
        "colab_type": "code",
        "colab": {
          "base_uri": "https://localhost:8080/",
          "height": 191
        },
        "outputId": "e19f4cb3-69e1-455c-ea2c-cc0c229df6e1"
      },
      "source": [
        " df['year']=df['last_pymnt_d_year'].dt.year\n",
        "\n",
        "df[['last_pymnt_d_year', 'year']].sample(5)\n"
      ],
      "execution_count": 395,
      "outputs": [
        {
          "output_type": "execute_result",
          "data": {
            "text/html": [
              "<div>\n",
              "<style scoped>\n",
              "    .dataframe tbody tr th:only-of-type {\n",
              "        vertical-align: middle;\n",
              "    }\n",
              "\n",
              "    .dataframe tbody tr th {\n",
              "        vertical-align: top;\n",
              "    }\n",
              "\n",
              "    .dataframe thead th {\n",
              "        text-align: right;\n",
              "    }\n",
              "</style>\n",
              "<table border=\"1\" class=\"dataframe\">\n",
              "  <thead>\n",
              "    <tr style=\"text-align: right;\">\n",
              "      <th></th>\n",
              "      <th>last_pymnt_d_year</th>\n",
              "      <th>year</th>\n",
              "    </tr>\n",
              "  </thead>\n",
              "  <tbody>\n",
              "    <tr>\n",
              "      <th>28921</th>\n",
              "      <td>2019-04-01</td>\n",
              "      <td>2019.0</td>\n",
              "    </tr>\n",
              "    <tr>\n",
              "      <th>49277</th>\n",
              "      <td>2020-05-01</td>\n",
              "      <td>2020.0</td>\n",
              "    </tr>\n",
              "    <tr>\n",
              "      <th>102140</th>\n",
              "      <td>2020-05-01</td>\n",
              "      <td>2020.0</td>\n",
              "    </tr>\n",
              "    <tr>\n",
              "      <th>97486</th>\n",
              "      <td>2020-05-01</td>\n",
              "      <td>2020.0</td>\n",
              "    </tr>\n",
              "    <tr>\n",
              "      <th>13336</th>\n",
              "      <td>2019-02-01</td>\n",
              "      <td>2019.0</td>\n",
              "    </tr>\n",
              "  </tbody>\n",
              "</table>\n",
              "</div>"
            ],
            "text/plain": [
              "       last_pymnt_d_year    year\n",
              "28921         2019-04-01  2019.0\n",
              "49277         2020-05-01  2020.0\n",
              "102140        2020-05-01  2020.0\n",
              "97486         2020-05-01  2020.0\n",
              "13336         2019-02-01  2019.0"
            ]
          },
          "metadata": {
            "tags": []
          },
          "execution_count": 395
        }
      ]
    },
    {
      "cell_type": "code",
      "metadata": {
        "id": "JQRFJYT7ItQU",
        "colab_type": "code",
        "colab": {}
      },
      "source": [
        ""
      ],
      "execution_count": 0,
      "outputs": []
    },
    {
      "cell_type": "code",
      "metadata": {
        "id": "QJZ1fSgVFLa5",
        "colab_type": "code",
        "colab": {
          "base_uri": "https://localhost:8080/",
          "height": 33
        },
        "outputId": "1462bd69-6977-4a23-99a0-47e046bd4ab2"
      },
      "source": [
        "for col in df.columns:\n",
        "  if (col.endswith('_month')) or (col.endswith('_year')):\n",
        "    print(col)"
      ],
      "execution_count": 396,
      "outputs": [
        {
          "output_type": "stream",
          "text": [
            "last_pymnt_d_year\n"
          ],
          "name": "stdout"
        }
      ]
    },
    {
      "cell_type": "code",
      "metadata": {
        "id": "1dewE-6IItoN",
        "colab_type": "code",
        "colab": {}
      },
      "source": [
        ""
      ],
      "execution_count": 0,
      "outputs": []
    },
    {
      "cell_type": "markdown",
      "metadata": {
        "colab_type": "text",
        "id": "L8k0LiHmo5EU"
      },
      "source": [
        "# Stretch Goals\n",
        "\n",
        "You can do more with the LendingClub or Instacart datasets.\n",
        "\n",
        "LendingClub options:\n",
        "- There's one other column in the dataframe with percent signs. Remove them and convert to floats. You'll need to handle missing values.\n",
        "- Modify the `emp_title` column to replace titles with 'Other' if the title is not in the top 20. \n",
        "- Take initiatve and work on your own ideas!\n",
        "\n",
        "Instacart options:\n",
        "- Read [Instacart Market Basket Analysis, Winner's Interview: 2nd place, Kazuki Onodera](http://blog.kaggle.com/2017/09/21/instacart-market-basket-analysis-winners-interview-2nd-place-kazuki-onodera/), especially the **Feature Engineering** section. (Can you choose one feature from his bulleted lists, and try to engineer it with pandas code?)\n",
        "- Read and replicate parts of [Simple Exploration Notebook - Instacart](https://www.kaggle.com/sudalairajkumar/simple-exploration-notebook-instacart). (It's the Python Notebook with the most upvotes for this Kaggle competition.)\n",
        "- Take initiative and work on your own ideas!"
      ]
    },
    {
      "cell_type": "markdown",
      "metadata": {
        "colab_type": "text",
        "id": "0_7PXF7lpEXg"
      },
      "source": [
        "You can uncomment and run the cells below to re-download and extract the Instacart data"
      ]
    },
    {
      "cell_type": "code",
      "metadata": {
        "id": "mCDd9-LIcwCw",
        "colab_type": "code",
        "colab": {}
      },
      "source": [
        "import numpy as np\n"
      ],
      "execution_count": 0,
      "outputs": []
    },
    {
      "cell_type": "code",
      "metadata": {
        "id": "-UwxbbqLIwQD",
        "colab_type": "code",
        "colab": {
          "base_uri": "https://localhost:8080/",
          "height": 336
        },
        "outputId": "bd2f777a-7147-47e8-c49c-cb59b752e749"
      },
      "source": [
        "df.head()"
      ],
      "execution_count": 566,
      "outputs": [
        {
          "output_type": "execute_result",
          "data": {
            "text/html": [
              "<div>\n",
              "<style scoped>\n",
              "    .dataframe tbody tr th:only-of-type {\n",
              "        vertical-align: middle;\n",
              "    }\n",
              "\n",
              "    .dataframe tbody tr th {\n",
              "        vertical-align: top;\n",
              "    }\n",
              "\n",
              "    .dataframe thead th {\n",
              "        text-align: right;\n",
              "    }\n",
              "</style>\n",
              "<table border=\"1\" class=\"dataframe\">\n",
              "  <thead>\n",
              "    <tr style=\"text-align: right;\">\n",
              "      <th></th>\n",
              "      <th>id</th>\n",
              "      <th>member_id</th>\n",
              "      <th>loan_amnt</th>\n",
              "      <th>funded_amnt</th>\n",
              "      <th>funded_amnt_inv</th>\n",
              "      <th>term</th>\n",
              "      <th>int_rate</th>\n",
              "      <th>installment</th>\n",
              "      <th>grade</th>\n",
              "      <th>sub_grade</th>\n",
              "      <th>emp_title</th>\n",
              "      <th>emp_length</th>\n",
              "      <th>home_ownership</th>\n",
              "      <th>annual_inc</th>\n",
              "      <th>verification_status</th>\n",
              "      <th>issue_d</th>\n",
              "      <th>loan_status</th>\n",
              "      <th>pymnt_plan</th>\n",
              "      <th>url</th>\n",
              "      <th>desc</th>\n",
              "      <th>purpose</th>\n",
              "      <th>title</th>\n",
              "      <th>zip_code</th>\n",
              "      <th>addr_state</th>\n",
              "      <th>dti</th>\n",
              "      <th>delinq_2yrs</th>\n",
              "      <th>earliest_cr_line</th>\n",
              "      <th>inq_last_6mths</th>\n",
              "      <th>mths_since_last_delinq</th>\n",
              "      <th>mths_since_last_record</th>\n",
              "      <th>open_acc</th>\n",
              "      <th>pub_rec</th>\n",
              "      <th>revol_bal</th>\n",
              "      <th>revol_util</th>\n",
              "      <th>total_acc</th>\n",
              "      <th>initial_list_status</th>\n",
              "      <th>out_prncp</th>\n",
              "      <th>out_prncp_inv</th>\n",
              "      <th>total_pymnt</th>\n",
              "      <th>total_pymnt_inv</th>\n",
              "      <th>total_rec_prncp</th>\n",
              "      <th>total_rec_int</th>\n",
              "      <th>total_rec_late_fee</th>\n",
              "      <th>recoveries</th>\n",
              "      <th>collection_recovery_fee</th>\n",
              "      <th>last_pymnt_d</th>\n",
              "      <th>last_pymnt_amnt</th>\n",
              "      <th>next_pymnt_d</th>\n",
              "      <th>last_credit_pull_d</th>\n",
              "      <th>collections_12_mths_ex_med</th>\n",
              "      <th>...</th>\n",
              "      <th>num_rev_accts</th>\n",
              "      <th>num_rev_tl_bal_gt_0</th>\n",
              "      <th>num_sats</th>\n",
              "      <th>num_tl_120dpd_2m</th>\n",
              "      <th>num_tl_30dpd</th>\n",
              "      <th>num_tl_90g_dpd_24m</th>\n",
              "      <th>num_tl_op_past_12m</th>\n",
              "      <th>pct_tl_nvr_dlq</th>\n",
              "      <th>percent_bc_gt_75</th>\n",
              "      <th>pub_rec_bankruptcies</th>\n",
              "      <th>tax_liens</th>\n",
              "      <th>tot_hi_cred_lim</th>\n",
              "      <th>total_bal_ex_mort</th>\n",
              "      <th>total_bc_limit</th>\n",
              "      <th>total_il_high_credit_limit</th>\n",
              "      <th>revol_bal_joint</th>\n",
              "      <th>sec_app_earliest_cr_line</th>\n",
              "      <th>sec_app_inq_last_6mths</th>\n",
              "      <th>sec_app_mort_acc</th>\n",
              "      <th>sec_app_open_acc</th>\n",
              "      <th>sec_app_revol_util</th>\n",
              "      <th>sec_app_open_act_il</th>\n",
              "      <th>sec_app_num_rev_accts</th>\n",
              "      <th>sec_app_chargeoff_within_12_mths</th>\n",
              "      <th>sec_app_collections_12_mths_ex_med</th>\n",
              "      <th>sec_app_mths_since_last_major_derog</th>\n",
              "      <th>hardship_flag</th>\n",
              "      <th>hardship_type</th>\n",
              "      <th>hardship_reason</th>\n",
              "      <th>hardship_status</th>\n",
              "      <th>deferral_term</th>\n",
              "      <th>hardship_amount</th>\n",
              "      <th>hardship_start_date</th>\n",
              "      <th>hardship_end_date</th>\n",
              "      <th>payment_plan_start_date</th>\n",
              "      <th>hardship_length</th>\n",
              "      <th>hardship_dpd</th>\n",
              "      <th>hardship_loan_status</th>\n",
              "      <th>orig_projected_additional_accrued_interest</th>\n",
              "      <th>hardship_payoff_balance_amount</th>\n",
              "      <th>hardship_last_payment_amount</th>\n",
              "      <th>debt_settlement_flag</th>\n",
              "      <th>debt_settlement_flag_date</th>\n",
              "      <th>settlement_status</th>\n",
              "      <th>settlement_date</th>\n",
              "      <th>settlement_amount</th>\n",
              "      <th>settlement_percentage</th>\n",
              "      <th>settlement_term</th>\n",
              "      <th>last_pymnt_d_year</th>\n",
              "      <th>year</th>\n",
              "    </tr>\n",
              "  </thead>\n",
              "  <tbody>\n",
              "    <tr>\n",
              "      <th>0</th>\n",
              "      <td>NaN</td>\n",
              "      <td>NaN</td>\n",
              "      <td>20000.0</td>\n",
              "      <td>20000.0</td>\n",
              "      <td>20000.0</td>\n",
              "      <td>36 months</td>\n",
              "      <td>14.47%</td>\n",
              "      <td>688.13</td>\n",
              "      <td>C</td>\n",
              "      <td>C2</td>\n",
              "      <td>bus driver</td>\n",
              "      <td>4 years</td>\n",
              "      <td>OWN</td>\n",
              "      <td>52000.0</td>\n",
              "      <td>Source Verified</td>\n",
              "      <td>Dec-2018</td>\n",
              "      <td>Charged Off</td>\n",
              "      <td>n</td>\n",
              "      <td>NaN</td>\n",
              "      <td>NaN</td>\n",
              "      <td>debt_consolidation</td>\n",
              "      <td>Debt consolidation</td>\n",
              "      <td>681xx</td>\n",
              "      <td>NE</td>\n",
              "      <td>30.65</td>\n",
              "      <td>1.0</td>\n",
              "      <td>Jun-1979</td>\n",
              "      <td>2.0</td>\n",
              "      <td>15.0</td>\n",
              "      <td>NaN</td>\n",
              "      <td>6.0</td>\n",
              "      <td>0.0</td>\n",
              "      <td>15048.0</td>\n",
              "      <td>73%</td>\n",
              "      <td>22.0</td>\n",
              "      <td>w</td>\n",
              "      <td>0.00</td>\n",
              "      <td>0.00</td>\n",
              "      <td>8169.130000</td>\n",
              "      <td>8169.13</td>\n",
              "      <td>5731.54</td>\n",
              "      <td>2437.59</td>\n",
              "      <td>0.0</td>\n",
              "      <td>0.0</td>\n",
              "      <td>0.0</td>\n",
              "      <td>Feb-2020</td>\n",
              "      <td>0.00</td>\n",
              "      <td>NaN</td>\n",
              "      <td>Mar-2020</td>\n",
              "      <td>0.0</td>\n",
              "      <td>...</td>\n",
              "      <td>14.0</td>\n",
              "      <td>4.0</td>\n",
              "      <td>6.0</td>\n",
              "      <td>NaN</td>\n",
              "      <td>0.0</td>\n",
              "      <td>0.0</td>\n",
              "      <td>2.0</td>\n",
              "      <td>95.0</td>\n",
              "      <td>50.0</td>\n",
              "      <td>0.0</td>\n",
              "      <td>0.0</td>\n",
              "      <td>61699.0</td>\n",
              "      <td>33157.0</td>\n",
              "      <td>20700.0</td>\n",
              "      <td>40999.0</td>\n",
              "      <td>NaN</td>\n",
              "      <td>NaN</td>\n",
              "      <td>NaN</td>\n",
              "      <td>NaN</td>\n",
              "      <td>NaN</td>\n",
              "      <td>NaN</td>\n",
              "      <td>NaN</td>\n",
              "      <td>NaN</td>\n",
              "      <td>NaN</td>\n",
              "      <td>NaN</td>\n",
              "      <td>NaN</td>\n",
              "      <td>NaN</td>\n",
              "      <td>NaN</td>\n",
              "      <td>NaN</td>\n",
              "      <td>NaN</td>\n",
              "      <td>NaN</td>\n",
              "      <td>688.13</td>\n",
              "      <td>NaN</td>\n",
              "      <td>NaN</td>\n",
              "      <td>NaN</td>\n",
              "      <td>NaN</td>\n",
              "      <td>NaN</td>\n",
              "      <td>NaN</td>\n",
              "      <td>0.0</td>\n",
              "      <td>0.0</td>\n",
              "      <td>688.13</td>\n",
              "      <td>N</td>\n",
              "      <td>NaN</td>\n",
              "      <td>NaN</td>\n",
              "      <td>NaN</td>\n",
              "      <td>NaN</td>\n",
              "      <td>NaN</td>\n",
              "      <td>NaN</td>\n",
              "      <td>2020-02-01</td>\n",
              "      <td>2020.0</td>\n",
              "    </tr>\n",
              "    <tr>\n",
              "      <th>1</th>\n",
              "      <td>NaN</td>\n",
              "      <td>NaN</td>\n",
              "      <td>16000.0</td>\n",
              "      <td>16000.0</td>\n",
              "      <td>16000.0</td>\n",
              "      <td>NaN</td>\n",
              "      <td>14.47%</td>\n",
              "      <td>550.51</td>\n",
              "      <td>C</td>\n",
              "      <td>C2</td>\n",
              "      <td>Carpenter</td>\n",
              "      <td>10+ years</td>\n",
              "      <td>RENT</td>\n",
              "      <td>150000.0</td>\n",
              "      <td>Source Verified</td>\n",
              "      <td>Dec-2018</td>\n",
              "      <td>Current</td>\n",
              "      <td>n</td>\n",
              "      <td>NaN</td>\n",
              "      <td>NaN</td>\n",
              "      <td>other</td>\n",
              "      <td>Other</td>\n",
              "      <td>917xx</td>\n",
              "      <td>CA</td>\n",
              "      <td>17.94</td>\n",
              "      <td>0.0</td>\n",
              "      <td>Nov-2001</td>\n",
              "      <td>1.0</td>\n",
              "      <td>NaN</td>\n",
              "      <td>NaN</td>\n",
              "      <td>24.0</td>\n",
              "      <td>0.0</td>\n",
              "      <td>43721.0</td>\n",
              "      <td>59.2%</td>\n",
              "      <td>29.0</td>\n",
              "      <td>w</td>\n",
              "      <td>9726.53</td>\n",
              "      <td>9726.53</td>\n",
              "      <td>8788.870000</td>\n",
              "      <td>8788.87</td>\n",
              "      <td>6273.47</td>\n",
              "      <td>2515.40</td>\n",
              "      <td>0.0</td>\n",
              "      <td>0.0</td>\n",
              "      <td>0.0</td>\n",
              "      <td>May-2020</td>\n",
              "      <td>0.00</td>\n",
              "      <td>Jun-2020</td>\n",
              "      <td>May-2020</td>\n",
              "      <td>0.0</td>\n",
              "      <td>...</td>\n",
              "      <td>25.0</td>\n",
              "      <td>19.0</td>\n",
              "      <td>24.0</td>\n",
              "      <td>0.0</td>\n",
              "      <td>0.0</td>\n",
              "      <td>0.0</td>\n",
              "      <td>0.0</td>\n",
              "      <td>100.0</td>\n",
              "      <td>85.7</td>\n",
              "      <td>0.0</td>\n",
              "      <td>0.0</td>\n",
              "      <td>116647.0</td>\n",
              "      <td>57465.0</td>\n",
              "      <td>32100.0</td>\n",
              "      <td>42847.0</td>\n",
              "      <td>NaN</td>\n",
              "      <td>NaN</td>\n",
              "      <td>NaN</td>\n",
              "      <td>NaN</td>\n",
              "      <td>NaN</td>\n",
              "      <td>NaN</td>\n",
              "      <td>NaN</td>\n",
              "      <td>NaN</td>\n",
              "      <td>NaN</td>\n",
              "      <td>NaN</td>\n",
              "      <td>NaN</td>\n",
              "      <td>N</td>\n",
              "      <td>NaN</td>\n",
              "      <td>NaN</td>\n",
              "      <td>NaN</td>\n",
              "      <td>NaN</td>\n",
              "      <td>NaN</td>\n",
              "      <td>NaN</td>\n",
              "      <td>NaN</td>\n",
              "      <td>NaN</td>\n",
              "      <td>NaN</td>\n",
              "      <td>NaN</td>\n",
              "      <td>NaN</td>\n",
              "      <td>NaN</td>\n",
              "      <td>NaN</td>\n",
              "      <td>NaN</td>\n",
              "      <td>N</td>\n",
              "      <td>NaN</td>\n",
              "      <td>NaN</td>\n",
              "      <td>NaN</td>\n",
              "      <td>NaN</td>\n",
              "      <td>NaN</td>\n",
              "      <td>NaN</td>\n",
              "      <td>2020-05-01</td>\n",
              "      <td>2020.0</td>\n",
              "    </tr>\n",
              "    <tr>\n",
              "      <th>2</th>\n",
              "      <td>NaN</td>\n",
              "      <td>NaN</td>\n",
              "      <td>8425.0</td>\n",
              "      <td>8425.0</td>\n",
              "      <td>8425.0</td>\n",
              "      <td>NaN</td>\n",
              "      <td>27.27%</td>\n",
              "      <td>345.18</td>\n",
              "      <td>E</td>\n",
              "      <td>E5</td>\n",
              "      <td>Senior Director Risk Management</td>\n",
              "      <td>3 years</td>\n",
              "      <td>MORTGAGE</td>\n",
              "      <td>450000.0</td>\n",
              "      <td>Verified</td>\n",
              "      <td>Dec-2018</td>\n",
              "      <td>Fully Paid</td>\n",
              "      <td>n</td>\n",
              "      <td>NaN</td>\n",
              "      <td>NaN</td>\n",
              "      <td>credit_card</td>\n",
              "      <td>Credit card refinancing</td>\n",
              "      <td>020xx</td>\n",
              "      <td>MA</td>\n",
              "      <td>12.37</td>\n",
              "      <td>0.0</td>\n",
              "      <td>Oct-1997</td>\n",
              "      <td>0.0</td>\n",
              "      <td>NaN</td>\n",
              "      <td>NaN</td>\n",
              "      <td>21.0</td>\n",
              "      <td>0.0</td>\n",
              "      <td>36812.0</td>\n",
              "      <td>65.7%</td>\n",
              "      <td>37.0</td>\n",
              "      <td>w</td>\n",
              "      <td>0.00</td>\n",
              "      <td>0.00</td>\n",
              "      <td>8735.148975</td>\n",
              "      <td>8735.15</td>\n",
              "      <td>8425.00</td>\n",
              "      <td>310.15</td>\n",
              "      <td>0.0</td>\n",
              "      <td>0.0</td>\n",
              "      <td>0.0</td>\n",
              "      <td>Feb-2019</td>\n",
              "      <td>8754.30</td>\n",
              "      <td>NaN</td>\n",
              "      <td>Mar-2020</td>\n",
              "      <td>0.0</td>\n",
              "      <td>...</td>\n",
              "      <td>17.0</td>\n",
              "      <td>8.0</td>\n",
              "      <td>21.0</td>\n",
              "      <td>0.0</td>\n",
              "      <td>0.0</td>\n",
              "      <td>0.0</td>\n",
              "      <td>2.0</td>\n",
              "      <td>100.0</td>\n",
              "      <td>50.0</td>\n",
              "      <td>0.0</td>\n",
              "      <td>0.0</td>\n",
              "      <td>768304.0</td>\n",
              "      <td>189194.0</td>\n",
              "      <td>45800.0</td>\n",
              "      <td>189054.0</td>\n",
              "      <td>141905.0</td>\n",
              "      <td>Jun-2013</td>\n",
              "      <td>0.0</td>\n",
              "      <td>1.0</td>\n",
              "      <td>4.0</td>\n",
              "      <td>77.4</td>\n",
              "      <td>1.0</td>\n",
              "      <td>4.0</td>\n",
              "      <td>0.0</td>\n",
              "      <td>0.0</td>\n",
              "      <td>NaN</td>\n",
              "      <td>N</td>\n",
              "      <td>NaN</td>\n",
              "      <td>NaN</td>\n",
              "      <td>NaN</td>\n",
              "      <td>NaN</td>\n",
              "      <td>NaN</td>\n",
              "      <td>NaN</td>\n",
              "      <td>NaN</td>\n",
              "      <td>NaN</td>\n",
              "      <td>NaN</td>\n",
              "      <td>NaN</td>\n",
              "      <td>NaN</td>\n",
              "      <td>NaN</td>\n",
              "      <td>NaN</td>\n",
              "      <td>NaN</td>\n",
              "      <td>N</td>\n",
              "      <td>NaN</td>\n",
              "      <td>NaN</td>\n",
              "      <td>NaN</td>\n",
              "      <td>NaN</td>\n",
              "      <td>NaN</td>\n",
              "      <td>NaN</td>\n",
              "      <td>2019-02-01</td>\n",
              "      <td>2019.0</td>\n",
              "    </tr>\n",
              "    <tr>\n",
              "      <th>3</th>\n",
              "      <td>NaN</td>\n",
              "      <td>NaN</td>\n",
              "      <td>10000.0</td>\n",
              "      <td>10000.0</td>\n",
              "      <td>10000.0</td>\n",
              "      <td>60 months</td>\n",
              "      <td>12.98%</td>\n",
              "      <td>227.43</td>\n",
              "      <td>B</td>\n",
              "      <td>B5</td>\n",
              "      <td>Printer</td>\n",
              "      <td>9 years</td>\n",
              "      <td>RENT</td>\n",
              "      <td>60000.0</td>\n",
              "      <td>Not Verified</td>\n",
              "      <td>Dec-2018</td>\n",
              "      <td>Current</td>\n",
              "      <td>n</td>\n",
              "      <td>NaN</td>\n",
              "      <td>NaN</td>\n",
              "      <td>credit_card</td>\n",
              "      <td>Credit card refinancing</td>\n",
              "      <td>660xx</td>\n",
              "      <td>KS</td>\n",
              "      <td>14.90</td>\n",
              "      <td>0.0</td>\n",
              "      <td>May-2007</td>\n",
              "      <td>0.0</td>\n",
              "      <td>NaN</td>\n",
              "      <td>112.0</td>\n",
              "      <td>7.0</td>\n",
              "      <td>1.0</td>\n",
              "      <td>10677.0</td>\n",
              "      <td>54.2%</td>\n",
              "      <td>12.0</td>\n",
              "      <td>w</td>\n",
              "      <td>7787.21</td>\n",
              "      <td>7787.21</td>\n",
              "      <td>3805.020000</td>\n",
              "      <td>3805.02</td>\n",
              "      <td>2212.79</td>\n",
              "      <td>1592.23</td>\n",
              "      <td>0.0</td>\n",
              "      <td>0.0</td>\n",
              "      <td>0.0</td>\n",
              "      <td>May-2020</td>\n",
              "      <td>227.43</td>\n",
              "      <td>Jun-2020</td>\n",
              "      <td>May-2020</td>\n",
              "      <td>0.0</td>\n",
              "      <td>...</td>\n",
              "      <td>6.0</td>\n",
              "      <td>5.0</td>\n",
              "      <td>7.0</td>\n",
              "      <td>0.0</td>\n",
              "      <td>0.0</td>\n",
              "      <td>0.0</td>\n",
              "      <td>1.0</td>\n",
              "      <td>100.0</td>\n",
              "      <td>33.3</td>\n",
              "      <td>1.0</td>\n",
              "      <td>0.0</td>\n",
              "      <td>36200.0</td>\n",
              "      <td>27595.0</td>\n",
              "      <td>13000.0</td>\n",
              "      <td>16500.0</td>\n",
              "      <td>NaN</td>\n",
              "      <td>NaN</td>\n",
              "      <td>NaN</td>\n",
              "      <td>NaN</td>\n",
              "      <td>NaN</td>\n",
              "      <td>NaN</td>\n",
              "      <td>NaN</td>\n",
              "      <td>NaN</td>\n",
              "      <td>NaN</td>\n",
              "      <td>NaN</td>\n",
              "      <td>NaN</td>\n",
              "      <td>N</td>\n",
              "      <td>NaN</td>\n",
              "      <td>NaN</td>\n",
              "      <td>NaN</td>\n",
              "      <td>NaN</td>\n",
              "      <td>NaN</td>\n",
              "      <td>NaN</td>\n",
              "      <td>NaN</td>\n",
              "      <td>NaN</td>\n",
              "      <td>NaN</td>\n",
              "      <td>NaN</td>\n",
              "      <td>NaN</td>\n",
              "      <td>NaN</td>\n",
              "      <td>NaN</td>\n",
              "      <td>NaN</td>\n",
              "      <td>N</td>\n",
              "      <td>NaN</td>\n",
              "      <td>NaN</td>\n",
              "      <td>NaN</td>\n",
              "      <td>NaN</td>\n",
              "      <td>NaN</td>\n",
              "      <td>NaN</td>\n",
              "      <td>2020-05-01</td>\n",
              "      <td>2020.0</td>\n",
              "    </tr>\n",
              "    <tr>\n",
              "      <th>4</th>\n",
              "      <td>NaN</td>\n",
              "      <td>NaN</td>\n",
              "      <td>30000.0</td>\n",
              "      <td>30000.0</td>\n",
              "      <td>30000.0</td>\n",
              "      <td>60 months</td>\n",
              "      <td>26.31%</td>\n",
              "      <td>903.73</td>\n",
              "      <td>E</td>\n",
              "      <td>E4</td>\n",
              "      <td>Casino Host</td>\n",
              "      <td>10+ years</td>\n",
              "      <td>OWN</td>\n",
              "      <td>62000.0</td>\n",
              "      <td>Source Verified</td>\n",
              "      <td>Dec-2018</td>\n",
              "      <td>Charged Off</td>\n",
              "      <td>n</td>\n",
              "      <td>NaN</td>\n",
              "      <td>NaN</td>\n",
              "      <td>debt_consolidation</td>\n",
              "      <td>Debt consolidation</td>\n",
              "      <td>920xx</td>\n",
              "      <td>CA</td>\n",
              "      <td>37.24</td>\n",
              "      <td>0.0</td>\n",
              "      <td>Oct-2007</td>\n",
              "      <td>0.0</td>\n",
              "      <td>NaN</td>\n",
              "      <td>86.0</td>\n",
              "      <td>15.0</td>\n",
              "      <td>1.0</td>\n",
              "      <td>18890.0</td>\n",
              "      <td>39.8%</td>\n",
              "      <td>36.0</td>\n",
              "      <td>w</td>\n",
              "      <td>0.00</td>\n",
              "      <td>0.00</td>\n",
              "      <td>2645.410000</td>\n",
              "      <td>2645.41</td>\n",
              "      <td>754.24</td>\n",
              "      <td>1891.17</td>\n",
              "      <td>0.0</td>\n",
              "      <td>0.0</td>\n",
              "      <td>0.0</td>\n",
              "      <td>Apr-2019</td>\n",
              "      <td>903.73</td>\n",
              "      <td>NaN</td>\n",
              "      <td>May-2020</td>\n",
              "      <td>0.0</td>\n",
              "      <td>...</td>\n",
              "      <td>16.0</td>\n",
              "      <td>5.0</td>\n",
              "      <td>15.0</td>\n",
              "      <td>0.0</td>\n",
              "      <td>0.0</td>\n",
              "      <td>0.0</td>\n",
              "      <td>1.0</td>\n",
              "      <td>100.0</td>\n",
              "      <td>14.3</td>\n",
              "      <td>1.0</td>\n",
              "      <td>0.0</td>\n",
              "      <td>138354.0</td>\n",
              "      <td>104590.0</td>\n",
              "      <td>36400.0</td>\n",
              "      <td>90854.0</td>\n",
              "      <td>NaN</td>\n",
              "      <td>NaN</td>\n",
              "      <td>NaN</td>\n",
              "      <td>NaN</td>\n",
              "      <td>NaN</td>\n",
              "      <td>NaN</td>\n",
              "      <td>NaN</td>\n",
              "      <td>NaN</td>\n",
              "      <td>NaN</td>\n",
              "      <td>NaN</td>\n",
              "      <td>NaN</td>\n",
              "      <td>N</td>\n",
              "      <td>NaN</td>\n",
              "      <td>NaN</td>\n",
              "      <td>NaN</td>\n",
              "      <td>NaN</td>\n",
              "      <td>NaN</td>\n",
              "      <td>NaN</td>\n",
              "      <td>NaN</td>\n",
              "      <td>NaN</td>\n",
              "      <td>NaN</td>\n",
              "      <td>NaN</td>\n",
              "      <td>NaN</td>\n",
              "      <td>NaN</td>\n",
              "      <td>NaN</td>\n",
              "      <td>NaN</td>\n",
              "      <td>N</td>\n",
              "      <td>NaN</td>\n",
              "      <td>NaN</td>\n",
              "      <td>NaN</td>\n",
              "      <td>NaN</td>\n",
              "      <td>NaN</td>\n",
              "      <td>NaN</td>\n",
              "      <td>2019-04-01</td>\n",
              "      <td>2019.0</td>\n",
              "    </tr>\n",
              "  </tbody>\n",
              "</table>\n",
              "<p>5 rows × 146 columns</p>\n",
              "</div>"
            ],
            "text/plain": [
              "    id  member_id  loan_amnt  funded_amnt  funded_amnt_inv        term  \\\n",
              "0  NaN        NaN    20000.0      20000.0          20000.0   36 months   \n",
              "1  NaN        NaN    16000.0      16000.0          16000.0         NaN   \n",
              "2  NaN        NaN     8425.0       8425.0           8425.0         NaN   \n",
              "3  NaN        NaN    10000.0      10000.0          10000.0   60 months   \n",
              "4  NaN        NaN    30000.0      30000.0          30000.0   60 months   \n",
              "\n",
              "  int_rate  installment grade sub_grade                        emp_title  \\\n",
              "0   14.47%       688.13     C        C2                       bus driver   \n",
              "1   14.47%       550.51     C        C2                        Carpenter   \n",
              "2   27.27%       345.18     E        E5  Senior Director Risk Management   \n",
              "3   12.98%       227.43     B        B5                          Printer   \n",
              "4   26.31%       903.73     E        E4                      Casino Host   \n",
              "\n",
              "  emp_length home_ownership  annual_inc verification_status   issue_d  \\\n",
              "0    4 years            OWN     52000.0     Source Verified  Dec-2018   \n",
              "1  10+ years           RENT    150000.0     Source Verified  Dec-2018   \n",
              "2    3 years       MORTGAGE    450000.0            Verified  Dec-2018   \n",
              "3    9 years           RENT     60000.0        Not Verified  Dec-2018   \n",
              "4  10+ years            OWN     62000.0     Source Verified  Dec-2018   \n",
              "\n",
              "   loan_status pymnt_plan  url  desc             purpose  \\\n",
              "0  Charged Off          n  NaN   NaN  debt_consolidation   \n",
              "1      Current          n  NaN   NaN               other   \n",
              "2   Fully Paid          n  NaN   NaN         credit_card   \n",
              "3      Current          n  NaN   NaN         credit_card   \n",
              "4  Charged Off          n  NaN   NaN  debt_consolidation   \n",
              "\n",
              "                     title zip_code addr_state    dti  delinq_2yrs  \\\n",
              "0       Debt consolidation    681xx         NE  30.65          1.0   \n",
              "1                    Other    917xx         CA  17.94          0.0   \n",
              "2  Credit card refinancing    020xx         MA  12.37          0.0   \n",
              "3  Credit card refinancing    660xx         KS  14.90          0.0   \n",
              "4       Debt consolidation    920xx         CA  37.24          0.0   \n",
              "\n",
              "  earliest_cr_line  inq_last_6mths  mths_since_last_delinq  \\\n",
              "0         Jun-1979             2.0                    15.0   \n",
              "1         Nov-2001             1.0                     NaN   \n",
              "2         Oct-1997             0.0                     NaN   \n",
              "3         May-2007             0.0                     NaN   \n",
              "4         Oct-2007             0.0                     NaN   \n",
              "\n",
              "   mths_since_last_record  open_acc  pub_rec  revol_bal revol_util  total_acc  \\\n",
              "0                     NaN       6.0      0.0    15048.0        73%       22.0   \n",
              "1                     NaN      24.0      0.0    43721.0      59.2%       29.0   \n",
              "2                     NaN      21.0      0.0    36812.0      65.7%       37.0   \n",
              "3                   112.0       7.0      1.0    10677.0      54.2%       12.0   \n",
              "4                    86.0      15.0      1.0    18890.0      39.8%       36.0   \n",
              "\n",
              "  initial_list_status  out_prncp  out_prncp_inv  total_pymnt  total_pymnt_inv  \\\n",
              "0                   w       0.00           0.00  8169.130000          8169.13   \n",
              "1                   w    9726.53        9726.53  8788.870000          8788.87   \n",
              "2                   w       0.00           0.00  8735.148975          8735.15   \n",
              "3                   w    7787.21        7787.21  3805.020000          3805.02   \n",
              "4                   w       0.00           0.00  2645.410000          2645.41   \n",
              "\n",
              "   total_rec_prncp  total_rec_int  total_rec_late_fee  recoveries  \\\n",
              "0          5731.54        2437.59                 0.0         0.0   \n",
              "1          6273.47        2515.40                 0.0         0.0   \n",
              "2          8425.00         310.15                 0.0         0.0   \n",
              "3          2212.79        1592.23                 0.0         0.0   \n",
              "4           754.24        1891.17                 0.0         0.0   \n",
              "\n",
              "   collection_recovery_fee last_pymnt_d  last_pymnt_amnt next_pymnt_d  \\\n",
              "0                      0.0     Feb-2020             0.00          NaN   \n",
              "1                      0.0     May-2020             0.00     Jun-2020   \n",
              "2                      0.0     Feb-2019          8754.30          NaN   \n",
              "3                      0.0     May-2020           227.43     Jun-2020   \n",
              "4                      0.0     Apr-2019           903.73          NaN   \n",
              "\n",
              "  last_credit_pull_d  collections_12_mths_ex_med  ...  num_rev_accts  \\\n",
              "0           Mar-2020                         0.0  ...           14.0   \n",
              "1           May-2020                         0.0  ...           25.0   \n",
              "2           Mar-2020                         0.0  ...           17.0   \n",
              "3           May-2020                         0.0  ...            6.0   \n",
              "4           May-2020                         0.0  ...           16.0   \n",
              "\n",
              "   num_rev_tl_bal_gt_0 num_sats  num_tl_120dpd_2m  num_tl_30dpd  \\\n",
              "0                  4.0      6.0               NaN           0.0   \n",
              "1                 19.0     24.0               0.0           0.0   \n",
              "2                  8.0     21.0               0.0           0.0   \n",
              "3                  5.0      7.0               0.0           0.0   \n",
              "4                  5.0     15.0               0.0           0.0   \n",
              "\n",
              "  num_tl_90g_dpd_24m  num_tl_op_past_12m  pct_tl_nvr_dlq  percent_bc_gt_75  \\\n",
              "0                0.0                 2.0            95.0              50.0   \n",
              "1                0.0                 0.0           100.0              85.7   \n",
              "2                0.0                 2.0           100.0              50.0   \n",
              "3                0.0                 1.0           100.0              33.3   \n",
              "4                0.0                 1.0           100.0              14.3   \n",
              "\n",
              "   pub_rec_bankruptcies  tax_liens  tot_hi_cred_lim  total_bal_ex_mort  \\\n",
              "0                   0.0        0.0          61699.0            33157.0   \n",
              "1                   0.0        0.0         116647.0            57465.0   \n",
              "2                   0.0        0.0         768304.0           189194.0   \n",
              "3                   1.0        0.0          36200.0            27595.0   \n",
              "4                   1.0        0.0         138354.0           104590.0   \n",
              "\n",
              "   total_bc_limit  total_il_high_credit_limit  revol_bal_joint  \\\n",
              "0         20700.0                     40999.0              NaN   \n",
              "1         32100.0                     42847.0              NaN   \n",
              "2         45800.0                    189054.0         141905.0   \n",
              "3         13000.0                     16500.0              NaN   \n",
              "4         36400.0                     90854.0              NaN   \n",
              "\n",
              "   sec_app_earliest_cr_line  sec_app_inq_last_6mths  sec_app_mort_acc  \\\n",
              "0                       NaN                     NaN               NaN   \n",
              "1                       NaN                     NaN               NaN   \n",
              "2                  Jun-2013                     0.0               1.0   \n",
              "3                       NaN                     NaN               NaN   \n",
              "4                       NaN                     NaN               NaN   \n",
              "\n",
              "   sec_app_open_acc  sec_app_revol_util  sec_app_open_act_il  \\\n",
              "0               NaN                 NaN                  NaN   \n",
              "1               NaN                 NaN                  NaN   \n",
              "2               4.0                77.4                  1.0   \n",
              "3               NaN                 NaN                  NaN   \n",
              "4               NaN                 NaN                  NaN   \n",
              "\n",
              "   sec_app_num_rev_accts  sec_app_chargeoff_within_12_mths  \\\n",
              "0                    NaN                               NaN   \n",
              "1                    NaN                               NaN   \n",
              "2                    4.0                               0.0   \n",
              "3                    NaN                               NaN   \n",
              "4                    NaN                               NaN   \n",
              "\n",
              "   sec_app_collections_12_mths_ex_med  sec_app_mths_since_last_major_derog  \\\n",
              "0                                 NaN                                  NaN   \n",
              "1                                 NaN                                  NaN   \n",
              "2                                 0.0                                  NaN   \n",
              "3                                 NaN                                  NaN   \n",
              "4                                 NaN                                  NaN   \n",
              "\n",
              "   hardship_flag  hardship_type  hardship_reason  hardship_status  \\\n",
              "0            NaN            NaN              NaN              NaN   \n",
              "1              N            NaN              NaN              NaN   \n",
              "2              N            NaN              NaN              NaN   \n",
              "3              N            NaN              NaN              NaN   \n",
              "4              N            NaN              NaN              NaN   \n",
              "\n",
              "   deferral_term  hardship_amount  hardship_start_date  hardship_end_date  \\\n",
              "0            NaN           688.13                  NaN                NaN   \n",
              "1            NaN              NaN                  NaN                NaN   \n",
              "2            NaN              NaN                  NaN                NaN   \n",
              "3            NaN              NaN                  NaN                NaN   \n",
              "4            NaN              NaN                  NaN                NaN   \n",
              "\n",
              "   payment_plan_start_date  hardship_length  hardship_dpd  \\\n",
              "0                      NaN              NaN           NaN   \n",
              "1                      NaN              NaN           NaN   \n",
              "2                      NaN              NaN           NaN   \n",
              "3                      NaN              NaN           NaN   \n",
              "4                      NaN              NaN           NaN   \n",
              "\n",
              "   hardship_loan_status  orig_projected_additional_accrued_interest  \\\n",
              "0                   NaN                                         0.0   \n",
              "1                   NaN                                         NaN   \n",
              "2                   NaN                                         NaN   \n",
              "3                   NaN                                         NaN   \n",
              "4                   NaN                                         NaN   \n",
              "\n",
              "   hardship_payoff_balance_amount  hardship_last_payment_amount  \\\n",
              "0                             0.0                        688.13   \n",
              "1                             NaN                           NaN   \n",
              "2                             NaN                           NaN   \n",
              "3                             NaN                           NaN   \n",
              "4                             NaN                           NaN   \n",
              "\n",
              "   debt_settlement_flag  debt_settlement_flag_date  settlement_status  \\\n",
              "0                     N                        NaN                NaN   \n",
              "1                     N                        NaN                NaN   \n",
              "2                     N                        NaN                NaN   \n",
              "3                     N                        NaN                NaN   \n",
              "4                     N                        NaN                NaN   \n",
              "\n",
              "   settlement_date  settlement_amount  settlement_percentage  settlement_term  \\\n",
              "0              NaN                NaN                    NaN              NaN   \n",
              "1              NaN                NaN                    NaN              NaN   \n",
              "2              NaN                NaN                    NaN              NaN   \n",
              "3              NaN                NaN                    NaN              NaN   \n",
              "4              NaN                NaN                    NaN              NaN   \n",
              "\n",
              "   last_pymnt_d_year    year  \n",
              "0         2020-02-01  2020.0  \n",
              "1         2020-05-01  2020.0  \n",
              "2         2019-02-01  2019.0  \n",
              "3         2020-05-01  2020.0  \n",
              "4         2019-04-01  2019.0  \n",
              "\n",
              "[5 rows x 146 columns]"
            ]
          },
          "metadata": {
            "tags": []
          },
          "execution_count": 566
        }
      ]
    },
    {
      "cell_type": "code",
      "metadata": {
        "id": "PiO4xw-rJEHR",
        "colab_type": "code",
        "colab": {}
      },
      "source": [
        ""
      ],
      "execution_count": 0,
      "outputs": []
    },
    {
      "cell_type": "code",
      "metadata": {
        "id": "urIePNa0yNG6",
        "colab_type": "code",
        "outputId": "59c93694-c079-458c-b903-9d5d98c3e8b5",
        "colab": {
          "base_uri": "https://localhost:8080/",
          "height": 196
        }
      },
      "source": [
        "!wget https://s3.amazonaws.com/instacart-datasets/instacart_online_grocery_shopping_2017_05_01.tar.gz"
      ],
      "execution_count": 0,
      "outputs": [
        {
          "output_type": "stream",
          "text": [
            "--2020-06-02 20:28:42--  https://s3.amazonaws.com/instacart-datasets/instacart_online_grocery_shopping_2017_05_01.tar.gz\n",
            "Resolving s3.amazonaws.com (s3.amazonaws.com)... 52.217.17.94\n",
            "Connecting to s3.amazonaws.com (s3.amazonaws.com)|52.217.17.94|:443... connected.\n",
            "HTTP request sent, awaiting response... 200 OK\n",
            "Length: 205548478 (196M) [application/x-gzip]\n",
            "Saving to: ‘instacart_online_grocery_shopping_2017_05_01.tar.gz.1’\n",
            "\n",
            "instacart_online_gr 100%[===================>] 196.03M  67.6MB/s    in 2.9s    \n",
            "\n",
            "2020-06-02 20:28:45 (67.6 MB/s) - ‘instacart_online_grocery_shopping_2017_05_01.tar.gz.1’ saved [205548478/205548478]\n",
            "\n"
          ],
          "name": "stdout"
        }
      ]
    },
    {
      "cell_type": "code",
      "metadata": {
        "id": "X9zEyu-uyNG8",
        "colab_type": "code",
        "outputId": "119c837a-f824-46cf-ee79-1a18a02bd6a1",
        "colab": {
          "base_uri": "https://localhost:8080/",
          "height": 82
        }
      },
      "source": [
        "!tar --gunzip --extract --verbose --file=instacart_online_grocery_shopping_2017_05_01.tar.gz"
      ],
      "execution_count": 460,
      "outputs": [
        {
          "output_type": "stream",
          "text": [
            "tar (child): instacart_online_grocery_shopping_2017_05_01.tar.gz: Cannot open: No such file or directory\n",
            "tar (child): Error is not recoverable: exiting now\n",
            "tar: Child returned status 2\n",
            "tar: Error is not recoverable: exiting now\n"
          ],
          "name": "stdout"
        }
      ]
    },
    {
      "cell_type": "code",
      "metadata": {
        "id": "Y3IqrhlpyNG-",
        "colab_type": "code",
        "outputId": "fe868328-7235-490f-d88a-26877b5d4d39",
        "colab": {
          "base_uri": "https://localhost:8080/",
          "height": 50
        }
      },
      "source": [
        " %cd instacart_2017_05_01"
      ],
      "execution_count": 514,
      "outputs": [
        {
          "output_type": "stream",
          "text": [
            "[Errno 2] No such file or directory: 'instacart_2017_05_01'\n",
            "/content/instacart_2017_05_01\n"
          ],
          "name": "stdout"
        }
      ]
    },
    {
      "cell_type": "code",
      "metadata": {
        "id": "1ItE1M9vJ2Ye",
        "colab_type": "code",
        "colab": {
          "base_uri": "https://localhost:8080/",
          "height": 196
        },
        "outputId": "46a5f35b-007c-4a53-a863-b52e1477f4d3"
      },
      "source": [
        "df['int_rate'].head(10)"
      ],
      "execution_count": 567,
      "outputs": [
        {
          "output_type": "execute_result",
          "data": {
            "text/plain": [
              "0     14.47%\n",
              "1     14.47%\n",
              "2     27.27%\n",
              "3     12.98%\n",
              "4     26.31%\n",
              "5     17.97%\n",
              "6     11.80%\n",
              "7     10.72%\n",
              "8     16.14%\n",
              "9     12.98%\n",
              "Name: int_rate, dtype: object"
            ]
          },
          "metadata": {
            "tags": []
          },
          "execution_count": 567
        }
      ]
    },
    {
      "cell_type": "code",
      "metadata": {
        "id": "lWL3U0deMQhM",
        "colab_type": "code",
        "colab": {
          "base_uri": "https://localhost:8080/",
          "height": 33
        },
        "outputId": "d1fea7ae-a393-4b22-8f88-8a64e1bc3313"
      },
      "source": [
        "\n",
        "df['int_rate'][1]"
      ],
      "execution_count": 568,
      "outputs": [
        {
          "output_type": "execute_result",
          "data": {
            "text/plain": [
              "' 14.47%'"
            ]
          },
          "metadata": {
            "tags": []
          },
          "execution_count": 568
        }
      ]
    },
    {
      "cell_type": "code",
      "metadata": {
        "id": "iuGPT6R6Ma5h",
        "colab_type": "code",
        "colab": {
          "base_uri": "https://localhost:8080/",
          "height": 335
        },
        "outputId": "c79e91f0-8dc0-4f9d-c782-c0542744e4e3"
      },
      "source": [
        "df.iloc[0:10,0:10]"
      ],
      "execution_count": 569,
      "outputs": [
        {
          "output_type": "execute_result",
          "data": {
            "text/html": [
              "<div>\n",
              "<style scoped>\n",
              "    .dataframe tbody tr th:only-of-type {\n",
              "        vertical-align: middle;\n",
              "    }\n",
              "\n",
              "    .dataframe tbody tr th {\n",
              "        vertical-align: top;\n",
              "    }\n",
              "\n",
              "    .dataframe thead th {\n",
              "        text-align: right;\n",
              "    }\n",
              "</style>\n",
              "<table border=\"1\" class=\"dataframe\">\n",
              "  <thead>\n",
              "    <tr style=\"text-align: right;\">\n",
              "      <th></th>\n",
              "      <th>id</th>\n",
              "      <th>member_id</th>\n",
              "      <th>loan_amnt</th>\n",
              "      <th>funded_amnt</th>\n",
              "      <th>funded_amnt_inv</th>\n",
              "      <th>term</th>\n",
              "      <th>int_rate</th>\n",
              "      <th>installment</th>\n",
              "      <th>grade</th>\n",
              "      <th>sub_grade</th>\n",
              "    </tr>\n",
              "  </thead>\n",
              "  <tbody>\n",
              "    <tr>\n",
              "      <th>0</th>\n",
              "      <td>NaN</td>\n",
              "      <td>NaN</td>\n",
              "      <td>20000.0</td>\n",
              "      <td>20000.0</td>\n",
              "      <td>20000.0</td>\n",
              "      <td>36 months</td>\n",
              "      <td>14.47%</td>\n",
              "      <td>688.13</td>\n",
              "      <td>C</td>\n",
              "      <td>C2</td>\n",
              "    </tr>\n",
              "    <tr>\n",
              "      <th>1</th>\n",
              "      <td>NaN</td>\n",
              "      <td>NaN</td>\n",
              "      <td>16000.0</td>\n",
              "      <td>16000.0</td>\n",
              "      <td>16000.0</td>\n",
              "      <td>NaN</td>\n",
              "      <td>14.47%</td>\n",
              "      <td>550.51</td>\n",
              "      <td>C</td>\n",
              "      <td>C2</td>\n",
              "    </tr>\n",
              "    <tr>\n",
              "      <th>2</th>\n",
              "      <td>NaN</td>\n",
              "      <td>NaN</td>\n",
              "      <td>8425.0</td>\n",
              "      <td>8425.0</td>\n",
              "      <td>8425.0</td>\n",
              "      <td>NaN</td>\n",
              "      <td>27.27%</td>\n",
              "      <td>345.18</td>\n",
              "      <td>E</td>\n",
              "      <td>E5</td>\n",
              "    </tr>\n",
              "    <tr>\n",
              "      <th>3</th>\n",
              "      <td>NaN</td>\n",
              "      <td>NaN</td>\n",
              "      <td>10000.0</td>\n",
              "      <td>10000.0</td>\n",
              "      <td>10000.0</td>\n",
              "      <td>60 months</td>\n",
              "      <td>12.98%</td>\n",
              "      <td>227.43</td>\n",
              "      <td>B</td>\n",
              "      <td>B5</td>\n",
              "    </tr>\n",
              "    <tr>\n",
              "      <th>4</th>\n",
              "      <td>NaN</td>\n",
              "      <td>NaN</td>\n",
              "      <td>30000.0</td>\n",
              "      <td>30000.0</td>\n",
              "      <td>30000.0</td>\n",
              "      <td>60 months</td>\n",
              "      <td>26.31%</td>\n",
              "      <td>903.73</td>\n",
              "      <td>E</td>\n",
              "      <td>E4</td>\n",
              "    </tr>\n",
              "    <tr>\n",
              "      <th>5</th>\n",
              "      <td>NaN</td>\n",
              "      <td>NaN</td>\n",
              "      <td>13000.0</td>\n",
              "      <td>13000.0</td>\n",
              "      <td>13000.0</td>\n",
              "      <td>36 months</td>\n",
              "      <td>17.97%</td>\n",
              "      <td>469.79</td>\n",
              "      <td>D</td>\n",
              "      <td>D1</td>\n",
              "    </tr>\n",
              "    <tr>\n",
              "      <th>6</th>\n",
              "      <td>NaN</td>\n",
              "      <td>NaN</td>\n",
              "      <td>6500.0</td>\n",
              "      <td>6500.0</td>\n",
              "      <td>6500.0</td>\n",
              "      <td>36 months</td>\n",
              "      <td>11.80%</td>\n",
              "      <td>215.28</td>\n",
              "      <td>B</td>\n",
              "      <td>B4</td>\n",
              "    </tr>\n",
              "    <tr>\n",
              "      <th>7</th>\n",
              "      <td>NaN</td>\n",
              "      <td>NaN</td>\n",
              "      <td>7500.0</td>\n",
              "      <td>7500.0</td>\n",
              "      <td>7500.0</td>\n",
              "      <td>36 months</td>\n",
              "      <td>10.72%</td>\n",
              "      <td>244.55</td>\n",
              "      <td>B</td>\n",
              "      <td>B2</td>\n",
              "    </tr>\n",
              "    <tr>\n",
              "      <th>8</th>\n",
              "      <td>NaN</td>\n",
              "      <td>NaN</td>\n",
              "      <td>14000.0</td>\n",
              "      <td>14000.0</td>\n",
              "      <td>14000.0</td>\n",
              "      <td>36 months</td>\n",
              "      <td>16.14%</td>\n",
              "      <td>493.17</td>\n",
              "      <td>C</td>\n",
              "      <td>C4</td>\n",
              "    </tr>\n",
              "    <tr>\n",
              "      <th>9</th>\n",
              "      <td>NaN</td>\n",
              "      <td>NaN</td>\n",
              "      <td>25000.0</td>\n",
              "      <td>25000.0</td>\n",
              "      <td>25000.0</td>\n",
              "      <td>60 months</td>\n",
              "      <td>12.98%</td>\n",
              "      <td>568.58</td>\n",
              "      <td>B</td>\n",
              "      <td>B5</td>\n",
              "    </tr>\n",
              "  </tbody>\n",
              "</table>\n",
              "</div>"
            ],
            "text/plain": [
              "    id  member_id  loan_amnt  funded_amnt  funded_amnt_inv        term  \\\n",
              "0  NaN        NaN    20000.0      20000.0          20000.0   36 months   \n",
              "1  NaN        NaN    16000.0      16000.0          16000.0         NaN   \n",
              "2  NaN        NaN     8425.0       8425.0           8425.0         NaN   \n",
              "3  NaN        NaN    10000.0      10000.0          10000.0   60 months   \n",
              "4  NaN        NaN    30000.0      30000.0          30000.0   60 months   \n",
              "5  NaN        NaN    13000.0      13000.0          13000.0   36 months   \n",
              "6  NaN        NaN     6500.0       6500.0           6500.0   36 months   \n",
              "7  NaN        NaN     7500.0       7500.0           7500.0   36 months   \n",
              "8  NaN        NaN    14000.0      14000.0          14000.0   36 months   \n",
              "9  NaN        NaN    25000.0      25000.0          25000.0   60 months   \n",
              "\n",
              "  int_rate  installment grade sub_grade  \n",
              "0   14.47%       688.13     C        C2  \n",
              "1   14.47%       550.51     C        C2  \n",
              "2   27.27%       345.18     E        E5  \n",
              "3   12.98%       227.43     B        B5  \n",
              "4   26.31%       903.73     E        E4  \n",
              "5   17.97%       469.79     D        D1  \n",
              "6   11.80%       215.28     B        B4  \n",
              "7   10.72%       244.55     B        B2  \n",
              "8   16.14%       493.17     C        C4  \n",
              "9   12.98%       568.58     B        B5  "
            ]
          },
          "metadata": {
            "tags": []
          },
          "execution_count": 569
        }
      ]
    },
    {
      "cell_type": "code",
      "metadata": {
        "id": "AyuEMlZlM0Gx",
        "colab_type": "code",
        "colab": {}
      },
      "source": [
        "int_rate = '14.47%'\n",
        " "
      ],
      "execution_count": 0,
      "outputs": []
    },
    {
      "cell_type": "code",
      "metadata": {
        "id": "qSXJWz8ANgUo",
        "colab_type": "code",
        "colab": {
          "base_uri": "https://localhost:8080/",
          "height": 33
        },
        "outputId": "33b936f7-98d4-4a65-b30c-133a771fec04"
      },
      "source": [
        "int_rate.strip()"
      ],
      "execution_count": 593,
      "outputs": [
        {
          "output_type": "execute_result",
          "data": {
            "text/plain": [
              "'14.47%'"
            ]
          },
          "metadata": {
            "tags": []
          },
          "execution_count": 593
        }
      ]
    },
    {
      "cell_type": "code",
      "metadata": {
        "id": "q7pRb2dvNmW5",
        "colab_type": "code",
        "colab": {
          "base_uri": "https://localhost:8080/",
          "height": 33
        },
        "outputId": "ea2a2baf-0dd4-49d3-d747-a828a154be74"
      },
      "source": [
        "int_rate.strip('%')"
      ],
      "execution_count": 594,
      "outputs": [
        {
          "output_type": "execute_result",
          "data": {
            "text/plain": [
              "'14.47'"
            ]
          },
          "metadata": {
            "tags": []
          },
          "execution_count": 594
        }
      ]
    },
    {
      "cell_type": "code",
      "metadata": {
        "id": "IMRYwuIrOEtn",
        "colab_type": "code",
        "colab": {
          "base_uri": "https://localhost:8080/",
          "height": 33
        },
        "outputId": "c5ed11fc-abe1-42ac-9167-9ab08a98e83a"
      },
      "source": [
        "int_rate.strip().strip('%')"
      ],
      "execution_count": 595,
      "outputs": [
        {
          "output_type": "execute_result",
          "data": {
            "text/plain": [
              "'14.47'"
            ]
          },
          "metadata": {
            "tags": []
          },
          "execution_count": 595
        }
      ]
    },
    {
      "cell_type": "code",
      "metadata": {
        "id": "MsjM7CCcQSQH",
        "colab_type": "code",
        "colab": {
          "base_uri": "https://localhost:8080/",
          "height": 33
        },
        "outputId": "a3932f01-b05c-4fc2-c3f8-a09369703809"
      },
      "source": [
        "float(int_rate.strip().strip('%'))"
      ],
      "execution_count": 596,
      "outputs": [
        {
          "output_type": "execute_result",
          "data": {
            "text/plain": [
              "14.47"
            ]
          },
          "metadata": {
            "tags": []
          },
          "execution_count": 596
        }
      ]
    },
    {
      "cell_type": "code",
      "metadata": {
        "id": "YCFvZIRMSGiB",
        "colab_type": "code",
        "colab": {}
      },
      "source": [
        "def int_rate_to_float(dirty_int_rate):\n",
        "   return float(dirty_int_rate.strip().strip('%'))"
      ],
      "execution_count": 0,
      "outputs": []
    },
    {
      "cell_type": "code",
      "metadata": {
        "id": "obgi8nRNQ0rS",
        "colab_type": "code",
        "colab": {
          "base_uri": "https://localhost:8080/",
          "height": 33
        },
        "outputId": "35e1ec4c-fbe6-4f48-a682-343594b0512c"
      },
      "source": [
        "int_rate_to_float(int_rate)"
      ],
      "execution_count": 598,
      "outputs": [
        {
          "output_type": "execute_result",
          "data": {
            "text/plain": [
              "14.47"
            ]
          },
          "metadata": {
            "tags": []
          },
          "execution_count": 598
        }
      ]
    },
    {
      "cell_type": "code",
      "metadata": {
        "id": "gEWLoqLtPBiG",
        "colab_type": "code",
        "colab": {
          "base_uri": "https://localhost:8080/",
          "height": 33
        },
        "outputId": "2271fb63-91d1-4f63-c228-c29903673310"
      },
      "source": [
        " type(int_rate_to_float(int_rate))"
      ],
      "execution_count": 599,
      "outputs": [
        {
          "output_type": "execute_result",
          "data": {
            "text/plain": [
              "float"
            ]
          },
          "metadata": {
            "tags": []
          },
          "execution_count": 599
        }
      ]
    },
    {
      "cell_type": "code",
      "metadata": {
        "id": "3C7L4PywdfYj",
        "colab_type": "code",
        "colab": {}
      },
      "source": [
        " "
      ],
      "execution_count": 0,
      "outputs": []
    },
    {
      "cell_type": "code",
      "metadata": {
        "id": "UZwJjuMGOdAZ",
        "colab_type": "code",
        "colab": {
          "base_uri": "https://localhost:8080/",
          "height": 336
        },
        "outputId": "9583c6ed-643a-4f71-bd88-6a86f7afb50c"
      },
      "source": [
        "df.head()"
      ],
      "execution_count": 585,
      "outputs": [
        {
          "output_type": "execute_result",
          "data": {
            "text/html": [
              "<div>\n",
              "<style scoped>\n",
              "    .dataframe tbody tr th:only-of-type {\n",
              "        vertical-align: middle;\n",
              "    }\n",
              "\n",
              "    .dataframe tbody tr th {\n",
              "        vertical-align: top;\n",
              "    }\n",
              "\n",
              "    .dataframe thead th {\n",
              "        text-align: right;\n",
              "    }\n",
              "</style>\n",
              "<table border=\"1\" class=\"dataframe\">\n",
              "  <thead>\n",
              "    <tr style=\"text-align: right;\">\n",
              "      <th></th>\n",
              "      <th>id</th>\n",
              "      <th>member_id</th>\n",
              "      <th>loan_amnt</th>\n",
              "      <th>funded_amnt</th>\n",
              "      <th>funded_amnt_inv</th>\n",
              "      <th>term</th>\n",
              "      <th>int_rate</th>\n",
              "      <th>installment</th>\n",
              "      <th>grade</th>\n",
              "      <th>sub_grade</th>\n",
              "      <th>emp_title</th>\n",
              "      <th>emp_length</th>\n",
              "      <th>home_ownership</th>\n",
              "      <th>annual_inc</th>\n",
              "      <th>verification_status</th>\n",
              "      <th>issue_d</th>\n",
              "      <th>loan_status</th>\n",
              "      <th>pymnt_plan</th>\n",
              "      <th>url</th>\n",
              "      <th>desc</th>\n",
              "      <th>purpose</th>\n",
              "      <th>title</th>\n",
              "      <th>zip_code</th>\n",
              "      <th>addr_state</th>\n",
              "      <th>dti</th>\n",
              "      <th>delinq_2yrs</th>\n",
              "      <th>earliest_cr_line</th>\n",
              "      <th>inq_last_6mths</th>\n",
              "      <th>mths_since_last_delinq</th>\n",
              "      <th>mths_since_last_record</th>\n",
              "      <th>open_acc</th>\n",
              "      <th>pub_rec</th>\n",
              "      <th>revol_bal</th>\n",
              "      <th>revol_util</th>\n",
              "      <th>total_acc</th>\n",
              "      <th>initial_list_status</th>\n",
              "      <th>out_prncp</th>\n",
              "      <th>out_prncp_inv</th>\n",
              "      <th>total_pymnt</th>\n",
              "      <th>total_pymnt_inv</th>\n",
              "      <th>total_rec_prncp</th>\n",
              "      <th>total_rec_int</th>\n",
              "      <th>total_rec_late_fee</th>\n",
              "      <th>recoveries</th>\n",
              "      <th>collection_recovery_fee</th>\n",
              "      <th>last_pymnt_d</th>\n",
              "      <th>last_pymnt_amnt</th>\n",
              "      <th>next_pymnt_d</th>\n",
              "      <th>last_credit_pull_d</th>\n",
              "      <th>collections_12_mths_ex_med</th>\n",
              "      <th>...</th>\n",
              "      <th>num_rev_accts</th>\n",
              "      <th>num_rev_tl_bal_gt_0</th>\n",
              "      <th>num_sats</th>\n",
              "      <th>num_tl_120dpd_2m</th>\n",
              "      <th>num_tl_30dpd</th>\n",
              "      <th>num_tl_90g_dpd_24m</th>\n",
              "      <th>num_tl_op_past_12m</th>\n",
              "      <th>pct_tl_nvr_dlq</th>\n",
              "      <th>percent_bc_gt_75</th>\n",
              "      <th>pub_rec_bankruptcies</th>\n",
              "      <th>tax_liens</th>\n",
              "      <th>tot_hi_cred_lim</th>\n",
              "      <th>total_bal_ex_mort</th>\n",
              "      <th>total_bc_limit</th>\n",
              "      <th>total_il_high_credit_limit</th>\n",
              "      <th>revol_bal_joint</th>\n",
              "      <th>sec_app_earliest_cr_line</th>\n",
              "      <th>sec_app_inq_last_6mths</th>\n",
              "      <th>sec_app_mort_acc</th>\n",
              "      <th>sec_app_open_acc</th>\n",
              "      <th>sec_app_revol_util</th>\n",
              "      <th>sec_app_open_act_il</th>\n",
              "      <th>sec_app_num_rev_accts</th>\n",
              "      <th>sec_app_chargeoff_within_12_mths</th>\n",
              "      <th>sec_app_collections_12_mths_ex_med</th>\n",
              "      <th>sec_app_mths_since_last_major_derog</th>\n",
              "      <th>hardship_flag</th>\n",
              "      <th>hardship_type</th>\n",
              "      <th>hardship_reason</th>\n",
              "      <th>hardship_status</th>\n",
              "      <th>deferral_term</th>\n",
              "      <th>hardship_amount</th>\n",
              "      <th>hardship_start_date</th>\n",
              "      <th>hardship_end_date</th>\n",
              "      <th>payment_plan_start_date</th>\n",
              "      <th>hardship_length</th>\n",
              "      <th>hardship_dpd</th>\n",
              "      <th>hardship_loan_status</th>\n",
              "      <th>orig_projected_additional_accrued_interest</th>\n",
              "      <th>hardship_payoff_balance_amount</th>\n",
              "      <th>hardship_last_payment_amount</th>\n",
              "      <th>debt_settlement_flag</th>\n",
              "      <th>debt_settlement_flag_date</th>\n",
              "      <th>settlement_status</th>\n",
              "      <th>settlement_date</th>\n",
              "      <th>settlement_amount</th>\n",
              "      <th>settlement_percentage</th>\n",
              "      <th>settlement_term</th>\n",
              "      <th>last_pymnt_d_year</th>\n",
              "      <th>year</th>\n",
              "    </tr>\n",
              "  </thead>\n",
              "  <tbody>\n",
              "    <tr>\n",
              "      <th>0</th>\n",
              "      <td>NaN</td>\n",
              "      <td>NaN</td>\n",
              "      <td>20000.0</td>\n",
              "      <td>20000.0</td>\n",
              "      <td>20000.0</td>\n",
              "      <td>36 months</td>\n",
              "      <td>14.47%</td>\n",
              "      <td>688.13</td>\n",
              "      <td>C</td>\n",
              "      <td>C2</td>\n",
              "      <td>bus driver</td>\n",
              "      <td>4 years</td>\n",
              "      <td>OWN</td>\n",
              "      <td>52000.0</td>\n",
              "      <td>Source Verified</td>\n",
              "      <td>Dec-2018</td>\n",
              "      <td>Charged Off</td>\n",
              "      <td>n</td>\n",
              "      <td>NaN</td>\n",
              "      <td>NaN</td>\n",
              "      <td>debt_consolidation</td>\n",
              "      <td>Debt consolidation</td>\n",
              "      <td>681xx</td>\n",
              "      <td>NE</td>\n",
              "      <td>30.65</td>\n",
              "      <td>1.0</td>\n",
              "      <td>Jun-1979</td>\n",
              "      <td>2.0</td>\n",
              "      <td>15.0</td>\n",
              "      <td>NaN</td>\n",
              "      <td>6.0</td>\n",
              "      <td>0.0</td>\n",
              "      <td>15048.0</td>\n",
              "      <td>73%</td>\n",
              "      <td>22.0</td>\n",
              "      <td>w</td>\n",
              "      <td>0.00</td>\n",
              "      <td>0.00</td>\n",
              "      <td>8169.130000</td>\n",
              "      <td>8169.13</td>\n",
              "      <td>5731.54</td>\n",
              "      <td>2437.59</td>\n",
              "      <td>0.0</td>\n",
              "      <td>0.0</td>\n",
              "      <td>0.0</td>\n",
              "      <td>Feb-2020</td>\n",
              "      <td>0.00</td>\n",
              "      <td>NaN</td>\n",
              "      <td>Mar-2020</td>\n",
              "      <td>0.0</td>\n",
              "      <td>...</td>\n",
              "      <td>14.0</td>\n",
              "      <td>4.0</td>\n",
              "      <td>6.0</td>\n",
              "      <td>NaN</td>\n",
              "      <td>0.0</td>\n",
              "      <td>0.0</td>\n",
              "      <td>2.0</td>\n",
              "      <td>95.0</td>\n",
              "      <td>50.0</td>\n",
              "      <td>0.0</td>\n",
              "      <td>0.0</td>\n",
              "      <td>61699.0</td>\n",
              "      <td>33157.0</td>\n",
              "      <td>20700.0</td>\n",
              "      <td>40999.0</td>\n",
              "      <td>NaN</td>\n",
              "      <td>NaN</td>\n",
              "      <td>NaN</td>\n",
              "      <td>NaN</td>\n",
              "      <td>NaN</td>\n",
              "      <td>NaN</td>\n",
              "      <td>NaN</td>\n",
              "      <td>NaN</td>\n",
              "      <td>NaN</td>\n",
              "      <td>NaN</td>\n",
              "      <td>NaN</td>\n",
              "      <td>NaN</td>\n",
              "      <td>NaN</td>\n",
              "      <td>NaN</td>\n",
              "      <td>NaN</td>\n",
              "      <td>NaN</td>\n",
              "      <td>688.13</td>\n",
              "      <td>NaN</td>\n",
              "      <td>NaN</td>\n",
              "      <td>NaN</td>\n",
              "      <td>NaN</td>\n",
              "      <td>NaN</td>\n",
              "      <td>NaN</td>\n",
              "      <td>0.0</td>\n",
              "      <td>0.0</td>\n",
              "      <td>688.13</td>\n",
              "      <td>N</td>\n",
              "      <td>NaN</td>\n",
              "      <td>NaN</td>\n",
              "      <td>NaN</td>\n",
              "      <td>NaN</td>\n",
              "      <td>NaN</td>\n",
              "      <td>NaN</td>\n",
              "      <td>2020-02-01</td>\n",
              "      <td>2020.0</td>\n",
              "    </tr>\n",
              "    <tr>\n",
              "      <th>1</th>\n",
              "      <td>NaN</td>\n",
              "      <td>NaN</td>\n",
              "      <td>16000.0</td>\n",
              "      <td>16000.0</td>\n",
              "      <td>16000.0</td>\n",
              "      <td>NaN</td>\n",
              "      <td>14.47%</td>\n",
              "      <td>550.51</td>\n",
              "      <td>C</td>\n",
              "      <td>C2</td>\n",
              "      <td>Carpenter</td>\n",
              "      <td>10+ years</td>\n",
              "      <td>RENT</td>\n",
              "      <td>150000.0</td>\n",
              "      <td>Source Verified</td>\n",
              "      <td>Dec-2018</td>\n",
              "      <td>Current</td>\n",
              "      <td>n</td>\n",
              "      <td>NaN</td>\n",
              "      <td>NaN</td>\n",
              "      <td>other</td>\n",
              "      <td>Other</td>\n",
              "      <td>917xx</td>\n",
              "      <td>CA</td>\n",
              "      <td>17.94</td>\n",
              "      <td>0.0</td>\n",
              "      <td>Nov-2001</td>\n",
              "      <td>1.0</td>\n",
              "      <td>NaN</td>\n",
              "      <td>NaN</td>\n",
              "      <td>24.0</td>\n",
              "      <td>0.0</td>\n",
              "      <td>43721.0</td>\n",
              "      <td>59.2%</td>\n",
              "      <td>29.0</td>\n",
              "      <td>w</td>\n",
              "      <td>9726.53</td>\n",
              "      <td>9726.53</td>\n",
              "      <td>8788.870000</td>\n",
              "      <td>8788.87</td>\n",
              "      <td>6273.47</td>\n",
              "      <td>2515.40</td>\n",
              "      <td>0.0</td>\n",
              "      <td>0.0</td>\n",
              "      <td>0.0</td>\n",
              "      <td>May-2020</td>\n",
              "      <td>0.00</td>\n",
              "      <td>Jun-2020</td>\n",
              "      <td>May-2020</td>\n",
              "      <td>0.0</td>\n",
              "      <td>...</td>\n",
              "      <td>25.0</td>\n",
              "      <td>19.0</td>\n",
              "      <td>24.0</td>\n",
              "      <td>0.0</td>\n",
              "      <td>0.0</td>\n",
              "      <td>0.0</td>\n",
              "      <td>0.0</td>\n",
              "      <td>100.0</td>\n",
              "      <td>85.7</td>\n",
              "      <td>0.0</td>\n",
              "      <td>0.0</td>\n",
              "      <td>116647.0</td>\n",
              "      <td>57465.0</td>\n",
              "      <td>32100.0</td>\n",
              "      <td>42847.0</td>\n",
              "      <td>NaN</td>\n",
              "      <td>NaN</td>\n",
              "      <td>NaN</td>\n",
              "      <td>NaN</td>\n",
              "      <td>NaN</td>\n",
              "      <td>NaN</td>\n",
              "      <td>NaN</td>\n",
              "      <td>NaN</td>\n",
              "      <td>NaN</td>\n",
              "      <td>NaN</td>\n",
              "      <td>NaN</td>\n",
              "      <td>N</td>\n",
              "      <td>NaN</td>\n",
              "      <td>NaN</td>\n",
              "      <td>NaN</td>\n",
              "      <td>NaN</td>\n",
              "      <td>NaN</td>\n",
              "      <td>NaN</td>\n",
              "      <td>NaN</td>\n",
              "      <td>NaN</td>\n",
              "      <td>NaN</td>\n",
              "      <td>NaN</td>\n",
              "      <td>NaN</td>\n",
              "      <td>NaN</td>\n",
              "      <td>NaN</td>\n",
              "      <td>NaN</td>\n",
              "      <td>N</td>\n",
              "      <td>NaN</td>\n",
              "      <td>NaN</td>\n",
              "      <td>NaN</td>\n",
              "      <td>NaN</td>\n",
              "      <td>NaN</td>\n",
              "      <td>NaN</td>\n",
              "      <td>2020-05-01</td>\n",
              "      <td>2020.0</td>\n",
              "    </tr>\n",
              "    <tr>\n",
              "      <th>2</th>\n",
              "      <td>NaN</td>\n",
              "      <td>NaN</td>\n",
              "      <td>8425.0</td>\n",
              "      <td>8425.0</td>\n",
              "      <td>8425.0</td>\n",
              "      <td>NaN</td>\n",
              "      <td>27.27%</td>\n",
              "      <td>345.18</td>\n",
              "      <td>E</td>\n",
              "      <td>E5</td>\n",
              "      <td>Senior Director Risk Management</td>\n",
              "      <td>3 years</td>\n",
              "      <td>MORTGAGE</td>\n",
              "      <td>450000.0</td>\n",
              "      <td>Verified</td>\n",
              "      <td>Dec-2018</td>\n",
              "      <td>Fully Paid</td>\n",
              "      <td>n</td>\n",
              "      <td>NaN</td>\n",
              "      <td>NaN</td>\n",
              "      <td>credit_card</td>\n",
              "      <td>Credit card refinancing</td>\n",
              "      <td>020xx</td>\n",
              "      <td>MA</td>\n",
              "      <td>12.37</td>\n",
              "      <td>0.0</td>\n",
              "      <td>Oct-1997</td>\n",
              "      <td>0.0</td>\n",
              "      <td>NaN</td>\n",
              "      <td>NaN</td>\n",
              "      <td>21.0</td>\n",
              "      <td>0.0</td>\n",
              "      <td>36812.0</td>\n",
              "      <td>65.7%</td>\n",
              "      <td>37.0</td>\n",
              "      <td>w</td>\n",
              "      <td>0.00</td>\n",
              "      <td>0.00</td>\n",
              "      <td>8735.148975</td>\n",
              "      <td>8735.15</td>\n",
              "      <td>8425.00</td>\n",
              "      <td>310.15</td>\n",
              "      <td>0.0</td>\n",
              "      <td>0.0</td>\n",
              "      <td>0.0</td>\n",
              "      <td>Feb-2019</td>\n",
              "      <td>8754.30</td>\n",
              "      <td>NaN</td>\n",
              "      <td>Mar-2020</td>\n",
              "      <td>0.0</td>\n",
              "      <td>...</td>\n",
              "      <td>17.0</td>\n",
              "      <td>8.0</td>\n",
              "      <td>21.0</td>\n",
              "      <td>0.0</td>\n",
              "      <td>0.0</td>\n",
              "      <td>0.0</td>\n",
              "      <td>2.0</td>\n",
              "      <td>100.0</td>\n",
              "      <td>50.0</td>\n",
              "      <td>0.0</td>\n",
              "      <td>0.0</td>\n",
              "      <td>768304.0</td>\n",
              "      <td>189194.0</td>\n",
              "      <td>45800.0</td>\n",
              "      <td>189054.0</td>\n",
              "      <td>141905.0</td>\n",
              "      <td>Jun-2013</td>\n",
              "      <td>0.0</td>\n",
              "      <td>1.0</td>\n",
              "      <td>4.0</td>\n",
              "      <td>77.4</td>\n",
              "      <td>1.0</td>\n",
              "      <td>4.0</td>\n",
              "      <td>0.0</td>\n",
              "      <td>0.0</td>\n",
              "      <td>NaN</td>\n",
              "      <td>N</td>\n",
              "      <td>NaN</td>\n",
              "      <td>NaN</td>\n",
              "      <td>NaN</td>\n",
              "      <td>NaN</td>\n",
              "      <td>NaN</td>\n",
              "      <td>NaN</td>\n",
              "      <td>NaN</td>\n",
              "      <td>NaN</td>\n",
              "      <td>NaN</td>\n",
              "      <td>NaN</td>\n",
              "      <td>NaN</td>\n",
              "      <td>NaN</td>\n",
              "      <td>NaN</td>\n",
              "      <td>NaN</td>\n",
              "      <td>N</td>\n",
              "      <td>NaN</td>\n",
              "      <td>NaN</td>\n",
              "      <td>NaN</td>\n",
              "      <td>NaN</td>\n",
              "      <td>NaN</td>\n",
              "      <td>NaN</td>\n",
              "      <td>2019-02-01</td>\n",
              "      <td>2019.0</td>\n",
              "    </tr>\n",
              "    <tr>\n",
              "      <th>3</th>\n",
              "      <td>NaN</td>\n",
              "      <td>NaN</td>\n",
              "      <td>10000.0</td>\n",
              "      <td>10000.0</td>\n",
              "      <td>10000.0</td>\n",
              "      <td>60 months</td>\n",
              "      <td>12.98%</td>\n",
              "      <td>227.43</td>\n",
              "      <td>B</td>\n",
              "      <td>B5</td>\n",
              "      <td>Printer</td>\n",
              "      <td>9 years</td>\n",
              "      <td>RENT</td>\n",
              "      <td>60000.0</td>\n",
              "      <td>Not Verified</td>\n",
              "      <td>Dec-2018</td>\n",
              "      <td>Current</td>\n",
              "      <td>n</td>\n",
              "      <td>NaN</td>\n",
              "      <td>NaN</td>\n",
              "      <td>credit_card</td>\n",
              "      <td>Credit card refinancing</td>\n",
              "      <td>660xx</td>\n",
              "      <td>KS</td>\n",
              "      <td>14.90</td>\n",
              "      <td>0.0</td>\n",
              "      <td>May-2007</td>\n",
              "      <td>0.0</td>\n",
              "      <td>NaN</td>\n",
              "      <td>112.0</td>\n",
              "      <td>7.0</td>\n",
              "      <td>1.0</td>\n",
              "      <td>10677.0</td>\n",
              "      <td>54.2%</td>\n",
              "      <td>12.0</td>\n",
              "      <td>w</td>\n",
              "      <td>7787.21</td>\n",
              "      <td>7787.21</td>\n",
              "      <td>3805.020000</td>\n",
              "      <td>3805.02</td>\n",
              "      <td>2212.79</td>\n",
              "      <td>1592.23</td>\n",
              "      <td>0.0</td>\n",
              "      <td>0.0</td>\n",
              "      <td>0.0</td>\n",
              "      <td>May-2020</td>\n",
              "      <td>227.43</td>\n",
              "      <td>Jun-2020</td>\n",
              "      <td>May-2020</td>\n",
              "      <td>0.0</td>\n",
              "      <td>...</td>\n",
              "      <td>6.0</td>\n",
              "      <td>5.0</td>\n",
              "      <td>7.0</td>\n",
              "      <td>0.0</td>\n",
              "      <td>0.0</td>\n",
              "      <td>0.0</td>\n",
              "      <td>1.0</td>\n",
              "      <td>100.0</td>\n",
              "      <td>33.3</td>\n",
              "      <td>1.0</td>\n",
              "      <td>0.0</td>\n",
              "      <td>36200.0</td>\n",
              "      <td>27595.0</td>\n",
              "      <td>13000.0</td>\n",
              "      <td>16500.0</td>\n",
              "      <td>NaN</td>\n",
              "      <td>NaN</td>\n",
              "      <td>NaN</td>\n",
              "      <td>NaN</td>\n",
              "      <td>NaN</td>\n",
              "      <td>NaN</td>\n",
              "      <td>NaN</td>\n",
              "      <td>NaN</td>\n",
              "      <td>NaN</td>\n",
              "      <td>NaN</td>\n",
              "      <td>NaN</td>\n",
              "      <td>N</td>\n",
              "      <td>NaN</td>\n",
              "      <td>NaN</td>\n",
              "      <td>NaN</td>\n",
              "      <td>NaN</td>\n",
              "      <td>NaN</td>\n",
              "      <td>NaN</td>\n",
              "      <td>NaN</td>\n",
              "      <td>NaN</td>\n",
              "      <td>NaN</td>\n",
              "      <td>NaN</td>\n",
              "      <td>NaN</td>\n",
              "      <td>NaN</td>\n",
              "      <td>NaN</td>\n",
              "      <td>NaN</td>\n",
              "      <td>N</td>\n",
              "      <td>NaN</td>\n",
              "      <td>NaN</td>\n",
              "      <td>NaN</td>\n",
              "      <td>NaN</td>\n",
              "      <td>NaN</td>\n",
              "      <td>NaN</td>\n",
              "      <td>2020-05-01</td>\n",
              "      <td>2020.0</td>\n",
              "    </tr>\n",
              "    <tr>\n",
              "      <th>4</th>\n",
              "      <td>NaN</td>\n",
              "      <td>NaN</td>\n",
              "      <td>30000.0</td>\n",
              "      <td>30000.0</td>\n",
              "      <td>30000.0</td>\n",
              "      <td>60 months</td>\n",
              "      <td>26.31%</td>\n",
              "      <td>903.73</td>\n",
              "      <td>E</td>\n",
              "      <td>E4</td>\n",
              "      <td>Casino Host</td>\n",
              "      <td>10+ years</td>\n",
              "      <td>OWN</td>\n",
              "      <td>62000.0</td>\n",
              "      <td>Source Verified</td>\n",
              "      <td>Dec-2018</td>\n",
              "      <td>Charged Off</td>\n",
              "      <td>n</td>\n",
              "      <td>NaN</td>\n",
              "      <td>NaN</td>\n",
              "      <td>debt_consolidation</td>\n",
              "      <td>Debt consolidation</td>\n",
              "      <td>920xx</td>\n",
              "      <td>CA</td>\n",
              "      <td>37.24</td>\n",
              "      <td>0.0</td>\n",
              "      <td>Oct-2007</td>\n",
              "      <td>0.0</td>\n",
              "      <td>NaN</td>\n",
              "      <td>86.0</td>\n",
              "      <td>15.0</td>\n",
              "      <td>1.0</td>\n",
              "      <td>18890.0</td>\n",
              "      <td>39.8%</td>\n",
              "      <td>36.0</td>\n",
              "      <td>w</td>\n",
              "      <td>0.00</td>\n",
              "      <td>0.00</td>\n",
              "      <td>2645.410000</td>\n",
              "      <td>2645.41</td>\n",
              "      <td>754.24</td>\n",
              "      <td>1891.17</td>\n",
              "      <td>0.0</td>\n",
              "      <td>0.0</td>\n",
              "      <td>0.0</td>\n",
              "      <td>Apr-2019</td>\n",
              "      <td>903.73</td>\n",
              "      <td>NaN</td>\n",
              "      <td>May-2020</td>\n",
              "      <td>0.0</td>\n",
              "      <td>...</td>\n",
              "      <td>16.0</td>\n",
              "      <td>5.0</td>\n",
              "      <td>15.0</td>\n",
              "      <td>0.0</td>\n",
              "      <td>0.0</td>\n",
              "      <td>0.0</td>\n",
              "      <td>1.0</td>\n",
              "      <td>100.0</td>\n",
              "      <td>14.3</td>\n",
              "      <td>1.0</td>\n",
              "      <td>0.0</td>\n",
              "      <td>138354.0</td>\n",
              "      <td>104590.0</td>\n",
              "      <td>36400.0</td>\n",
              "      <td>90854.0</td>\n",
              "      <td>NaN</td>\n",
              "      <td>NaN</td>\n",
              "      <td>NaN</td>\n",
              "      <td>NaN</td>\n",
              "      <td>NaN</td>\n",
              "      <td>NaN</td>\n",
              "      <td>NaN</td>\n",
              "      <td>NaN</td>\n",
              "      <td>NaN</td>\n",
              "      <td>NaN</td>\n",
              "      <td>NaN</td>\n",
              "      <td>N</td>\n",
              "      <td>NaN</td>\n",
              "      <td>NaN</td>\n",
              "      <td>NaN</td>\n",
              "      <td>NaN</td>\n",
              "      <td>NaN</td>\n",
              "      <td>NaN</td>\n",
              "      <td>NaN</td>\n",
              "      <td>NaN</td>\n",
              "      <td>NaN</td>\n",
              "      <td>NaN</td>\n",
              "      <td>NaN</td>\n",
              "      <td>NaN</td>\n",
              "      <td>NaN</td>\n",
              "      <td>NaN</td>\n",
              "      <td>N</td>\n",
              "      <td>NaN</td>\n",
              "      <td>NaN</td>\n",
              "      <td>NaN</td>\n",
              "      <td>NaN</td>\n",
              "      <td>NaN</td>\n",
              "      <td>NaN</td>\n",
              "      <td>2019-04-01</td>\n",
              "      <td>2019.0</td>\n",
              "    </tr>\n",
              "  </tbody>\n",
              "</table>\n",
              "<p>5 rows × 146 columns</p>\n",
              "</div>"
            ],
            "text/plain": [
              "    id  member_id  loan_amnt  funded_amnt  funded_amnt_inv        term  \\\n",
              "0  NaN        NaN    20000.0      20000.0          20000.0   36 months   \n",
              "1  NaN        NaN    16000.0      16000.0          16000.0         NaN   \n",
              "2  NaN        NaN     8425.0       8425.0           8425.0         NaN   \n",
              "3  NaN        NaN    10000.0      10000.0          10000.0   60 months   \n",
              "4  NaN        NaN    30000.0      30000.0          30000.0   60 months   \n",
              "\n",
              "  int_rate  installment grade sub_grade                        emp_title  \\\n",
              "0   14.47%       688.13     C        C2                       bus driver   \n",
              "1   14.47%       550.51     C        C2                        Carpenter   \n",
              "2   27.27%       345.18     E        E5  Senior Director Risk Management   \n",
              "3   12.98%       227.43     B        B5                          Printer   \n",
              "4   26.31%       903.73     E        E4                      Casino Host   \n",
              "\n",
              "  emp_length home_ownership  annual_inc verification_status   issue_d  \\\n",
              "0    4 years            OWN     52000.0     Source Verified  Dec-2018   \n",
              "1  10+ years           RENT    150000.0     Source Verified  Dec-2018   \n",
              "2    3 years       MORTGAGE    450000.0            Verified  Dec-2018   \n",
              "3    9 years           RENT     60000.0        Not Verified  Dec-2018   \n",
              "4  10+ years            OWN     62000.0     Source Verified  Dec-2018   \n",
              "\n",
              "   loan_status pymnt_plan  url  desc             purpose  \\\n",
              "0  Charged Off          n  NaN   NaN  debt_consolidation   \n",
              "1      Current          n  NaN   NaN               other   \n",
              "2   Fully Paid          n  NaN   NaN         credit_card   \n",
              "3      Current          n  NaN   NaN         credit_card   \n",
              "4  Charged Off          n  NaN   NaN  debt_consolidation   \n",
              "\n",
              "                     title zip_code addr_state    dti  delinq_2yrs  \\\n",
              "0       Debt consolidation    681xx         NE  30.65          1.0   \n",
              "1                    Other    917xx         CA  17.94          0.0   \n",
              "2  Credit card refinancing    020xx         MA  12.37          0.0   \n",
              "3  Credit card refinancing    660xx         KS  14.90          0.0   \n",
              "4       Debt consolidation    920xx         CA  37.24          0.0   \n",
              "\n",
              "  earliest_cr_line  inq_last_6mths  mths_since_last_delinq  \\\n",
              "0         Jun-1979             2.0                    15.0   \n",
              "1         Nov-2001             1.0                     NaN   \n",
              "2         Oct-1997             0.0                     NaN   \n",
              "3         May-2007             0.0                     NaN   \n",
              "4         Oct-2007             0.0                     NaN   \n",
              "\n",
              "   mths_since_last_record  open_acc  pub_rec  revol_bal revol_util  total_acc  \\\n",
              "0                     NaN       6.0      0.0    15048.0        73%       22.0   \n",
              "1                     NaN      24.0      0.0    43721.0      59.2%       29.0   \n",
              "2                     NaN      21.0      0.0    36812.0      65.7%       37.0   \n",
              "3                   112.0       7.0      1.0    10677.0      54.2%       12.0   \n",
              "4                    86.0      15.0      1.0    18890.0      39.8%       36.0   \n",
              "\n",
              "  initial_list_status  out_prncp  out_prncp_inv  total_pymnt  total_pymnt_inv  \\\n",
              "0                   w       0.00           0.00  8169.130000          8169.13   \n",
              "1                   w    9726.53        9726.53  8788.870000          8788.87   \n",
              "2                   w       0.00           0.00  8735.148975          8735.15   \n",
              "3                   w    7787.21        7787.21  3805.020000          3805.02   \n",
              "4                   w       0.00           0.00  2645.410000          2645.41   \n",
              "\n",
              "   total_rec_prncp  total_rec_int  total_rec_late_fee  recoveries  \\\n",
              "0          5731.54        2437.59                 0.0         0.0   \n",
              "1          6273.47        2515.40                 0.0         0.0   \n",
              "2          8425.00         310.15                 0.0         0.0   \n",
              "3          2212.79        1592.23                 0.0         0.0   \n",
              "4           754.24        1891.17                 0.0         0.0   \n",
              "\n",
              "   collection_recovery_fee last_pymnt_d  last_pymnt_amnt next_pymnt_d  \\\n",
              "0                      0.0     Feb-2020             0.00          NaN   \n",
              "1                      0.0     May-2020             0.00     Jun-2020   \n",
              "2                      0.0     Feb-2019          8754.30          NaN   \n",
              "3                      0.0     May-2020           227.43     Jun-2020   \n",
              "4                      0.0     Apr-2019           903.73          NaN   \n",
              "\n",
              "  last_credit_pull_d  collections_12_mths_ex_med  ...  num_rev_accts  \\\n",
              "0           Mar-2020                         0.0  ...           14.0   \n",
              "1           May-2020                         0.0  ...           25.0   \n",
              "2           Mar-2020                         0.0  ...           17.0   \n",
              "3           May-2020                         0.0  ...            6.0   \n",
              "4           May-2020                         0.0  ...           16.0   \n",
              "\n",
              "   num_rev_tl_bal_gt_0 num_sats  num_tl_120dpd_2m  num_tl_30dpd  \\\n",
              "0                  4.0      6.0               NaN           0.0   \n",
              "1                 19.0     24.0               0.0           0.0   \n",
              "2                  8.0     21.0               0.0           0.0   \n",
              "3                  5.0      7.0               0.0           0.0   \n",
              "4                  5.0     15.0               0.0           0.0   \n",
              "\n",
              "  num_tl_90g_dpd_24m  num_tl_op_past_12m  pct_tl_nvr_dlq  percent_bc_gt_75  \\\n",
              "0                0.0                 2.0            95.0              50.0   \n",
              "1                0.0                 0.0           100.0              85.7   \n",
              "2                0.0                 2.0           100.0              50.0   \n",
              "3                0.0                 1.0           100.0              33.3   \n",
              "4                0.0                 1.0           100.0              14.3   \n",
              "\n",
              "   pub_rec_bankruptcies  tax_liens  tot_hi_cred_lim  total_bal_ex_mort  \\\n",
              "0                   0.0        0.0          61699.0            33157.0   \n",
              "1                   0.0        0.0         116647.0            57465.0   \n",
              "2                   0.0        0.0         768304.0           189194.0   \n",
              "3                   1.0        0.0          36200.0            27595.0   \n",
              "4                   1.0        0.0         138354.0           104590.0   \n",
              "\n",
              "   total_bc_limit  total_il_high_credit_limit  revol_bal_joint  \\\n",
              "0         20700.0                     40999.0              NaN   \n",
              "1         32100.0                     42847.0              NaN   \n",
              "2         45800.0                    189054.0         141905.0   \n",
              "3         13000.0                     16500.0              NaN   \n",
              "4         36400.0                     90854.0              NaN   \n",
              "\n",
              "   sec_app_earliest_cr_line  sec_app_inq_last_6mths  sec_app_mort_acc  \\\n",
              "0                       NaN                     NaN               NaN   \n",
              "1                       NaN                     NaN               NaN   \n",
              "2                  Jun-2013                     0.0               1.0   \n",
              "3                       NaN                     NaN               NaN   \n",
              "4                       NaN                     NaN               NaN   \n",
              "\n",
              "   sec_app_open_acc  sec_app_revol_util  sec_app_open_act_il  \\\n",
              "0               NaN                 NaN                  NaN   \n",
              "1               NaN                 NaN                  NaN   \n",
              "2               4.0                77.4                  1.0   \n",
              "3               NaN                 NaN                  NaN   \n",
              "4               NaN                 NaN                  NaN   \n",
              "\n",
              "   sec_app_num_rev_accts  sec_app_chargeoff_within_12_mths  \\\n",
              "0                    NaN                               NaN   \n",
              "1                    NaN                               NaN   \n",
              "2                    4.0                               0.0   \n",
              "3                    NaN                               NaN   \n",
              "4                    NaN                               NaN   \n",
              "\n",
              "   sec_app_collections_12_mths_ex_med  sec_app_mths_since_last_major_derog  \\\n",
              "0                                 NaN                                  NaN   \n",
              "1                                 NaN                                  NaN   \n",
              "2                                 0.0                                  NaN   \n",
              "3                                 NaN                                  NaN   \n",
              "4                                 NaN                                  NaN   \n",
              "\n",
              "   hardship_flag  hardship_type  hardship_reason  hardship_status  \\\n",
              "0            NaN            NaN              NaN              NaN   \n",
              "1              N            NaN              NaN              NaN   \n",
              "2              N            NaN              NaN              NaN   \n",
              "3              N            NaN              NaN              NaN   \n",
              "4              N            NaN              NaN              NaN   \n",
              "\n",
              "   deferral_term  hardship_amount  hardship_start_date  hardship_end_date  \\\n",
              "0            NaN           688.13                  NaN                NaN   \n",
              "1            NaN              NaN                  NaN                NaN   \n",
              "2            NaN              NaN                  NaN                NaN   \n",
              "3            NaN              NaN                  NaN                NaN   \n",
              "4            NaN              NaN                  NaN                NaN   \n",
              "\n",
              "   payment_plan_start_date  hardship_length  hardship_dpd  \\\n",
              "0                      NaN              NaN           NaN   \n",
              "1                      NaN              NaN           NaN   \n",
              "2                      NaN              NaN           NaN   \n",
              "3                      NaN              NaN           NaN   \n",
              "4                      NaN              NaN           NaN   \n",
              "\n",
              "   hardship_loan_status  orig_projected_additional_accrued_interest  \\\n",
              "0                   NaN                                         0.0   \n",
              "1                   NaN                                         NaN   \n",
              "2                   NaN                                         NaN   \n",
              "3                   NaN                                         NaN   \n",
              "4                   NaN                                         NaN   \n",
              "\n",
              "   hardship_payoff_balance_amount  hardship_last_payment_amount  \\\n",
              "0                             0.0                        688.13   \n",
              "1                             NaN                           NaN   \n",
              "2                             NaN                           NaN   \n",
              "3                             NaN                           NaN   \n",
              "4                             NaN                           NaN   \n",
              "\n",
              "   debt_settlement_flag  debt_settlement_flag_date  settlement_status  \\\n",
              "0                     N                        NaN                NaN   \n",
              "1                     N                        NaN                NaN   \n",
              "2                     N                        NaN                NaN   \n",
              "3                     N                        NaN                NaN   \n",
              "4                     N                        NaN                NaN   \n",
              "\n",
              "   settlement_date  settlement_amount  settlement_percentage  settlement_term  \\\n",
              "0              NaN                NaN                    NaN              NaN   \n",
              "1              NaN                NaN                    NaN              NaN   \n",
              "2              NaN                NaN                    NaN              NaN   \n",
              "3              NaN                NaN                    NaN              NaN   \n",
              "4              NaN                NaN                    NaN              NaN   \n",
              "\n",
              "   last_pymnt_d_year    year  \n",
              "0         2020-02-01  2020.0  \n",
              "1         2020-05-01  2020.0  \n",
              "2         2019-02-01  2019.0  \n",
              "3         2020-05-01  2020.0  \n",
              "4         2019-04-01  2019.0  \n",
              "\n",
              "[5 rows x 146 columns]"
            ]
          },
          "metadata": {
            "tags": []
          },
          "execution_count": 585
        }
      ]
    },
    {
      "cell_type": "code",
      "metadata": {
        "id": "BI-4XSLXZS9L",
        "colab_type": "code",
        "colab": {
          "base_uri": "https://localhost:8080/",
          "height": 115
        },
        "outputId": "1dc6d139-75fd-4a9e-e69a-c87654e81eb1"
      },
      "source": [
        "df.dtypes[-5:]"
      ],
      "execution_count": 586,
      "outputs": [
        {
          "output_type": "execute_result",
          "data": {
            "text/plain": [
              "settlement_amount               float64\n",
              "settlement_percentage           float64\n",
              "settlement_term                 float64\n",
              "last_pymnt_d_year        datetime64[ns]\n",
              "year                            float64\n",
              "dtype: object"
            ]
          },
          "metadata": {
            "tags": []
          },
          "execution_count": 586
        }
      ]
    },
    {
      "cell_type": "code",
      "metadata": {
        "id": "46u_q93Ia4Pg",
        "colab_type": "code",
        "colab": {
          "base_uri": "https://localhost:8080/",
          "height": 50
        },
        "outputId": "ddc50007-1dc7-4ac7-c6b0-81724949ee44"
      },
      "source": [
        "df['int_rate'].values"
      ],
      "execution_count": 587,
      "outputs": [
        {
          "output_type": "execute_result",
          "data": {
            "text/plain": [
              "array([' 14.47%', ' 14.47%', ' 27.27%', ..., ' 16.91%', nan, nan],\n",
              "      dtype=object)"
            ]
          },
          "metadata": {
            "tags": []
          },
          "execution_count": 587
        }
      ]
    },
    {
      "cell_type": "code",
      "metadata": {
        "id": "QqCPUhjObVSZ",
        "colab_type": "code",
        "colab": {
          "base_uri": "https://localhost:8080/",
          "height": 115
        },
        "outputId": "359cc443-f638-46cd-f04f-0a70748e44d1"
      },
      "source": [
        " df['int_rate'].head()"
      ],
      "execution_count": 581,
      "outputs": [
        {
          "output_type": "execute_result",
          "data": {
            "text/plain": [
              "0     14.47%\n",
              "1     14.47%\n",
              "2     27.27%\n",
              "3     12.98%\n",
              "4     26.31%\n",
              "Name: int_rate, dtype: object"
            ]
          },
          "metadata": {
            "tags": []
          },
          "execution_count": 581
        }
      ]
    },
    {
      "cell_type": "code",
      "metadata": {
        "id": "oW1LlxOzZB-0",
        "colab_type": "code",
        "colab": {
          "base_uri": "https://localhost:8080/",
          "height": 358
        },
        "outputId": "12cba4df-97ba-48ce-ea62-6a335c1f2e29"
      },
      "source": [
        " df[\"emp_title\"].head(20)"
      ],
      "execution_count": 588,
      "outputs": [
        {
          "output_type": "execute_result",
          "data": {
            "text/plain": [
              "0                           bus driver\n",
              "1                            Carpenter\n",
              "2      Senior Director Risk Management\n",
              "3                              Printer\n",
              "4                          Casino Host\n",
              "5                 Help Tech Supervisor\n",
              "6                            Educator \n",
              "7                      Program Manager\n",
              "8                                  NaN\n",
              "9                         Tire builder\n",
              "10                              Driver\n",
              "11                              BANKER\n",
              "12                    Shift Supervisor\n",
              "13                            OPERATOR\n",
              "14          Program Support Assistant \n",
              "15                      Senior manager\n",
              "16                         Haz Mat S/R\n",
              "17    Sr. Vice President -Risk Manager\n",
              "18                             Manager\n",
              "19                  Machinst/Programer\n",
              "Name: emp_title, dtype: object"
            ]
          },
          "metadata": {
            "tags": []
          },
          "execution_count": 588
        }
      ]
    },
    {
      "cell_type": "code",
      "metadata": {
        "id": "Yh8CGSIobILZ",
        "colab_type": "code",
        "colab": {
          "base_uri": "https://localhost:8080/",
          "height": 272
        },
        "outputId": "1c1ad243-f164-487b-f081-fc4ef03900ef"
      },
      "source": [
        " for int_rate in df['int_rate']:\n",
        "  cleaned.append(int_rate_to_float(int_rate))\n",
        "\n",
        "df['int_rate_cleaned'] = pd.Series(cleaned)"
      ],
      "execution_count": 605,
      "outputs": [
        {
          "output_type": "error",
          "ename": "AttributeError",
          "evalue": "ignored",
          "traceback": [
            "\u001b[0;31m---------------------------------------------------------------------------\u001b[0m",
            "\u001b[0;31mAttributeError\u001b[0m                            Traceback (most recent call last)",
            "\u001b[0;32m<ipython-input-605-14c33b760528>\u001b[0m in \u001b[0;36m<module>\u001b[0;34m()\u001b[0m\n\u001b[1;32m      1\u001b[0m \u001b[0;32mfor\u001b[0m \u001b[0mint_rate\u001b[0m \u001b[0;32min\u001b[0m \u001b[0mdf\u001b[0m\u001b[0;34m[\u001b[0m\u001b[0;34m'int_rate'\u001b[0m\u001b[0;34m]\u001b[0m\u001b[0;34m:\u001b[0m\u001b[0;34m\u001b[0m\u001b[0;34m\u001b[0m\u001b[0m\n\u001b[0;32m----> 2\u001b[0;31m  \u001b[0mcleaned\u001b[0m\u001b[0;34m.\u001b[0m\u001b[0mappend\u001b[0m\u001b[0;34m(\u001b[0m\u001b[0mint_rate_to_float\u001b[0m\u001b[0;34m(\u001b[0m\u001b[0mint_rate\u001b[0m\u001b[0;34m)\u001b[0m\u001b[0;34m)\u001b[0m\u001b[0;34m\u001b[0m\u001b[0;34m\u001b[0m\u001b[0m\n\u001b[0m\u001b[1;32m      3\u001b[0m \u001b[0;34m\u001b[0m\u001b[0m\n\u001b[1;32m      4\u001b[0m \u001b[0mdf\u001b[0m\u001b[0;34m[\u001b[0m\u001b[0;34m'int_rate_cleaned'\u001b[0m\u001b[0;34m]\u001b[0m \u001b[0;34m=\u001b[0m \u001b[0mpd\u001b[0m\u001b[0;34m.\u001b[0m\u001b[0mSeries\u001b[0m\u001b[0;34m(\u001b[0m\u001b[0mcleaned\u001b[0m\u001b[0;34m)\u001b[0m\u001b[0;34m\u001b[0m\u001b[0;34m\u001b[0m\u001b[0m\n",
            "\u001b[0;32m<ipython-input-597-f8c354fc3b36>\u001b[0m in \u001b[0;36mint_rate_to_float\u001b[0;34m(dirty_int_rate)\u001b[0m\n\u001b[1;32m      1\u001b[0m \u001b[0;32mdef\u001b[0m \u001b[0mint_rate_to_float\u001b[0m\u001b[0;34m(\u001b[0m\u001b[0mdirty_int_rate\u001b[0m\u001b[0;34m)\u001b[0m\u001b[0;34m:\u001b[0m\u001b[0;34m\u001b[0m\u001b[0;34m\u001b[0m\u001b[0m\n\u001b[0;32m----> 2\u001b[0;31m    \u001b[0;32mreturn\u001b[0m \u001b[0mfloat\u001b[0m\u001b[0;34m(\u001b[0m\u001b[0mdirty_int_rate\u001b[0m\u001b[0;34m.\u001b[0m\u001b[0mstrip\u001b[0m\u001b[0;34m(\u001b[0m\u001b[0;34m)\u001b[0m\u001b[0;34m.\u001b[0m\u001b[0mstrip\u001b[0m\u001b[0;34m(\u001b[0m\u001b[0;34m'%'\u001b[0m\u001b[0;34m)\u001b[0m\u001b[0;34m)\u001b[0m\u001b[0;34m\u001b[0m\u001b[0;34m\u001b[0m\u001b[0m\n\u001b[0m",
            "\u001b[0;31mAttributeError\u001b[0m: 'float' object has no attribute 'strip'"
          ]
        }
      ]
    },
    {
      "cell_type": "code",
      "metadata": {
        "id": "HJEFBWUzdxSy",
        "colab_type": "code",
        "colab": {}
      },
      "source": [
        ""
      ],
      "execution_count": 0,
      "outputs": []
    }
  ]
}