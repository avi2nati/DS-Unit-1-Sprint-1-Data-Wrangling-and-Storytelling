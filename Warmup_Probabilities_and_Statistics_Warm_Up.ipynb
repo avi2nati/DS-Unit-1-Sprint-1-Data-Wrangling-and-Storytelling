{
  "nbformat": 4,
  "nbformat_minor": 0,
  "metadata": {
    "colab": {
      "name": "Copy of Probabilities-and-Statistics-Warm-Up.ipynb",
      "provenance": [],
      "include_colab_link": true
    },
    "kernelspec": {
      "name": "python3",
      "display_name": "Python 3"
    }
  },
  "cells": [
    {
      "cell_type": "markdown",
      "metadata": {
        "id": "view-in-github",
        "colab_type": "text"
      },
      "source": [
        "<a href=\"https://colab.research.google.com/github/avi2nati/DS-Unit-1-Sprint-1-Data-Wrangling-and-Storytelling/blob/master/Warmup_Probabilities_and_Statistics_Warm_Up.ipynb\" target=\"_parent\"><img src=\"https://colab.research.google.com/assets/colab-badge.svg\" alt=\"Open In Colab\"/></a>"
      ]
    },
    {
      "cell_type": "markdown",
      "metadata": {
        "id": "VMoZZRrA6PNT",
        "colab_type": "text"
      },
      "source": [
        "# Probabilities and Statistics Warm-Up\n",
        "---\n",
        "---\n",
        "---\n",
        "\n",
        "In the slack channel recruit a partner, you and your partner should work together from one of your own notebooks. When you're finished PR the completed warm up assignment into your partners repository.\n",
        "\n",
        "## Concepts\n",
        "----\n",
        "\n",
        "Discuss, and answer, the following conceptual questions."
      ]
    },
    {
      "cell_type": "markdown",
      "metadata": {
        "id": "V04MgkqEMuvy",
        "colab_type": "text"
      },
      "source": [
        "#### What is a normal distribution?\n"
      ]
    },
    {
      "cell_type": "markdown",
      "metadata": {
        "id": "ZKkASG0-MyWO",
        "colab_type": "text"
      },
      "source": [
        "**Answer:** The normal distribution is a probability function that describes how the values of a variable are distributed."
      ]
    },
    {
      "cell_type": "markdown",
      "metadata": {
        "id": "kDK7FVrDM1Jy",
        "colab_type": "text"
      },
      "source": [
        ""
      ]
    },
    {
      "cell_type": "markdown",
      "metadata": {
        "id": "Fpsp_p5SKnT3",
        "colab_type": "text"
      },
      "source": [
        "#### What is the difference between descriptive and inferential statistics?"
      ]
    },
    {
      "cell_type": "markdown",
      "metadata": {
        "id": "sv006xPV8IKG",
        "colab_type": "text"
      },
      "source": [
        "**Answer:**\n",
        "<!-- Your answer in the following cell -->"
      ]
    },
    {
      "cell_type": "markdown",
      "metadata": {
        "id": "FXkw5RJR8hdC",
        "colab_type": "text"
      },
      "source": [
        "Descriptive: is describing or classifying in an objective \n",
        "\n",
        "Inferential: makes inferences and predictions about a population based on a sample of data"
      ]
    },
    {
      "cell_type": "markdown",
      "metadata": {
        "id": "OU_2uraV8vrX",
        "colab_type": "text"
      },
      "source": [
        "#### What is a null hypothesis?"
      ]
    },
    {
      "cell_type": "markdown",
      "metadata": {
        "id": "oBq4KPtbJ_zx",
        "colab_type": "text"
      },
      "source": [
        "**Answer:**"
      ]
    },
    {
      "cell_type": "markdown",
      "metadata": {
        "id": "Yaf-xp_uJ_2J",
        "colab_type": "text"
      },
      "source": [
        "is a type of hypothesis used in statistics that proposes that there is no difference between certain characteristics of a population."
      ]
    },
    {
      "cell_type": "markdown",
      "metadata": {
        "id": "3YgiOjQdK8K0",
        "colab_type": "text"
      },
      "source": [
        "#### What is a t-test useful for?"
      ]
    },
    {
      "cell_type": "markdown",
      "metadata": {
        "id": "6VQmENYnLRHc",
        "colab_type": "text"
      },
      "source": [
        "**Answer:**\n",
        "is to determine if there is a significant difference between the means of two groups, which may be related in certain features"
      ]
    },
    {
      "cell_type": "markdown",
      "metadata": {
        "id": "BqH3-4WrLRQX",
        "colab_type": "text"
      },
      "source": [
        "One sample: hypothesis test\n",
        "\n",
        "two sample:"
      ]
    },
    {
      "cell_type": "markdown",
      "metadata": {
        "id": "Zyli6eqPLaTX",
        "colab_type": "text"
      },
      "source": [
        "#### When should you use a 1-tailed vs 2-tailed t-test?"
      ]
    },
    {
      "cell_type": "markdown",
      "metadata": {
        "id": "yHOYPrtyLht6",
        "colab_type": "text"
      },
      "source": [
        "**Answer:**"
      ]
    },
    {
      "cell_type": "markdown",
      "metadata": {
        "id": "GVCNuBCALhwB",
        "colab_type": "text"
      },
      "source": [
        "A one-tailed test is appropriate if you only want to determine if there is a difference between groups in a specific direction.\n",
        "\n",
        "a two-tailed test uses both the positive and negative tails of the distribution. it tests for the possibility of positive or negative differences."
      ]
    },
    {
      "cell_type": "markdown",
      "metadata": {
        "id": "24TFqBInLl0i",
        "colab_type": "text"
      },
      "source": [
        "#### Propose 3 use cases where t-tests could be implemented."
      ]
    },
    {
      "cell_type": "markdown",
      "metadata": {
        "id": "c5NJNzLCLzNk",
        "colab_type": "text"
      },
      "source": [
        "**Answer:**"
      ]
    },
    {
      "cell_type": "markdown",
      "metadata": {
        "id": "fXBI5MO7LzRb",
        "colab_type": "text"
      },
      "source": [
        ""
      ]
    },
    {
      "cell_type": "markdown",
      "metadata": {
        "id": "M-w4QxW0MH82",
        "colab_type": "text"
      },
      "source": [
        "## Code\n",
        "---"
      ]
    },
    {
      "cell_type": "code",
      "metadata": {
        "id": "wO5OK_IYMKR7",
        "colab_type": "code",
        "colab": {}
      },
      "source": [
        "import numpy as np  #  linear algebra\n",
        "import pandas as pd #  data manipulation\n",
        "# pandas config\n",
        "if pd:\n",
        "    pd.set_option('display.max_rows', 500)\n",
        "    pd.set_option('display.max_columns', 500)\n",
        "    pd.set_option('display.width', 1000)\n",
        "from scipy import stats #  statistics\n",
        "\n",
        "#  visualizations\n",
        "import matplotlib.pyplot as plt\n",
        "import seaborn as sns"
      ],
      "execution_count": 0,
      "outputs": []
    },
    {
      "cell_type": "code",
      "metadata": {
        "id": "4c4n6qsyPRUk",
        "colab_type": "code",
        "outputId": "6511087a-e5af-4da4-e668-1642ea5c1074",
        "colab": {
          "base_uri": "https://localhost:8080/",
          "height": 293
        }
      },
      "source": [
        "parties = [\"republican\", \"democrat\"]\n",
        "\n",
        "issues = [\"handicapped-infants\",\n",
        "          \"water-project-cost-sharing\",\n",
        "          \"adoption-of-the-budget-resolution\",\n",
        "          \"physician-fee-freeze\",\n",
        "          \"el-salvador-aid\",\n",
        "          \"religious-groups-in-schools\",\n",
        "          \"anti-satellite-test-ban\",\n",
        "          \"aid-to-nicaraguan-contras\",\n",
        "          \"mx-missile\",\n",
        "          \"immigration\",\n",
        "          \"synfuels-corporation-cutback\", \n",
        "          \"education-spending\",\n",
        "          \"superfund-right-to-sue\",\n",
        "          \"crime\",\n",
        "          \"duty-free-exports\", \n",
        "          \"export-administration-act-south-africa\", #  <-- While not required placing a comma here can be helpful when going back and ammending / adding to your code \n",
        "         ]\n",
        "\n",
        "columns = [\"party\"] + issues\n",
        "\n",
        "columns"
      ],
      "execution_count": 37,
      "outputs": [
        {
          "output_type": "execute_result",
          "data": {
            "text/plain": [
              "['party',\n",
              " 'handicapped-infants',\n",
              " 'water-project-cost-sharing',\n",
              " 'adoption-of-the-budget-resolution',\n",
              " 'physician-fee-freeze',\n",
              " 'el-salvador-aid',\n",
              " 'religious-groups-in-schools',\n",
              " 'anti-satellite-test-ban',\n",
              " 'aid-to-nicaraguan-contras',\n",
              " 'mx-missile',\n",
              " 'immigration',\n",
              " 'synfuels-corporation-cutback',\n",
              " 'education-spending',\n",
              " 'superfund-right-to-sue',\n",
              " 'crime',\n",
              " 'duty-free-exports',\n",
              " 'export-administration-act-south-africa']"
            ]
          },
          "metadata": {
            "tags": []
          },
          "execution_count": 37
        }
      ]
    },
    {
      "cell_type": "code",
      "metadata": {
        "id": "HZUk63LKQDK6",
        "colab_type": "code",
        "outputId": "9157e1ec-681a-468b-ddce-7278bec248b7",
        "colab": {
          "base_uri": "https://localhost:8080/",
          "height": 240
        }
      },
      "source": [
        "# Loading the data\n",
        "uci = \"https://archive.ics.uci.edu/ml/machine-learning-databases\"\n",
        "data = \"/voting-records/house-votes-84.data\"\n",
        "url = uci+'/'+data\n",
        "df = pd.read_csv(url,header=None,names=columns)\n",
        "df.head()"
      ],
      "execution_count": 38,
      "outputs": [
        {
          "output_type": "execute_result",
          "data": {
            "text/html": [
              "<div>\n",
              "<style scoped>\n",
              "    .dataframe tbody tr th:only-of-type {\n",
              "        vertical-align: middle;\n",
              "    }\n",
              "\n",
              "    .dataframe tbody tr th {\n",
              "        vertical-align: top;\n",
              "    }\n",
              "\n",
              "    .dataframe thead th {\n",
              "        text-align: right;\n",
              "    }\n",
              "</style>\n",
              "<table border=\"1\" class=\"dataframe\">\n",
              "  <thead>\n",
              "    <tr style=\"text-align: right;\">\n",
              "      <th></th>\n",
              "      <th>party</th>\n",
              "      <th>handicapped-infants</th>\n",
              "      <th>water-project-cost-sharing</th>\n",
              "      <th>adoption-of-the-budget-resolution</th>\n",
              "      <th>physician-fee-freeze</th>\n",
              "      <th>el-salvador-aid</th>\n",
              "      <th>religious-groups-in-schools</th>\n",
              "      <th>anti-satellite-test-ban</th>\n",
              "      <th>aid-to-nicaraguan-contras</th>\n",
              "      <th>mx-missile</th>\n",
              "      <th>immigration</th>\n",
              "      <th>synfuels-corporation-cutback</th>\n",
              "      <th>education-spending</th>\n",
              "      <th>superfund-right-to-sue</th>\n",
              "      <th>crime</th>\n",
              "      <th>duty-free-exports</th>\n",
              "      <th>export-administration-act-south-africa</th>\n",
              "    </tr>\n",
              "  </thead>\n",
              "  <tbody>\n",
              "    <tr>\n",
              "      <th>0</th>\n",
              "      <td>republican</td>\n",
              "      <td>n</td>\n",
              "      <td>y</td>\n",
              "      <td>n</td>\n",
              "      <td>y</td>\n",
              "      <td>y</td>\n",
              "      <td>y</td>\n",
              "      <td>n</td>\n",
              "      <td>n</td>\n",
              "      <td>n</td>\n",
              "      <td>y</td>\n",
              "      <td>?</td>\n",
              "      <td>y</td>\n",
              "      <td>y</td>\n",
              "      <td>y</td>\n",
              "      <td>n</td>\n",
              "      <td>y</td>\n",
              "    </tr>\n",
              "    <tr>\n",
              "      <th>1</th>\n",
              "      <td>republican</td>\n",
              "      <td>n</td>\n",
              "      <td>y</td>\n",
              "      <td>n</td>\n",
              "      <td>y</td>\n",
              "      <td>y</td>\n",
              "      <td>y</td>\n",
              "      <td>n</td>\n",
              "      <td>n</td>\n",
              "      <td>n</td>\n",
              "      <td>n</td>\n",
              "      <td>n</td>\n",
              "      <td>y</td>\n",
              "      <td>y</td>\n",
              "      <td>y</td>\n",
              "      <td>n</td>\n",
              "      <td>?</td>\n",
              "    </tr>\n",
              "    <tr>\n",
              "      <th>2</th>\n",
              "      <td>democrat</td>\n",
              "      <td>?</td>\n",
              "      <td>y</td>\n",
              "      <td>y</td>\n",
              "      <td>?</td>\n",
              "      <td>y</td>\n",
              "      <td>y</td>\n",
              "      <td>n</td>\n",
              "      <td>n</td>\n",
              "      <td>n</td>\n",
              "      <td>n</td>\n",
              "      <td>y</td>\n",
              "      <td>n</td>\n",
              "      <td>y</td>\n",
              "      <td>y</td>\n",
              "      <td>n</td>\n",
              "      <td>n</td>\n",
              "    </tr>\n",
              "    <tr>\n",
              "      <th>3</th>\n",
              "      <td>democrat</td>\n",
              "      <td>n</td>\n",
              "      <td>y</td>\n",
              "      <td>y</td>\n",
              "      <td>n</td>\n",
              "      <td>?</td>\n",
              "      <td>y</td>\n",
              "      <td>n</td>\n",
              "      <td>n</td>\n",
              "      <td>n</td>\n",
              "      <td>n</td>\n",
              "      <td>y</td>\n",
              "      <td>n</td>\n",
              "      <td>y</td>\n",
              "      <td>n</td>\n",
              "      <td>n</td>\n",
              "      <td>y</td>\n",
              "    </tr>\n",
              "    <tr>\n",
              "      <th>4</th>\n",
              "      <td>democrat</td>\n",
              "      <td>y</td>\n",
              "      <td>y</td>\n",
              "      <td>y</td>\n",
              "      <td>n</td>\n",
              "      <td>y</td>\n",
              "      <td>y</td>\n",
              "      <td>n</td>\n",
              "      <td>n</td>\n",
              "      <td>n</td>\n",
              "      <td>n</td>\n",
              "      <td>y</td>\n",
              "      <td>?</td>\n",
              "      <td>y</td>\n",
              "      <td>y</td>\n",
              "      <td>y</td>\n",
              "      <td>y</td>\n",
              "    </tr>\n",
              "  </tbody>\n",
              "</table>\n",
              "</div>"
            ],
            "text/plain": [
              "        party handicapped-infants water-project-cost-sharing adoption-of-the-budget-resolution physician-fee-freeze el-salvador-aid religious-groups-in-schools anti-satellite-test-ban aid-to-nicaraguan-contras mx-missile immigration synfuels-corporation-cutback education-spending superfund-right-to-sue crime duty-free-exports export-administration-act-south-africa\n",
              "0  republican                   n                          y                                 n                    y               y                           y                       n                         n          n           y                            ?                  y                      y     y                 n                                      y\n",
              "1  republican                   n                          y                                 n                    y               y                           y                       n                         n          n           n                            n                  y                      y     y                 n                                      ?\n",
              "2    democrat                   ?                          y                                 y                    ?               y                           y                       n                         n          n           n                            y                  n                      y     y                 n                                      n\n",
              "3    democrat                   n                          y                                 y                    n               ?                           y                       n                         n          n           n                            y                  n                      y     n                 n                                      y\n",
              "4    democrat                   y                          y                                 y                    n               y                           y                       n                         n          n           n                            y                  ?                      y     y                 y                                      y"
            ]
          },
          "metadata": {
            "tags": []
          },
          "execution_count": 38
        }
      ]
    },
    {
      "cell_type": "code",
      "metadata": {
        "id": "gj8n4ulzb76V",
        "colab_type": "code",
        "colab": {
          "base_uri": "https://localhost:8080/",
          "height": 240
        },
        "outputId": "9bc08da5-48a7-4276-f39e-03d1bbcb2335"
      },
      "source": [
        "# Replace the entries in the dataframe so y = 1 , n = 0 , and ? = np.NaN\n",
        "\n",
        "df = df.replace({'?':np.NaN, 'n':0, 'y':1})\n",
        "df = df.replace({'y':1, 'n':0, '?':np.NaN})\n",
        "df.head()"
      ],
      "execution_count": 39,
      "outputs": [
        {
          "output_type": "execute_result",
          "data": {
            "text/html": [
              "<div>\n",
              "<style scoped>\n",
              "    .dataframe tbody tr th:only-of-type {\n",
              "        vertical-align: middle;\n",
              "    }\n",
              "\n",
              "    .dataframe tbody tr th {\n",
              "        vertical-align: top;\n",
              "    }\n",
              "\n",
              "    .dataframe thead th {\n",
              "        text-align: right;\n",
              "    }\n",
              "</style>\n",
              "<table border=\"1\" class=\"dataframe\">\n",
              "  <thead>\n",
              "    <tr style=\"text-align: right;\">\n",
              "      <th></th>\n",
              "      <th>party</th>\n",
              "      <th>handicapped-infants</th>\n",
              "      <th>water-project-cost-sharing</th>\n",
              "      <th>adoption-of-the-budget-resolution</th>\n",
              "      <th>physician-fee-freeze</th>\n",
              "      <th>el-salvador-aid</th>\n",
              "      <th>religious-groups-in-schools</th>\n",
              "      <th>anti-satellite-test-ban</th>\n",
              "      <th>aid-to-nicaraguan-contras</th>\n",
              "      <th>mx-missile</th>\n",
              "      <th>immigration</th>\n",
              "      <th>synfuels-corporation-cutback</th>\n",
              "      <th>education-spending</th>\n",
              "      <th>superfund-right-to-sue</th>\n",
              "      <th>crime</th>\n",
              "      <th>duty-free-exports</th>\n",
              "      <th>export-administration-act-south-africa</th>\n",
              "    </tr>\n",
              "  </thead>\n",
              "  <tbody>\n",
              "    <tr>\n",
              "      <th>0</th>\n",
              "      <td>republican</td>\n",
              "      <td>0.0</td>\n",
              "      <td>1.0</td>\n",
              "      <td>0.0</td>\n",
              "      <td>1.0</td>\n",
              "      <td>1.0</td>\n",
              "      <td>1.0</td>\n",
              "      <td>0.0</td>\n",
              "      <td>0.0</td>\n",
              "      <td>0.0</td>\n",
              "      <td>1.0</td>\n",
              "      <td>NaN</td>\n",
              "      <td>1.0</td>\n",
              "      <td>1.0</td>\n",
              "      <td>1.0</td>\n",
              "      <td>0.0</td>\n",
              "      <td>1.0</td>\n",
              "    </tr>\n",
              "    <tr>\n",
              "      <th>1</th>\n",
              "      <td>republican</td>\n",
              "      <td>0.0</td>\n",
              "      <td>1.0</td>\n",
              "      <td>0.0</td>\n",
              "      <td>1.0</td>\n",
              "      <td>1.0</td>\n",
              "      <td>1.0</td>\n",
              "      <td>0.0</td>\n",
              "      <td>0.0</td>\n",
              "      <td>0.0</td>\n",
              "      <td>0.0</td>\n",
              "      <td>0.0</td>\n",
              "      <td>1.0</td>\n",
              "      <td>1.0</td>\n",
              "      <td>1.0</td>\n",
              "      <td>0.0</td>\n",
              "      <td>NaN</td>\n",
              "    </tr>\n",
              "    <tr>\n",
              "      <th>2</th>\n",
              "      <td>democrat</td>\n",
              "      <td>NaN</td>\n",
              "      <td>1.0</td>\n",
              "      <td>1.0</td>\n",
              "      <td>NaN</td>\n",
              "      <td>1.0</td>\n",
              "      <td>1.0</td>\n",
              "      <td>0.0</td>\n",
              "      <td>0.0</td>\n",
              "      <td>0.0</td>\n",
              "      <td>0.0</td>\n",
              "      <td>1.0</td>\n",
              "      <td>0.0</td>\n",
              "      <td>1.0</td>\n",
              "      <td>1.0</td>\n",
              "      <td>0.0</td>\n",
              "      <td>0.0</td>\n",
              "    </tr>\n",
              "    <tr>\n",
              "      <th>3</th>\n",
              "      <td>democrat</td>\n",
              "      <td>0.0</td>\n",
              "      <td>1.0</td>\n",
              "      <td>1.0</td>\n",
              "      <td>0.0</td>\n",
              "      <td>NaN</td>\n",
              "      <td>1.0</td>\n",
              "      <td>0.0</td>\n",
              "      <td>0.0</td>\n",
              "      <td>0.0</td>\n",
              "      <td>0.0</td>\n",
              "      <td>1.0</td>\n",
              "      <td>0.0</td>\n",
              "      <td>1.0</td>\n",
              "      <td>0.0</td>\n",
              "      <td>0.0</td>\n",
              "      <td>1.0</td>\n",
              "    </tr>\n",
              "    <tr>\n",
              "      <th>4</th>\n",
              "      <td>democrat</td>\n",
              "      <td>1.0</td>\n",
              "      <td>1.0</td>\n",
              "      <td>1.0</td>\n",
              "      <td>0.0</td>\n",
              "      <td>1.0</td>\n",
              "      <td>1.0</td>\n",
              "      <td>0.0</td>\n",
              "      <td>0.0</td>\n",
              "      <td>0.0</td>\n",
              "      <td>0.0</td>\n",
              "      <td>1.0</td>\n",
              "      <td>NaN</td>\n",
              "      <td>1.0</td>\n",
              "      <td>1.0</td>\n",
              "      <td>1.0</td>\n",
              "      <td>1.0</td>\n",
              "    </tr>\n",
              "  </tbody>\n",
              "</table>\n",
              "</div>"
            ],
            "text/plain": [
              "        party  handicapped-infants  water-project-cost-sharing  adoption-of-the-budget-resolution  physician-fee-freeze  el-salvador-aid  religious-groups-in-schools  anti-satellite-test-ban  aid-to-nicaraguan-contras  mx-missile  immigration  synfuels-corporation-cutback  education-spending  superfund-right-to-sue  crime  duty-free-exports  export-administration-act-south-africa\n",
              "0  republican                  0.0                         1.0                                0.0                   1.0              1.0                          1.0                      0.0                        0.0         0.0          1.0                           NaN                 1.0                     1.0    1.0                0.0                                     1.0\n",
              "1  republican                  0.0                         1.0                                0.0                   1.0              1.0                          1.0                      0.0                        0.0         0.0          0.0                           0.0                 1.0                     1.0    1.0                0.0                                     NaN\n",
              "2    democrat                  NaN                         1.0                                1.0                   NaN              1.0                          1.0                      0.0                        0.0         0.0          0.0                           1.0                 0.0                     1.0    1.0                0.0                                     0.0\n",
              "3    democrat                  0.0                         1.0                                1.0                   0.0              NaN                          1.0                      0.0                        0.0         0.0          0.0                           1.0                 0.0                     1.0    0.0                0.0                                     1.0\n",
              "4    democrat                  1.0                         1.0                                1.0                   0.0              1.0                          1.0                      0.0                        0.0         0.0          0.0                           1.0                 NaN                     1.0    1.0                1.0                                     1.0"
            ]
          },
          "metadata": {
            "tags": []
          },
          "execution_count": 39
        }
      ]
    },
    {
      "cell_type": "code",
      "metadata": {
        "id": "tYYNF-9mVliG",
        "colab_type": "code",
        "outputId": "cd462392-8ae8-44a6-f8a5-d645c546c911",
        "colab": {
          "base_uri": "https://localhost:8080/",
          "height": 33
        }
      },
      "source": [
        "# Create seperate dataframes for republicans and democrats by slicing the above dataframe.\n",
        "\n",
        "republicans = df[df['party'] == 'republican']\n",
        "democrats = df[df['party'] == 'democrat']\n",
        "\n",
        "print(len(republicans), len(democrats))"
      ],
      "execution_count": 40,
      "outputs": [
        {
          "output_type": "stream",
          "text": [
            "168 267\n"
          ],
          "name": "stdout"
        }
      ]
    },
    {
      "cell_type": "code",
      "metadata": {
        "id": "GCUrrB23Wn8i",
        "colab_type": "code",
        "colab": {}
      },
      "source": [
        "# Define a function to compare the means between both parties\n",
        "\n",
        "def compare_means(issues):\n",
        "    \"\"\"Compares the means of both parties for each issue\"\"\"\n",
        "    for issue in issues:\n",
        "        mean_dems = democrats[issue].mean()\n",
        "        mean_reps = republicans[issue].mean()\n",
        "        banner_length = \"-\"*len(issue)\n",
        "\n",
        "        print(f\"\"\"\n",
        "        Issue ({issue})\n",
        "        -------{banner_length}-\n",
        "\n",
        "          Democrat voting mean: {mean_dems:.05f}\n",
        "        Republican voting mean: {mean_reps:.05f}\n",
        "        \"\"\")"
      ],
      "execution_count": 0,
      "outputs": []
    },
    {
      "cell_type": "code",
      "metadata": {
        "id": "fZ1LPNjYXujj",
        "colab_type": "code",
        "colab": {
          "base_uri": "https://localhost:8080/",
          "height": 1000
        },
        "outputId": "fa7caf12-7ad2-4a78-acde-63a8e8d608ed"
      },
      "source": [
        "compare_means(issues=issues)"
      ],
      "execution_count": 42,
      "outputs": [
        {
          "output_type": "stream",
          "text": [
            "\n",
            "        Issue (handicapped-infants)\n",
            "        ---------------------------\n",
            "\n",
            "          Democrat voting mean: 0.60465\n",
            "        Republican voting mean: 0.18788\n",
            "        \n",
            "\n",
            "        Issue (water-project-cost-sharing)\n",
            "        ----------------------------------\n",
            "\n",
            "          Democrat voting mean: 0.50209\n",
            "        Republican voting mean: 0.50676\n",
            "        \n",
            "\n",
            "        Issue (adoption-of-the-budget-resolution)\n",
            "        -----------------------------------------\n",
            "\n",
            "          Democrat voting mean: 0.88846\n",
            "        Republican voting mean: 0.13415\n",
            "        \n",
            "\n",
            "        Issue (physician-fee-freeze)\n",
            "        ----------------------------\n",
            "\n",
            "          Democrat voting mean: 0.05405\n",
            "        Republican voting mean: 0.98788\n",
            "        \n",
            "\n",
            "        Issue (el-salvador-aid)\n",
            "        -----------------------\n",
            "\n",
            "          Democrat voting mean: 0.21569\n",
            "        Republican voting mean: 0.95152\n",
            "        \n",
            "\n",
            "        Issue (religious-groups-in-schools)\n",
            "        -----------------------------------\n",
            "\n",
            "          Democrat voting mean: 0.47674\n",
            "        Republican voting mean: 0.89759\n",
            "        \n",
            "\n",
            "        Issue (anti-satellite-test-ban)\n",
            "        -------------------------------\n",
            "\n",
            "          Democrat voting mean: 0.77220\n",
            "        Republican voting mean: 0.24074\n",
            "        \n",
            "\n",
            "        Issue (aid-to-nicaraguan-contras)\n",
            "        ---------------------------------\n",
            "\n",
            "          Democrat voting mean: 0.82890\n",
            "        Republican voting mean: 0.15287\n",
            "        \n",
            "\n",
            "        Issue (mx-missile)\n",
            "        ------------------\n",
            "\n",
            "          Democrat voting mean: 0.75806\n",
            "        Republican voting mean: 0.11515\n",
            "        \n",
            "\n",
            "        Issue (immigration)\n",
            "        -------------------\n",
            "\n",
            "          Democrat voting mean: 0.47148\n",
            "        Republican voting mean: 0.55758\n",
            "        \n",
            "\n",
            "        Issue (synfuels-corporation-cutback)\n",
            "        ------------------------------------\n",
            "\n",
            "          Democrat voting mean: 0.50588\n",
            "        Republican voting mean: 0.13208\n",
            "        \n",
            "\n",
            "        Issue (education-spending)\n",
            "        --------------------------\n",
            "\n",
            "          Democrat voting mean: 0.14458\n",
            "        Republican voting mean: 0.87097\n",
            "        \n",
            "\n",
            "        Issue (superfund-right-to-sue)\n",
            "        ------------------------------\n",
            "\n",
            "          Democrat voting mean: 0.28968\n",
            "        Republican voting mean: 0.86076\n",
            "        \n",
            "\n",
            "        Issue (crime)\n",
            "        -------------\n",
            "\n",
            "          Democrat voting mean: 0.35019\n",
            "        Republican voting mean: 0.98137\n",
            "        \n",
            "\n",
            "        Issue (duty-free-exports)\n",
            "        -------------------------\n",
            "\n",
            "          Democrat voting mean: 0.63745\n",
            "        Republican voting mean: 0.08974\n",
            "        \n",
            "\n",
            "        Issue (export-administration-act-south-africa)\n",
            "        ----------------------------------------------\n",
            "\n",
            "          Democrat voting mean: 0.93514\n",
            "        Republican voting mean: 0.65753\n",
            "        \n"
          ],
          "name": "stdout"
        }
      ]
    },
    {
      "cell_type": "code",
      "metadata": {
        "id": "Egg9KD8aXyXL",
        "colab_type": "code",
        "colab": {}
      },
      "source": [
        "# Add the two sample t-test to the function\n",
        "\n",
        "def compare_parties(issues):\n",
        "    \"\"\"Compares the means of both parties for each issue\n",
        "\n",
        "    Returns\n",
        "    -------\n",
        "\n",
        "        Prints to stdout the mean support for each party on each issue and the\n",
        "        results of 2 tailed t-test.    \n",
        "    \"\"\"\n",
        "    for issue in issues:\n",
        "        mean_dems = democrats[issue].mean()\n",
        "        mean_reps = republicans[issue].mean()\n",
        "        \n",
        "        ttest_2samp = stats.ttest.ind(democrats['issue'],republicans['issue'],NaN_policy='omit')\n",
        "        \n",
        "        sep = \"--------\" + \"-\"*len(issue)+\"-\"\n",
        "\n",
        "        print(f\"\"\"\n",
        "        Issue ({issue})\n",
        "        {sep}\n",
        "\n",
        "          Democrat voting mean: {mean_dems:.05f}\n",
        "        Republican voting mean: {mean_reps:.05f}\n",
        "                t-test results: {ttest_2samp}\n",
        "        \n",
        "        {sep}\n",
        "        \"\"\")\n"
      ],
      "execution_count": 0,
      "outputs": []
    },
    {
      "cell_type": "code",
      "metadata": {
        "id": "ULhVpYs2ZXXe",
        "colab_type": "code",
        "colab": {
          "base_uri": "https://localhost:8080/",
          "height": 272
        },
        "outputId": "23767030-4053-42f4-c305-bd1dd126dc53"
      },
      "source": [
        "compare_parties(issues=issues)"
      ],
      "execution_count": 54,
      "outputs": [
        {
          "output_type": "error",
          "ename": "AttributeError",
          "evalue": "ignored",
          "traceback": [
            "\u001b[0;31m---------------------------------------------------------------------------\u001b[0m",
            "\u001b[0;31mAttributeError\u001b[0m                            Traceback (most recent call last)",
            "\u001b[0;32m<ipython-input-54-4711dc5f4918>\u001b[0m in \u001b[0;36m<module>\u001b[0;34m()\u001b[0m\n\u001b[0;32m----> 1\u001b[0;31m \u001b[0mcompare_parties\u001b[0m\u001b[0;34m(\u001b[0m\u001b[0missues\u001b[0m\u001b[0;34m=\u001b[0m\u001b[0missues\u001b[0m\u001b[0;34m)\u001b[0m\u001b[0;34m\u001b[0m\u001b[0;34m\u001b[0m\u001b[0m\n\u001b[0m",
            "\u001b[0;32m<ipython-input-53-12ec35fa422e>\u001b[0m in \u001b[0;36mcompare_parties\u001b[0;34m(issues)\u001b[0m\n\u001b[1;32m     14\u001b[0m         \u001b[0mmean_reps\u001b[0m \u001b[0;34m=\u001b[0m \u001b[0mrepublicans\u001b[0m\u001b[0;34m[\u001b[0m\u001b[0missue\u001b[0m\u001b[0;34m]\u001b[0m\u001b[0;34m.\u001b[0m\u001b[0mmean\u001b[0m\u001b[0;34m(\u001b[0m\u001b[0;34m)\u001b[0m\u001b[0;34m\u001b[0m\u001b[0;34m\u001b[0m\u001b[0m\n\u001b[1;32m     15\u001b[0m \u001b[0;34m\u001b[0m\u001b[0m\n\u001b[0;32m---> 16\u001b[0;31m         \u001b[0mttest_2samp\u001b[0m \u001b[0;34m=\u001b[0m \u001b[0mstats\u001b[0m\u001b[0;34m.\u001b[0m\u001b[0mttest\u001b[0m\u001b[0;34m.\u001b[0m\u001b[0mind\u001b[0m\u001b[0;34m(\u001b[0m\u001b[0mdemocrats\u001b[0m\u001b[0;34m[\u001b[0m\u001b[0;34m'issue'\u001b[0m\u001b[0;34m]\u001b[0m\u001b[0;34m,\u001b[0m\u001b[0mrepublicans\u001b[0m\u001b[0;34m[\u001b[0m\u001b[0;34m'issue'\u001b[0m\u001b[0;34m]\u001b[0m\u001b[0;34m,\u001b[0m\u001b[0mNaN_policy\u001b[0m\u001b[0;34m=\u001b[0m\u001b[0;34m'omit'\u001b[0m\u001b[0;34m)\u001b[0m\u001b[0;34m\u001b[0m\u001b[0;34m\u001b[0m\u001b[0m\n\u001b[0m\u001b[1;32m     17\u001b[0m \u001b[0;34m\u001b[0m\u001b[0m\n\u001b[1;32m     18\u001b[0m         \u001b[0msep\u001b[0m \u001b[0;34m=\u001b[0m \u001b[0;34m\"--------\"\u001b[0m \u001b[0;34m+\u001b[0m \u001b[0;34m\"-\"\u001b[0m\u001b[0;34m*\u001b[0m\u001b[0mlen\u001b[0m\u001b[0;34m(\u001b[0m\u001b[0missue\u001b[0m\u001b[0;34m)\u001b[0m\u001b[0;34m+\u001b[0m\u001b[0;34m\"-\"\u001b[0m\u001b[0;34m\u001b[0m\u001b[0;34m\u001b[0m\u001b[0m\n",
            "\u001b[0;31mAttributeError\u001b[0m: module 'scipy.stats' has no attribute 'ttest'"
          ]
        }
      ]
    }
  ]
}